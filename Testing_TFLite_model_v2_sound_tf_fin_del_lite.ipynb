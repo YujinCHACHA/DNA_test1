{
  "cells": [
    {
      "cell_type": "markdown",
      "metadata": {
        "id": "view-in-github",
        "colab_type": "text"
      },
      "source": [
        "<a href=\"https://colab.research.google.com/github/YujinCHACHA/DNA_test1/blob/main/Testing_TFLite_model_v2_sound_tf_fin_del_lite.ipynb\" target=\"_parent\"><img src=\"https://colab.research.google.com/assets/colab-badge.svg\" alt=\"Open In Colab\"/></a>"
      ]
    },
    {
      "cell_type": "markdown",
      "metadata": {
        "id": "CKFUvuEho9Th"
      },
      "source": [
        "# Testing TensorFlow Lite models\n",
        "\n",
        "This notebooks shows some ways for debugging TensorFlow Lite models and comparing them with the original implementations in TensorFlow.\n",
        "\n",
        "For more details, take a look at blog posts:\n",
        "\n",
        "- [Testing TensorFlow Lite image classification model](https://thinkmobile.dev/testing-tensorflow-lite-image-classification-model/) - converting TensorFlow to TensorFlow Lite and comparing models side by side.\n",
        "- [Automate testing of TensorFlow Lite model implementation](https://thinkmobile.dev/automate-testing-of-tensorflow-lite-model-implementation/) - Testing TensorFlow Lite model on Android app with Espresso and instrumented tests."
      ]
    },
    {
      "cell_type": "markdown",
      "metadata": {
        "id": "bppPn2X_N2hN"
      },
      "source": [
        "<TensorFlow Lite 모델 테스트>\n",
        "\n",
        "이 노트북은 TensorFlow Lite 모델을 디버깅하고 이를 TensorFlow의 원래 구현과 비교하는 몇 가지 방법을 보여줍니다.\n",
        "\n",
        "자세한 내용은 블로그 게시물을 참조하세요.\n",
        "\n",
        "- [TensorFlow Lite 이미지 분류 모델 테스트](https://thinkmobile.dev/testing-tensorflow-lite-image-classification-model/) - TensorFlow를 TensorFlow Lite로 변환하고 모델을 나란히 비교합니다.\n",
        "- [TensorFlow Lite 모델 구현 테스트 자동화](https://thinkmobile.dev/automate-testing-of-tensorflow-lite-model-implementation/) - Espresso 및 계측 테스트를 사용하여 Android 앱에서 TensorFlow Lite 모델 테스트."
      ]
    },
    {
      "cell_type": "markdown",
      "metadata": {
        "id": "DtarLRYLEgUE"
      },
      "source": [
        "### How accurate is this notebook?\n",
        "\n",
        "It's worth to mention, that this notebook shows just some basic ideas for eye-comparison between TensorFlow and TensorFlow Lite models. It doesn't check them for speed and any other factor of performance and doesn't do any accurate side-by-side comparison. But still can be helpful with answering the question \"why a model implemented on the app doesn't work the same like on notebook?\"."
      ]
    },
    {
      "cell_type": "markdown",
      "metadata": {
        "id": "FJt1SRakN2hS"
      },
      "source": [
        "--이 노트는 얼마나 정확합니까?\n",
        "\n",
        "이 노트북은 TensorFlow와 TensorFlow Lite 모델 간의 눈 비교를 위한 몇 가지 기본 아이디어만 보여줍니다. 속도 및 기타 성능 요인을 확인하지 않으며 정확한 나란히 비교도 수행하지 않습니다. 그러나 \"앱에 구현된 모델이 노트북에서와 같이 작동하지 않는 이유는 무엇입니까?\"라는 질문에 답하는 데 여전히 도움이 될 수 있습니다."
      ]
    },
    {
      "cell_type": "markdown",
      "metadata": {
        "id": "n1bgQLCCEcP5"
      },
      "source": [
        "## TensorFlow 2.0 and Colaboratory\n",
        "\n",
        "This notebook can be executed in Colaboratory. It requires some changes to make it working on Docker environment described in linked blog post.\n",
        "\n",
        "Examples presented in this notebook are built on top of TensorFlow 2.0 stable version.\n",
        "\n",
        "### GPU support\n",
        "The good thing about Colab is that it supports GPU envinronment without additional work. Just open **Runtime -> Change runtime type** and make sure that GPU is selected. The training process of this notebook should be about 3 times faster than on CPU env."
      ]
    },
    {
      "cell_type": "markdown",
      "metadata": {
        "id": "zZtr_Lo_N2hW"
      },
      "source": [
        "-TensorFlow 2.0 및 Colaboratory\n",
        "\n",
        "이 노트북은 Colaboratory에서 실행할 수 있습니다. 링크된 블로그 게시물에 설명된 Docker 환경에서 작동하려면 약간의 변경이 필요합니다.\n",
        "\n",
        "이 노트북에 제시된 예제는 TensorFlow 2.0 안정 버전을 기반으로 구축되었습니다.\n",
        "\n",
        "--GPU 지원\n",
        "Colab의 좋은 점은 추가 작업 없이 GPU 환경을 지원한다는 것입니다. **런타임 -> 런타임 유형 변경**을 열고 GPU가 선택되어 있는지 확인하십시오. 이 노트북의 훈련 과정은 CPU 환경보다 약 3배 빨라야 합니다."
      ]
    },
    {
      "cell_type": "code",
      "execution_count": null,
      "metadata": {
        "id": "aAfFB-e2N2hZ"
      },
      "outputs": [],
      "source": [
        "'''import os, re, glob\n",
        "import cv2\n",
        "import numpy as np\n",
        "from sklearn.model_selection import train_test_split\n",
        " \n",
        "groups_folder_path = './cnn_sample/'\n",
        "categories = [\"0\", \"1\", \"2\", \"3\", \"4\", \"5\", \"6\", \"7\", \"8\", \"9\",\n",
        "              \"A\", \"C\", \"D\", \"E\", \"F\", \"H\", \"J\",\"K\", \"L\", \"M\",\n",
        "              \"N\", \"R\", \"S\", \"T\", \"X\", \"Y\", \"Z\"]\n",
        "\n",
        "num_classes = len(categories)\n",
        " \n",
        "image_w = 28\n",
        "image_h = 28\n",
        " \n",
        "X = []\n",
        "Y = []\n",
        " \n",
        "for idex, categorie in enumerate(categories):\n",
        "    label = [0 for i in range(num_classes)]\n",
        "    label[idex] = 1\n",
        "    image_dir = groups_folder_path + categorie + '/'\n",
        " \n",
        "    for top, dir, f in os.walk(image_dir):\n",
        "        for filename in f:\n",
        "            print(image_dir+filename)\n",
        "            img = cv2.imread(image_dir+filename)\n",
        "            img = cv2.resize(img, None, fx=image_w/img.shape[1], fy=image_h/img.shape[0])\n",
        "            X.append(img/256)\n",
        "            Y.append(label)\n",
        "\n",
        "X = np.array(X)\n",
        "Y = np.array(Y)\n",
        "\n",
        "X_train, X_test, Y_train, Y_test = train_test_split(X,Y)\n",
        "xy = (X_train, X_test, Y_train, Y_test)\n",
        "\n",
        "np.save(\"./img_data.npy\", xy)'''"
      ]
    },
    {
      "cell_type": "code",
      "execution_count": null,
      "metadata": {
        "id": "8x6yYGmQ_mnu"
      },
      "outputs": [],
      "source": [
        "#!pip install tensorflow-gpu==2.0.0\n",
        "#!pip install tensorflow_hub"
      ]
    },
    {
      "cell_type": "code",
      "execution_count": null,
      "metadata": {
        "id": "OGNpmn43C0O6"
      },
      "outputs": [],
      "source": [
        "from __future__ import absolute_import, division, print_function, unicode_literals\n",
        "import os\n",
        "import matplotlib.pylab as plt\n",
        "import tensorflow as tf\n",
        "import tensorflow_hub as hub\n",
        "from tensorflow.keras.utils import to_categorical\n",
        "import numpy as np"
      ]
    },
    {
      "cell_type": "markdown",
      "metadata": {
        "id": "2Dnte2wCK-cw"
      },
      "source": [
        "For better data visualization we'll use [Pandas library](https://pandas.pydata.org/)."
      ]
    },
    {
      "cell_type": "code",
      "execution_count": null,
      "metadata": {
        "id": "s4Z9vFE1IQ2Q"
      },
      "outputs": [],
      "source": [
        "import pandas as pd\n",
        "\n",
        "# Increase precision of presented data for better side-by-side comparison\n",
        "pd.set_option(\"display.precision\", 8)"
      ]
    },
    {
      "cell_type": "code",
      "execution_count": null,
      "metadata": {
        "colab": {
          "base_uri": "https://localhost:8080/",
          "height": 85
        },
        "id": "H0j5p4zf0S2i",
        "outputId": "aa50bf72-7606-4781-b499-4d478e78e2db"
      },
      "outputs": [
        {
          "name": "stdout",
          "output_type": "stream",
          "text": [
            "Version:  2.6.2\n",
            "Hub version:  0.12.0\n",
            "Eager mode:  True\n",
            "GPU is NOT AVAILABLE\n"
          ]
        }
      ],
      "source": [
        "print(\"Version: \", tf.__version__)\n",
        "print(\"Hub version: \", hub.__version__)\n",
        "print(\"Eager mode: \", tf.executing_eagerly())\n",
        "print(\"GPU is\", \"available\" if tf.test.is_gpu_available() else \"NOT AVAILABLE\")"
      ]
    },
    {
      "cell_type": "markdown",
      "metadata": {
        "id": "amfzqn1Oo7Om"
      },
      "source": [
        "## Simple transfer learning(단순 전이 학습)"
      ]
    },
    {
      "cell_type": "markdown",
      "metadata": {
        "id": "K-nIpVJ94xrw"
      },
      "source": [
        "For the sake of the notebook completness, we will do simple transfer learning, to create our own machine learning model. \n",
        "\n",
        "If you want to know more about it, I highly recommend to check Udacity [\"Tensorflow free course\"](https://classroom.udacity.com/courses/ud187), where the inspiration for transfer learning code came from."
      ]
    },
    {
      "cell_type": "markdown",
      "metadata": {
        "id": "33fJpTaDN2hs"
      },
      "source": [
        "노트북의 완성도를 위해 간단한 전이 학습을 수행하여 자체 기계 학습 모델을 만듭니다.\n",
        "\n",
        "이에 대해 더 알고 싶다면 전이 학습 코드의 영감을 얻은 Udacity [\"Tensorflow 무료 과정\"](https://classroom.udacity.com/courses/ud187)를 확인하는 것이 좋습니다."
      ]
    },
    {
      "cell_type": "markdown",
      "metadata": {
        "id": "Z93vvAdGxDMD"
      },
      "source": [
        "### Dataset preparation"
      ]
    },
    {
      "cell_type": "code",
      "execution_count": null,
      "metadata": {
        "id": "W4lDPkn2cpWZ",
        "scrolled": true
      },
      "outputs": [],
      "source": [
        "# Learn more about data batches\n",
        "#Image batch shape:  (32, 224, 224, 3)\n",
        "#Label batch shape:  (32, 5)"
      ]
    },
    {
      "cell_type": "code",
      "execution_count": null,
      "metadata": {
        "id": "DlmFuhf5N2hu",
        "outputId": "57087523-6dec-46af-a55f-975a85f87582"
      },
      "outputs": [
        {
          "name": "stdout",
          "output_type": "stream",
          "text": [
            "folder_list ['babbling', 'car_noise', 'voice', 'white_noise']\n"
          ]
        }
      ],
      "source": [
        "path_root = './dataset_img_128'\n",
        "folder_list = os.listdir(path_root)\n",
        "print('folder_list',folder_list)"
      ]
    },
    {
      "cell_type": "code",
      "execution_count": null,
      "metadata": {
        "id": "bQr3KatbN2hw",
        "outputId": "2987ae8f-e251-4cde-c28e-b23bcdcf0a40"
      },
      "outputs": [
        {
          "name": "stdout",
          "output_type": "stream",
          "text": [
            "Requirement already satisfied: opencv-python in c:\\programdata\\anaconda3\\envs\\s6\\lib\\site-packages (4.6.0.66)\n",
            "Requirement already satisfied: numpy>=1.13.3; python_version < \"3.7\" in c:\\programdata\\anaconda3\\envs\\s6\\lib\\site-packages (from opencv-python) (1.19.5)\n"
          ]
        }
      ],
      "source": [
        "!pip install opencv-python\n",
        "\n",
        "import cv2"
      ]
    },
    {
      "cell_type": "code",
      "execution_count": null,
      "metadata": {
        "id": "AmEaCigrN2hx"
      },
      "outputs": [],
      "source": [
        "import matplotlib.pyplot as plt"
      ]
    },
    {
      "cell_type": "code",
      "execution_count": null,
      "metadata": {
        "id": "gLQYheibN2hy"
      },
      "outputs": [],
      "source": [
        "image_w = 224\n",
        "image_h = 224\n",
        "data_feature = []\n",
        "data_label = []\n",
        "idx_plot = 0\n",
        "for index in range(len(folder_list)):\n",
        "    path_file = os.path.join(path_root, folder_list[index])\n",
        "    \n",
        "    img_list = os.listdir(path_file)\n",
        "    for img in img_list:\n",
        "        \n",
        "        img_path = os.path.join(path_file, img)\n",
        "        '''img = cv2.cv2.imread(img_path, cv2.IMREAD_COLOR)'''\n",
        "        img = cv2.imread(img_path) #, cv2.IMREAD_GRAYSCALE)\n",
        "        img = cv2.resize(img, None, fx=image_w/img.shape[1], fy=image_h/img.shape[0])\n",
        "        data_feature.append(img/255)\n",
        "        data_label.append(index)\n",
        "        "
      ]
    },
    {
      "cell_type": "code",
      "execution_count": null,
      "metadata": {
        "id": "wEz3lmleN2hz",
        "outputId": "ea0bab33-a030-481f-d64c-188a762ef26e"
      },
      "outputs": [
        {
          "name": "stdout",
          "output_type": "stream",
          "text": [
            "np.shape(data_feature) (412, 224, 224, 3)\n",
            "np.shape(data_label) (412,)\n",
            "data_label[:4] [0, 0, 0, 0]\n"
          ]
        }
      ],
      "source": [
        "print('np.shape(data_feature)', np.shape(data_feature))\n",
        "print('np.shape(data_label)', np.shape(data_label))\n",
        "print('data_label[:4]', data_label[:4])"
      ]
    },
    {
      "cell_type": "markdown",
      "metadata": {
        "id": "lcXAKKFVN2h0"
      },
      "source": [
        "num_color = 3\n",
        "data_feature = tf.reshape(data_feature, [-1, image_w, image_h, num_color]) \n",
        "print('np.shape(data_feature)', np.shape(data_feature))"
      ]
    },
    {
      "cell_type": "code",
      "execution_count": null,
      "metadata": {
        "scrolled": true,
        "id": "hrJhAFZNN2h1"
      },
      "outputs": [],
      "source": [
        "data_label = to_categorical(data_label, num_classes)"
      ]
    },
    {
      "cell_type": "code",
      "execution_count": null,
      "metadata": {
        "id": "TXdHXC2iN2h2"
      },
      "outputs": [],
      "source": [
        "data_feature = np.array(data_feature)\n",
        "data_label = np.array(data_label)"
      ]
    },
    {
      "cell_type": "code",
      "execution_count": null,
      "metadata": {
        "id": "qysW6uclN2h3"
      },
      "outputs": [],
      "source": [
        ""
      ]
    },
    {
      "cell_type": "code",
      "execution_count": null,
      "metadata": {
        "id": "W0aVhDICN2h3",
        "outputId": "fd7cd6a7-1865-4e63-a205-fcd316dc0ba3"
      },
      "outputs": [
        {
          "name": "stdout",
          "output_type": "stream",
          "text": [
            "label_train [[0. 0. 0. 1.]\n",
            " [0. 0. 1. 0.]\n",
            " [0. 1. 0. 0.]\n",
            " ...\n",
            " [0. 0. 0. 1.]\n",
            " [0. 0. 0. 1.]\n",
            " [0. 1. 0. 0.]]\n"
          ]
        }
      ],
      "source": [
        "from sklearn.model_selection import train_test_split\n",
        "feature_train, feature_test, label_train, label_test = train_test_split(data_feature,data_label)\n",
        "print('label_train',label_train)"
      ]
    },
    {
      "cell_type": "markdown",
      "metadata": {
        "id": "RPVeouTksO9q"
      },
      "source": [
        "### Model architecture, training\n",
        "\n",
        "As a base model for transfer learning, we'll use MobileNet v2 model stored on TensorFlow Hub. Presented model can be used only in TensorFlow 2.0 implementation (TF Hub contains also models for TensorFlow 1.x).\n",
        "\n",
        "Basic information about feature vector:\n",
        "- Input shape: 224x224x3 (224x224 pixels, 3 chanels each, RGB format),\n",
        "- Each channel has value in range [0, 1],\n",
        "- Feature vector output shape: 1280 (number of labels classified by MobileNet is 1001 - this info isn't important here)\n",
        "\n",
        "For more details check feature vector page:\n",
        "https://tfhub.dev/google/imagenet/mobilenet_v2_100_224/feature_vector/4"
      ]
    },
    {
      "cell_type": "markdown",
      "metadata": {
        "id": "qxJY0DJIN2h5"
      },
      "source": [
        "--모델 아키텍처, 교육\n",
        "\n",
        "전이 학습의 기본 모델로 TensorFlow Hub에 저장된 MobileNet v2 모델을 사용합니다. 제시된 모델은 TensorFlow 2.0 구현에서만 사용할 수 있습니다(TF Hub에는 TensorFlow 1.x용 모델도 포함되어 있음).\n",
        "\n",
        "특징 벡터에 대한 기본 정보:\n",
        "- 입력 형태: 224x224x3 (224x224 픽셀, 각 3채널, RGB 형식),\n",
        "- 각 채널은 [0, 1] 범위의 값을 가지며,\n",
        "- Feature vector output shape: 1280 (MobileNet에 의해 분류된 레이블의 수는 1001 - 이 정보는 중요하지 않음)\n",
        "\n",
        "자세한 내용은 기능 벡터 페이지를 확인하십시오.\n",
        "https://tfhub.dev/google/imagenet/mobilenet_v2_100_224/feature_vector/4"
      ]
    },
    {
      "cell_type": "code",
      "execution_count": null,
      "metadata": {
        "colab": {
          "base_uri": "https://localhost:8080/",
          "height": 255
        },
        "id": "mGcY27fY1q3Q",
        "outputId": "2792713a-6069-4f95-f556-ddd3f52d3f52"
      },
      "outputs": [
        {
          "name": "stdout",
          "output_type": "stream",
          "text": [
            "Model: \"sequential_6\"\n",
            "_________________________________________________________________\n",
            "Layer (type)                 Output Shape              Param #   \n",
            "=================================================================\n",
            "keras_layer_6 (KerasLayer)   (None, 1280)              2257984   \n",
            "_________________________________________________________________\n",
            "dropout_6 (Dropout)          (None, 1280)              0         \n",
            "_________________________________________________________________\n",
            "dense_6 (Dense)              (None, 4)                 5124      \n",
            "=================================================================\n",
            "Total params: 2,263,108\n",
            "Trainable params: 5,124\n",
            "Non-trainable params: 2,257,984\n",
            "_________________________________________________________________\n"
          ]
        }
      ],
      "source": [
        "num_classes = len(folder_list)\n",
        "model = tf.keras.Sequential([\n",
        "  hub.KerasLayer(\"https://tfhub.dev/google/imagenet/mobilenet_v2_100_224/feature_vector/4\", \n",
        "                 output_shape=[1280],\n",
        "                 trainable=False),\n",
        "  tf.keras.layers.Dropout(0.4),\n",
        "  tf.keras.layers.Dense(num_classes, activation='softmax')\n",
        "])\n",
        "model.build([None, image_w, image_h, num_color])\n",
        "\n",
        "model.summary()"
      ]
    },
    {
      "cell_type": "code",
      "execution_count": null,
      "metadata": {
        "id": "3n0Wb9ylKd8R"
      },
      "outputs": [],
      "source": [
        "model.compile(\n",
        "  optimizer=tf.keras.optimizers.Adam(),\n",
        "  loss='categorical_crossentropy',\n",
        "  metrics=['acc'])"
      ]
    },
    {
      "cell_type": "code",
      "execution_count": null,
      "metadata": {
        "colab": {
          "base_uri": "https://localhost:8080/",
          "height": 394
        },
        "id": "EyMDJxt2HdHr",
        "outputId": "4089410f-a9a4-46e7-d2dd-f2925f91c2f9"
      },
      "outputs": [
        {
          "name": "stdout",
          "output_type": "stream",
          "text": [
            "Epoch 1/6\n",
            "8/8 [==============================] - 8s 689ms/step - loss: 1.5075 - acc: 0.3117 - val_loss: 1.1244 - val_acc: 0.5323\n",
            "Epoch 2/6\n",
            "8/8 [==============================] - 5s 585ms/step - loss: 1.1577 - acc: 0.4939 - val_loss: 0.8543 - val_acc: 0.8548\n",
            "Epoch 3/6\n",
            "8/8 [==============================] - 5s 601ms/step - loss: 0.8486 - acc: 0.6518 - val_loss: 0.7154 - val_acc: 0.7419\n",
            "Epoch 4/6\n",
            "8/8 [==============================] - 5s 602ms/step - loss: 0.7208 - acc: 0.7490 - val_loss: 0.6495 - val_acc: 0.8548\n",
            "Epoch 5/6\n",
            "8/8 [==============================] - 4s 571ms/step - loss: 0.6207 - acc: 0.7976 - val_loss: 0.5802 - val_acc: 0.8710\n",
            "Epoch 6/6\n",
            "8/8 [==============================] - 5s 583ms/step - loss: 0.5274 - acc: 0.8259 - val_loss: 0.4878 - val_acc: 0.8548\n"
          ]
        }
      ],
      "source": [
        "# Run model training\n",
        "\n",
        "hist = model.fit(feature_train, label_train, validation_split = 0.2, epochs=6, verbose=1).history"
      ]
    },
    {
      "cell_type": "code",
      "execution_count": null,
      "metadata": {
        "colab": {
          "base_uri": "https://localhost:8080/",
          "height": 566
        },
        "id": "j93MXHpYFrT_",
        "outputId": "a0e2274c-e586-42db-a52e-50764f80d0ce"
      },
      "outputs": [
        {
          "data": {
            "text/plain": [
              "[<matplotlib.lines.Line2D at 0x22df2ab1e48>]"
            ]
          },
          "execution_count": 129,
          "metadata": {},
          "output_type": "execute_result"
        },
        {
          "data": {
            "image/png": "[encoded data removed]",
            "text/plain": [
              "<Figure size 432x288 with 1 Axes>"
            ]
          },
          "metadata": {
            "needs_background": "light"
          },
          "output_type": "display_data"
        },
        {
          "data": {
            "image/png": "[encoded data removed]",
            "text/plain": [
              "<Figure size 432x288 with 1 Axes>"
            ]
          },
          "metadata": {
            "needs_background": "light"
          },
          "output_type": "display_data"
        }
      ],
      "source": [
        "# Visualize training process\n",
        "\n",
        "plt.figure()\n",
        "plt.ylabel(\"Loss (training and validation)\")\n",
        "plt.xlabel(\"Training Steps\")\n",
        "plt.ylim([0,2])\n",
        "plt.plot(hist[\"loss\"])\n",
        "plt.plot(hist[\"val_loss\"])\n",
        "\n",
        "plt.figure()\n",
        "plt.ylabel(\"Accuracy (training and validation)\")\n",
        "plt.xlabel(\"Training Steps\")\n",
        "plt.ylim([0,1])\n",
        "plt.plot(hist[\"acc\"])\n",
        "plt.plot(hist[\"val_acc\"])"
      ]
    },
    {
      "cell_type": "code",
      "execution_count": null,
      "metadata": {
        "colab": {
          "base_uri": "https://localhost:8080/",
          "height": 34
        },
        "id": "GlfrTTAUEIZ1",
        "outputId": "a7c0198f-af4f-4cdf-ad4b-2883106f7ac6"
      },
      "outputs": [
        {
          "name": "stdout",
          "output_type": "stream",
          "text": [
            "4/4 [==============================] - 2s 362ms/step - loss: 0.4440 - acc: 0.8350\n"
          ]
        }
      ],
      "source": [
        "# Measure accuracy and loss after training\n",
        "\n",
        "final_loss, final_accuracy = model.evaluate(feature_test, label_test)"
      ]
    },
    {
      "cell_type": "code",
      "execution_count": null,
      "metadata": {
        "colab": {
          "base_uri": "https://localhost:8080/",
          "height": 51
        },
        "id": "Ho43qcQGEQFb",
        "outputId": "fe30b23b-8e53-4815-f684-021bac50be77"
      },
      "outputs": [
        {
          "name": "stdout",
          "output_type": "stream",
          "text": [
            "Final loss: 0.44\n",
            "Final accuracy: 83.50%\n"
          ]
        }
      ],
      "source": [
        "print(\"Final loss: {:.2f}\".format(final_loss))\n",
        "print(\"Final accuracy: {:.2f}%\".format(final_accuracy * 100))"
      ]
    },
    {
      "cell_type": "markdown",
      "metadata": {
        "id": "uRcJnAABr22x"
      },
      "source": [
        "### Export your model\n",
        "\n",
        "We'll save our model as TensorFlow SavedModel format. After that we'll do inference on reloaded model, so if you come with a model already trained, it'll be easier to inspect it."
      ]
    },
    {
      "cell_type": "markdown",
      "metadata": {
        "id": "rUoYSfwSN2iA"
      },
      "source": [
        "-- 모델 내보내기\n",
        "\n",
        "모델을 TensorFlow SavedModel 형식으로 저장합니다. 그 후에 우리는 다시 로드된 모델에 대한 추론을 수행할 것이므로 이미 훈련된 모델과 함께 오는 경우 모델을 검사하기가 더 쉬울 것입니다."
      ]
    },
    {
      "cell_type": "code",
      "execution_count": null,
      "metadata": {
        "id": "PLcqg-RmsLno"
      },
      "outputs": [],
      "source": [
        "'''FLOWERS_SAVED_MODEL = \"./saved_models/\"\n",
        "tf.saved_model.save(model, FLOWERS_SAVED_MODEL)'''"
      ]
    },
    {
      "cell_type": "markdown",
      "metadata": {
        "id": "kG6ndR1RItts"
      },
      "source": [
        "## Load TensorFlow SavedModel\n",
        "\n",
        "Let's load TensorFlow model from SavedModel format. Because we used custom layer from TensorFlow Hub, we need to explicitly point out the implementation with `custom_obiects` param."
      ]
    },
    {
      "cell_type": "markdown",
      "metadata": {
        "id": "vpkHSuiAN2iC"
      },
      "source": [
        "-TensorFlow 저장된 모델 로드\n",
        "\n",
        "SavedModel 형식에서 TensorFlow 모델을 로드해 보겠습니다. TensorFlow Hub의 커스텀 레이어를 사용했기 때문에 `custom_obiects` 매개변수로 구현을 명시적으로 지적해야 합니다."
      ]
    },
    {
      "cell_type": "markdown",
      "metadata": {
        "id": "7nI5fvkAQvbS",
        "outputId": "b367d251-60b4-4169-ad3d-67d046cfcce6"
      },
      "source": [
        "# Load SavedModel(저장된 모델 불러오기)"
      ]
    },
    {
      "cell_type": "code",
      "execution_count": null,
      "metadata": {
        "id": "wXJxIDBJN2iD"
      },
      "outputs": [],
      "source": [
        "'''flowers_model = hub.load(FLOWERS_SAVED_MODEL)\n",
        "print(flowers_model)'''"
      ]
    },
    {
      "cell_type": "markdown",
      "metadata": {
        "id": "9yM9UeUnF8t7"
      },
      "source": [
        "## Convert model to TFLite\n",
        "\n",
        "Convert recently loaded model to TensorFlow Lite models (standard and quantized with a [post-training quantization](https://www.tensorflow.org/lite/performance/post_training_quantization)).\n",
        "\n",
        "Because of TensorFlow 2.0 nature, we'll need to convert TensorFlow model into concrete function and then do conversion to TFLite. More about it [here](https://www.tensorflow.org/lite/r2/convert/concrete_function)."
      ]
    },
    {
      "cell_type": "markdown",
      "metadata": {
        "id": "4iSDKvd9N2iE"
      },
      "source": [
        "-모델을 TFLite로 변환\n",
        "\n",
        "최근에 로드된 모델을 TensorFlow Lite 모델로 변환합니다(표준 및 [훈련 후 양자화](https://www.tensorflow.org/lite/performance/post_training_quantization)로 양자화됨).\n",
        "\n",
        "TensorFlow 2.0 특성상 TensorFlow 모델을 구체적인 함수로 변환한 다음 TFLite로 변환해야 합니다. [여기](https://www.tensorflow.org/lite/r2/convert/concrete_function)에 대해 자세히 알아보세요."
      ]
    },
    {
      "cell_type": "code",
      "execution_count": null,
      "metadata": {
        "id": "PXjmRTncPr3c"
      },
      "outputs": [],
      "source": [
        "'''!mkdir \"tflite_models\"'''"
      ]
    },
    {
      "cell_type": "code",
      "execution_count": null,
      "metadata": {
        "id": "00O-I9wKPwMn"
      },
      "outputs": [],
      "source": [
        "'''TFLITE_MODEL = \"tflite_models/flowers.tflite\"\n",
        "TFLITE_QUANT_MODEL = \"tflite_models/flowers_quant.tflite\"'''"
      ]
    },
    {
      "cell_type": "markdown",
      "metadata": {
        "id": "nOJZlacLG5e7",
        "outputId": "254eab8e-8101-41e2-e7f9-7232f1c45893"
      },
      "source": [
        "# Get the concrete function from the Keras model.(케라스모델로부터 구체적인 함수를 가져와라)"
      ]
    },
    {
      "cell_type": "code",
      "execution_count": null,
      "metadata": {
        "scrolled": true,
        "id": "q_TfRDGxN2iH",
        "outputId": "40963b00-acbf-4cc4-e99a-3cd48be0c39d"
      },
      "outputs": [
        {
          "data": {
            "text/plain": [
              "'run_model = tf.function(lambda x : flowers_model(x))'"
            ]
          },
          "execution_count": 2,
          "metadata": {},
          "output_type": "execute_result"
        }
      ],
      "source": [
        "'''run_model = tf.function(lambda x : flowers_model(x))'''"
      ]
    },
    {
      "cell_type": "markdown",
      "metadata": {
        "id": "KhZEwloIN2iI"
      },
      "source": [
        "# Save the concrete function. (구체적인 함수를 저장하라.)"
      ]
    },
    {
      "cell_type": "code",
      "execution_count": null,
      "metadata": {
        "id": "4_bLChF9N2iI",
        "outputId": "cc2e96ca-aa45-4d36-e5d1-213f71597e48"
      },
      "outputs": [
        {
          "data": {
            "text/plain": [
              "'concrete_func = run_model.get_concrete_function(\\n    tf.TensorSpec(model.inputs[0].shape, model.inputs[0].dtype)\\n)'"
            ]
          },
          "execution_count": 4,
          "metadata": {},
          "output_type": "execute_result"
        }
      ],
      "source": [
        "'''concrete_func = run_model.get_concrete_function(\n",
        "    tf.TensorSpec(model.inputs[0].shape, model.inputs[0].dtype)\n",
        ")'''"
      ]
    },
    {
      "cell_type": "markdown",
      "metadata": {
        "id": "a-tWfTn4N2iJ"
      },
      "source": [
        "# Convert the model(모델을 바꿔라.)"
      ]
    },
    {
      "cell_type": "code",
      "execution_count": null,
      "metadata": {
        "id": "-SoFlx4hN2iK",
        "outputId": "3b580d33-0542-466f-8af8-002a7ca37bb4"
      },
      "outputs": [
        {
          "data": {
            "text/plain": [
              "'converter = tf.lite.TFLiteConverter.from_concrete_functions([concrete_func])\\nconverted_tflite_model = converter.convert()\\nopen(TFLITE_MODEL, \"wb\").write(converted_tflite_model)'"
            ]
          },
          "execution_count": 6,
          "metadata": {},
          "output_type": "execute_result"
        }
      ],
      "source": [
        "'''converter = tf.lite.TFLiteConverter.from_concrete_functions([concrete_func])\n",
        "converted_tflite_model = converter.convert()\n",
        "open(TFLITE_MODEL, \"wb\").write(converted_tflite_model)'''"
      ]
    },
    {
      "cell_type": "markdown",
      "metadata": {
        "id": "Ih4N4p7nN2iK"
      },
      "source": [
        "# Convert the model to quantized version with post-training quantization\n",
        "#훈련 후 양자화를 통해 모델을 양자화 버전으로 변환\n"
      ]
    },
    {
      "cell_type": "code",
      "execution_count": null,
      "metadata": {
        "id": "Zp9ALcmxN2iL"
      },
      "outputs": [],
      "source": [
        "'''converter = tf.lite.TFLiteConverter.from_concrete_functions([concrete_func])\n",
        "converter.optimizations = [tf.lite.Optimize.OPTIMIZE_FOR_SIZE]\n",
        "tflite_quant_model = converter.convert()\n",
        "open(TFLITE_QUANT_MODEL, \"wb\").write(tflite_quant_model)\n",
        "\n",
        "print(\"TFLite models and their sizes:\")\n",
        "!ls \"tflite_models\" -lh'''"
      ]
    },
    {
      "cell_type": "markdown",
      "metadata": {
        "id": "SX3Nv5LMGAja"
      },
      "source": [
        "### Load TFLite model (TFLite 모델 로드하기)\n",
        "\n",
        "Load TensorFlow lite model with interpreter interface.(인터프리터 인터페이스로 TensorFlow 라이트 모델을 로드합니다.)"
      ]
    },
    {
      "cell_type": "markdown",
      "metadata": {
        "id": "OoBmFmXlHVhj",
        "outputId": "8c5ced6a-6544-4f2a-cb2f-a36fade07278"
      },
      "source": [
        "# Load TFLite model and see some details about input/output\n",
        "#TFLite 모델을 로드하고 입력값/출력값의 세부사항을 살펴라."
      ]
    },
    {
      "cell_type": "code",
      "execution_count": null,
      "metadata": {
        "id": "In_s5ydtN2iN"
      },
      "outputs": [],
      "source": [
        "'''tflite_interpreter = tf.lite.Interpreter(model_path=TFLITE_MODEL)\n",
        "\n",
        "input_details = tflite_interpreter.get_input_details()\n",
        "output_details = tflite_interpreter.get_output_details()\n",
        "\n",
        "print(\"== Input details ==\")\n",
        "print(\"name:\", input_details[0]['name'])\n",
        "print(\"shape:\", input_details[0]['shape'])\n",
        "print(\"type:\", input_details[0]['dtype'])\n",
        "\n",
        "print(\"\\n== Output details ==\")\n",
        "print(\"name:\", output_details[0]['name'])\n",
        "print(\"shape:\", output_details[0]['shape'])\n",
        "print(\"type:\", output_details[0]['dtype'])''')"
      ]
    },
    {
      "cell_type": "markdown",
      "metadata": {
        "id": "ZKd2v0ldRess"
      },
      "source": [
        "#### Resize input and output tensors shapes (입력값과 출력값의 텐서 모양을 바꿔라.)\n",
        "\n",
        "Input shape of loaded TFLite model is 1x224x224x3, what means that we can make predictions for single image.\n",
        "Let's resize input and output tensors, so we can make predictions for batch of 32 images.\n",
        " (로드된 TFLite 모델의 입력 형태는 1x224x224x3이며, 이는 단일 이미지에 대한 예측을 할 수 있음을 의미합니다.\n",
        "입력 및 출력 텐서의 크기를 조정하여 32개의 이미지 배치를 예측할 수 있도록 합시다.)\n"
      ]
    },
    {
      "cell_type": "code",
      "execution_count": null,
      "metadata": {
        "colab": {
          "base_uri": "https://localhost:8080/",
          "height": 170
        },
        "id": "VXX8lJkPRYFq",
        "outputId": "ae5744fe-22af-4501-e60a-3f0eab5bbe12"
      },
      "outputs": [
        {
          "data": {
            "text/plain": [
              "'tflite_interpreter.resize_tensor_input(input_details[0][\\'index\\'], (1, 224, 224, num_color)) # 32\\ntflite_interpreter.resize_tensor_input(output_details[0][\\'index\\'], (1, num_classes)) # 32\\ntflite_interpreter.allocate_tensors()\\n\\ninput_details = tflite_interpreter.get_input_details()\\noutput_details = tflite_interpreter.get_output_details()\\n\\nprint(\"== Input details ==\")\\nprint(\"name:\", input_details[0][\\'name\\'])\\nprint(\"shape:\", input_details[0][\\'shape\\'])\\nprint(\"type:\", input_details[0][\\'dtype\\'])\\n\\nprint(\"\\n== Output details ==\")\\nprint(\"name:\", output_details[0][\\'name\\'])\\nprint(\"shape:\", output_details[0][\\'shape\\'])\\nprint(\"type:\", output_details[0][\\'dtype\\'])'"
            ]
          },
          "execution_count": 8,
          "metadata": {},
          "output_type": "execute_result"
        }
      ],
      "source": [
        "'''tflite_interpreter.resize_tensor_input(input_details[0]['index'], (1, 224, 224, num_color)) # 32\n",
        "tflite_interpreter.resize_tensor_input(output_details[0]['index'], (1, num_classes)) # 32\n",
        "tflite_interpreter.allocate_tensors()\n",
        "\n",
        "input_details = tflite_interpreter.get_input_details()\n",
        "output_details = tflite_interpreter.get_output_details()\n",
        "\n",
        "print(\"== Input details ==\")\n",
        "print(\"name:\", input_details[0]['name'])\n",
        "print(\"shape:\", input_details[0]['shape'])\n",
        "print(\"type:\", input_details[0]['dtype'])\n",
        "\n",
        "print(\"\\n== Output details ==\")\n",
        "print(\"name:\", output_details[0]['name'])\n",
        "print(\"shape:\", output_details[0]['shape'])\n",
        "print(\"type:\", output_details[0]['dtype'])'''"
      ]
    },
    {
      "cell_type": "code",
      "execution_count": null,
      "metadata": {
        "id": "6WEyRJNsR5uL"
      },
      "outputs": [],
      "source": [
        "'''tflite_interpreter.set_tensor(input_details[0]['index'], val_image_batch)\n",
        "\n",
        "tflite_interpreter.invoke()\n",
        "\n",
        "tflite_model_predictions = tflite_interpreter.get_tensor(output_details[0]['index'])\n",
        "print(\"Prediction results shape:\", tflite_model_predictions.shape)'''"
      ]
    },
    {
      "cell_type": "markdown",
      "metadata": {
        "id": "pwfWiDLgTEIc",
        "outputId": "f8738d93-c8a0-415c-f8b5-11748b232c37"
      },
      "source": [
        "# Convert prediction results to Pandas dataframe, for better visualization\n",
        "(더 나은 시각화를 위해 예측 결과를 Pandas 데이터 프레임으로 변환)"
      ]
    },
    {
      "cell_type": "code",
      "execution_count": null,
      "metadata": {
        "id": "WOx8ejrvN2iQ",
        "outputId": "b5b63c40-3bdb-4dde-c6bf-d59615c51dac"
      },
      "outputs": [
        {
          "data": {
            "text/plain": [
              "'tflite_pred_dataframe = pd.DataFrame(tflite_model_predictions)\\ntflite_pred_dataframe.columns = dataset_labels\\n\\nprint(\"TFLite prediction results for the first elements\")\\ntflite_pred_dataframe.head()'"
            ]
          },
          "execution_count": 9,
          "metadata": {},
          "output_type": "execute_result"
        }
      ],
      "source": [
        "'''tflite_pred_dataframe = pd.DataFrame(tflite_model_predictions)\n",
        "tflite_pred_dataframe.columns = dataset_labels\n",
        "\n",
        "print(\"TFLite prediction results for the first elements\")\n",
        "tflite_pred_dataframe.head()'''"
      ]
    },
    {
      "cell_type": "markdown",
      "metadata": {
        "id": "vmJONiLSSe3V"
      },
      "source": [
        "Now let's do the same for TFLite quantized model:\n",
        "- Load model,\n",
        "- Reshape input to handle batch of images,\n",
        "- Run prediction\n",
        "\n",
        "이제 TFLite 양자화 모델에 대해서도 동일한 작업을 수행해 보겠습니다.\n",
        "- 로드 모델,\n",
        "- 이미지 배치를 처리하기 위해 입력 모양 변경,\n",
        "- 예측 실행"
      ]
    },
    {
      "cell_type": "markdown",
      "metadata": {
        "id": "xhhw70iYdPIv",
        "outputId": "55ce08da-6eb4-40d9-bb8f-7625b418d359"
      },
      "source": [
        "# Load quantized TFLite model(양자화된 TFLite 모델을 로드하라.)"
      ]
    },
    {
      "cell_type": "code",
      "execution_count": null,
      "metadata": {
        "id": "090_U9_oN2iS",
        "outputId": "62a19b02-d648-4161-c1b6-5b248d10b8ef"
      },
      "outputs": [
        {
          "data": {
            "text/plain": [
              "'tflite_interpreter_quant = tf.lite.Interpreter(model_path=TFLITE_QUANT_MODEL)'"
            ]
          },
          "execution_count": 10,
          "metadata": {},
          "output_type": "execute_result"
        }
      ],
      "source": [
        "'''tflite_interpreter_quant = tf.lite.Interpreter(model_path=TFLITE_QUANT_MODEL)'''"
      ]
    },
    {
      "cell_type": "markdown",
      "metadata": {
        "id": "ZRdo9__EN2iS"
      },
      "source": [
        "# Learn about its input and output details(입력값과 출력값의 세부사항을 배워라.)"
      ]
    },
    {
      "cell_type": "code",
      "execution_count": null,
      "metadata": {
        "id": "z26JmfPPN2iT",
        "outputId": "f15c731b-f648-4f01-c063-7f5c4210e709"
      },
      "outputs": [
        {
          "data": {
            "text/plain": [
              "'input_details = tflite_interpreter_quant.get_input_details()\\noutput_details = tflite_interpreter_quant.get_output_details()'"
            ]
          },
          "execution_count": 11,
          "metadata": {},
          "output_type": "execute_result"
        }
      ],
      "source": [
        "'''input_details = tflite_interpreter_quant.get_input_details()\n",
        "output_details = tflite_interpreter_quant.get_output_details()'''"
      ]
    },
    {
      "cell_type": "markdown",
      "metadata": {
        "id": "LzScrVAxN2iT"
      },
      "source": [
        "# Resize input and output tensors to handle batch of 32 images(입력값과 출력값의 텐서 모양을 바꿔라. 32장의 이미지 묶음을 처리하기 위해서.)"
      ]
    },
    {
      "cell_type": "code",
      "execution_count": null,
      "metadata": {
        "id": "u_khI-tUN2iU",
        "outputId": "5d27ef75-7616-4c60-d152-36fe8960f80e"
      },
      "outputs": [
        {
          "data": {
            "text/plain": [
              "'tflite_interpreter_quant.resize_tensor_input(input_details[0][\\'index\\'], (32, 224, 224, 3))\\ntflite_interpreter_quant.resize_tensor_input(output_details[0][\\'index\\'], (32, 5))\\ntflite_interpreter_quant.allocate_tensors()\\n\\ninput_details = tflite_interpreter_quant.get_input_details()\\noutput_details = tflite_interpreter_quant.get_output_details()\\n\\nprint(\"== Input details ==\")\\nprint(\"name:\", input_details[0][\\'name\\'])\\nprint(\"shape:\", input_details[0][\\'shape\\'])\\nprint(\"type:\", input_details[0][\\'dtype\\'])\\n\\nprint(\"\\n== Output details ==\")\\nprint(\"name:\", output_details[0][\\'name\\'])\\nprint(\"shape:\", output_details[0][\\'shape\\'])\\nprint(\"type:\", output_details[0][\\'dtype\\'])'"
            ]
          },
          "execution_count": 14,
          "metadata": {},
          "output_type": "execute_result"
        }
      ],
      "source": [
        "'''tflite_interpreter_quant.resize_tensor_input(input_details[0]['index'], (32, 224, 224, 3))\n",
        "tflite_interpreter_quant.resize_tensor_input(output_details[0]['index'], (32, 5))\n",
        "tflite_interpreter_quant.allocate_tensors()\n",
        "\n",
        "input_details = tflite_interpreter_quant.get_input_details()\n",
        "output_details = tflite_interpreter_quant.get_output_details()\n",
        "\n",
        "print(\"== Input details ==\")\n",
        "print(\"name:\", input_details[0]['name'])\n",
        "print(\"shape:\", input_details[0]['shape'])\n",
        "print(\"type:\", input_details[0]['dtype'])\n",
        "\n",
        "print(\"\\n== Output details ==\")\n",
        "print(\"name:\", output_details[0]['name'])\n",
        "print(\"shape:\", output_details[0]['shape'])\n",
        "print(\"type:\", output_details[0]['dtype'])'''"
      ]
    },
    {
      "cell_type": "markdown",
      "metadata": {
        "id": "ugyTdiCiN2iU"
      },
      "source": [
        "# Run inference(추론을 실행하라.)"
      ]
    },
    {
      "cell_type": "code",
      "execution_count": null,
      "metadata": {
        "id": "rbSTJHKxN2iV",
        "outputId": "17cd9bff-5909-4a4b-88e5-4e041246926d"
      },
      "outputs": [
        {
          "data": {
            "text/plain": [
              "'tflite_interpreter_quant.set_tensor(input_details[0][\\'index\\'], val_image_batch)\\n\\ntflite_interpreter_quant.invoke()\\n\\ntflite_q_model_predictions = tflite_interpreter_quant.get_tensor(output_details[0][\\'index\\'])\\nprint(\"\\nPrediction results shape:\", tflite_q_model_predictions.shape)\\n'"
            ]
          },
          "execution_count": 16,
          "metadata": {},
          "output_type": "execute_result"
        }
      ],
      "source": [
        "'''tflite_interpreter_quant.set_tensor(input_details[0]['index'], val_image_batch)\n",
        "\n",
        "tflite_interpreter_quant.invoke()\n",
        "\n",
        "tflite_q_model_predictions = tflite_interpreter_quant.get_tensor(output_details[0]['index'])\n",
        "print(\"\\nPrediction results shape:\", tflite_q_model_predictions.shape)\n",
        "'''"
      ]
    },
    {
      "cell_type": "markdown",
      "metadata": {
        "id": "8x1I1j6iUGuF",
        "outputId": "94adb6da-454a-4883-c8f2-2a7d96b39670"
      },
      "source": [
        "# Convert prediction results to Pandas dataframe, for better visualization(더 나은 시각화를 위해 예측 결과를 Pandas 데이터 프레임으로 변환)"
      ]
    },
    {
      "cell_type": "code",
      "execution_count": null,
      "metadata": {
        "id": "UVjZNaSmN2iW",
        "outputId": "5141aadb-e985-4844-c352-bfa451461511"
      },
      "outputs": [
        {
          "data": {
            "text/plain": [
              "'tflite_q_pred_dataframe = pd.DataFrame(tflite_q_model_predictions)\\ntflite_q_pred_dataframe.columns = dataset_labels\\n\\nprint(\"Quantized TFLite model prediction results for the first elements\")\\ntflite_q_pred_dataframe.head()'"
            ]
          },
          "execution_count": 17,
          "metadata": {},
          "output_type": "execute_result"
        }
      ],
      "source": [
        "'''tflite_q_pred_dataframe = pd.DataFrame(tflite_q_model_predictions)\n",
        "tflite_q_pred_dataframe.columns = dataset_labels\n",
        "\n",
        "print(\"Quantized TFLite model prediction results for the first elements\")\n",
        "tflite_q_pred_dataframe.head()'''"
      ]
    },
    {
      "cell_type": "markdown",
      "metadata": {
        "id": "iuu7S1aGGF_L"
      },
      "source": [
        "## Compare prediction results (예측 결과 비교)\n",
        "\n",
        "Now we will use Pandas to visualize results from all 3 models and find differences between them.\n",
        "(이제 Pandas를 사용하여 3가지 모델 모두의 결과를 시각화하고 차이점을 찾습니다.)"
      ]
    },
    {
      "cell_type": "markdown",
      "metadata": {
        "id": "TV5up55ggSdz",
        "outputId": "7ba9cbbc-860e-4651-8c3a-186aeb57ebe1"
      },
      "source": [
        "# Concatenate results from all models(모든 모델의 결과 연결)"
      ]
    },
    {
      "cell_type": "code",
      "execution_count": null,
      "metadata": {
        "id": "L8AND9fcN2iX",
        "outputId": "1cb7956b-e69e-49ad-ef5b-f72c4e0143b7"
      },
      "outputs": [
        {
          "data": {
            "text/plain": [
              "\"all_models_dataframe = pd.concat([tf_pred_dataframe, \\n                                  tflite_pred_dataframe, \\n                                  tflite_q_pred_dataframe], \\n                                 keys=['TF Model', 'TFLite', 'TFLite quantized'],\\n                                 axis='columns')\\nall_models_dataframe.head()\""
            ]
          },
          "execution_count": 18,
          "metadata": {},
          "output_type": "execute_result"
        }
      ],
      "source": [
        "'''all_models_dataframe = pd.concat([tf_pred_dataframe, \n",
        "                                  tflite_pred_dataframe, \n",
        "                                  tflite_q_pred_dataframe], \n",
        "                                 keys=['TF Model', 'TFLite', 'TFLite quantized'],\n",
        "                                 axis='columns')\n",
        "all_models_dataframe.head()'''"
      ]
    },
    {
      "cell_type": "markdown",
      "metadata": {
        "id": "4zR0JhskfuGe",
        "outputId": "a8ba3136-e167-4bd8-d0b3-191388ba02d8"
      },
      "source": [
        "# Swap columns to hava side by side comparison(나란히 비교할 수 있도록 열을 바꿉니다.)"
      ]
    },
    {
      "cell_type": "code",
      "execution_count": null,
      "metadata": {
        "id": "9A2L7ZhON2iY"
      },
      "outputs": [],
      "source": [
        "'''\n",
        "all_models_dataframe = all_models_dataframe.swaplevel(axis='columns')[tflite_pred_dataframe.columns]\n",
        "all_models_dataframe.head()'''"
      ]
    },
    {
      "cell_type": "markdown",
      "metadata": {
        "id": "gBcQz6Jtg6vC",
        "outputId": "2427360e-be70-4dab-f920-ebeabe266ec8"
      },
      "source": [
        "# Highlight TFLite models predictions that are different from original model (원래 모델과 다른 TFLite 모델 예측 강조 표시)"
      ]
    },
    {
      "cell_type": "code",
      "execution_count": null,
      "metadata": {
        "id": "F3LCJMcEN2iY",
        "outputId": "ffd213ee-eab2-47af-872c-43fd4e1f165c"
      },
      "outputs": [
        {
          "data": {
            "text/plain": [
              "\"def highlight_diff(data, color='yellow'):\\n    attr = 'background-color: {}'.format(color)\\n    other = data.xs('TF Model', axis='columns', level=-1)\\n    return pd.DataFrame(np.where(data.ne(other, level=0), attr, ''),\\n                        index=data.index, columns=data.columns)\\n\\nall_models_dataframe.style.apply(highlight_diff, axis=None)\""
            ]
          },
          "execution_count": 19,
          "metadata": {},
          "output_type": "execute_result"
        }
      ],
      "source": [
        "'''def highlight_diff(data, color='yellow'):\n",
        "    attr = 'background-color: {}'.format(color)\n",
        "    other = data.xs('TF Model', axis='columns', level=-1)\n",
        "    return pd.DataFrame(np.where(data.ne(other, level=0), attr, ''),\n",
        "                        index=data.index, columns=data.columns)\n",
        "\n",
        "all_models_dataframe.style.apply(highlight_diff, axis=None)'''"
      ]
    },
    {
      "cell_type": "markdown",
      "metadata": {
        "id": "IdVdGpHVlMWn"
      },
      "source": [
        "As we can see, in most cases predictions are different between all models, usually by small factors. High-confidence predictions between TensorFlow and TensorFlow Lite models are very close to each other (in some cases there are even similar).  \n",
        "Quantized model outstands the most, but this is the cost of optimizations (model weights 3-4 times less).\n",
        "\n",
        "우리가 볼 수 있듯이 대부분의 경우 예측은 일반적으로 작은 요인에 의해 모든 모델 간에 다릅니다. TensorFlow와 TensorFlow Lite 모델 간의 높은 신뢰도 예측은 서로 매우 가깝습니다(어떤 경우에는 유사하기도 함).\n",
        "양자화 모델이 가장 뛰어나지만 최적화 비용입니다(모델 가중치 3~4배 적음)."
      ]
    },
    {
      "cell_type": "markdown",
      "metadata": {
        "id": "3UAomaI1mcjI"
      },
      "source": [
        "To make prediction results even more readable, let's simplify dataframes, to show only the highest-score prediction and the corresponding label.\n",
        "\n",
        "예측 결과를 더 읽기 쉽게 만들기 위해 데이터 프레임을 단순화하여 최고 점수 예측과 해당 레이블만 표시해 보겠습니다."
      ]
    },
    {
      "cell_type": "markdown",
      "metadata": {
        "id": "B1VF39ENoaab"
      },
      "source": [
        "# Concatenation of argmax and max value for each row(# 각 행에 대한 argmax와 max 값의 연결)"
      ]
    },
    {
      "cell_type": "code",
      "execution_count": null,
      "metadata": {
        "id": "C9_UYjiZN2ia",
        "outputId": "5562ba76-9233-4b9f-f4c0-387db8ce3976"
      },
      "outputs": [
        {
          "data": {
            "text/plain": [
              "'def max_values_only(data):\\n  argmax_col = np.argmax(data, axis=1).reshape(-1, 1)\\n  max_col = np.max(data, axis=1).reshape(-1, 1)\\n  return np.concatenate([argmax_col, max_col], axis=1)'"
            ]
          },
          "execution_count": 21,
          "metadata": {},
          "output_type": "execute_result"
        }
      ],
      "source": [
        "'''def max_values_only(data):\n",
        "  argmax_col = np.argmax(data, axis=1).reshape(-1, 1)\n",
        "  max_col = np.max(data, axis=1).reshape(-1, 1)\n",
        "  return np.concatenate([argmax_col, max_col], axis=1)'''"
      ]
    },
    {
      "cell_type": "markdown",
      "metadata": {
        "id": "cBXnuC21N2ia"
      },
      "source": [
        "# Build simplified prediction tables(# 단순화된 예측 테이블 작성)"
      ]
    },
    {
      "cell_type": "code",
      "execution_count": null,
      "metadata": {
        "id": "E_jm2-UlN2ib",
        "outputId": "8cc9470c-1144-41cf-8cf0-ac17be948bcd"
      },
      "outputs": [
        {
          "data": {
            "text/plain": [
              "'tf_model_pred_simplified = max_values_only(tf_model_predictions)\\ntflite_model_pred_simplified = max_values_only(tflite_model_predictions)\\ntflite_q_model_pred_simplified = max_values_only(tflite_q_model_predictions)'"
            ]
          },
          "execution_count": 22,
          "metadata": {},
          "output_type": "execute_result"
        }
      ],
      "source": [
        "'''tf_model_pred_simplified = max_values_only(tf_model_predictions)\n",
        "tflite_model_pred_simplified = max_values_only(tflite_model_predictions)\n",
        "tflite_q_model_pred_simplified = max_values_only(tflite_q_model_predictions)'''"
      ]
    },
    {
      "cell_type": "markdown",
      "metadata": {
        "id": "AC3mZQCbpnyF",
        "outputId": "a8269264-2a4a-45f9-bd2a-91715e4e3fc4"
      },
      "source": [
        "# Build DataFrames and present example(# DataFrame을 구축하고 예제를 제시합니다.)"
      ]
    },
    {
      "cell_type": "code",
      "execution_count": null,
      "metadata": {
        "id": "87UHCLS8N2ib",
        "outputId": "c1470e3f-3eb1-49f5-ce4e-41457a6aa59c"
      },
      "outputs": [
        {
          "data": {
            "text/plain": [
              "'columns_names = [\"Label_id\", \"Confidence\"]\\ntf_model_simple_dataframe = pd.DataFrame(tf_model_pred_simplified)\\ntf_model_simple_dataframe.columns = columns_names\\n\\ntflite_model_simple_dataframe = pd.DataFrame(tflite_model_pred_simplified)\\ntflite_model_simple_dataframe.columns = columns_names\\n\\ntflite_q_model_simple_dataframe = pd.DataFrame(tflite_q_model_pred_simplified)\\ntflite_q_model_simple_dataframe.columns = columns_names\\n\\ntf_model_simple_dataframe.head()'"
            ]
          },
          "execution_count": 24,
          "metadata": {},
          "output_type": "execute_result"
        }
      ],
      "source": [
        "'''columns_names = [\"Label_id\", \"Confidence\"]\n",
        "tf_model_simple_dataframe = pd.DataFrame(tf_model_pred_simplified)\n",
        "tf_model_simple_dataframe.columns = columns_names\n",
        "\n",
        "tflite_model_simple_dataframe = pd.DataFrame(tflite_model_pred_simplified)\n",
        "tflite_model_simple_dataframe.columns = columns_names\n",
        "\n",
        "tflite_q_model_simple_dataframe = pd.DataFrame(tflite_q_model_pred_simplified)\n",
        "tflite_q_model_simple_dataframe.columns = columns_names\n",
        "\n",
        "tf_model_simple_dataframe.head()'''"
      ]
    },
    {
      "cell_type": "markdown",
      "metadata": {
        "id": "di0vIUMN_T0I",
        "outputId": "773e1b47-2da8-47ac-b6b5-0c1fdbd79707"
      },
      "source": [
        "# Concatenate results from all models(# 모든 모델의 결과 연결)"
      ]
    },
    {
      "cell_type": "code",
      "execution_count": null,
      "metadata": {
        "id": "WZZnCMqNN2ic",
        "outputId": "5bed573c-9598-412f-b52b-0521fc007de3"
      },
      "outputs": [
        {
          "data": {
            "text/plain": [
              "\"all_models_simple_dataframe = pd.concat([tf_model_simple_dataframe, \\n                                         tflite_model_simple_dataframe, \\n                                         tflite_q_model_simple_dataframe], \\n                                        keys=['TF Model', 'TFLite', 'TFLite quantized'],\\n                                        axis='columns')\""
            ]
          },
          "execution_count": 25,
          "metadata": {},
          "output_type": "execute_result"
        }
      ],
      "source": [
        "'''all_models_simple_dataframe = pd.concat([tf_model_simple_dataframe, \n",
        "                                         tflite_model_simple_dataframe, \n",
        "                                         tflite_q_model_simple_dataframe], \n",
        "                                        keys=['TF Model', 'TFLite', 'TFLite quantized'],\n",
        "                                        axis='columns')'''"
      ]
    },
    {
      "cell_type": "markdown",
      "metadata": {
        "id": "rSksffZcN2id"
      },
      "source": [
        "# Swap columns for side-by-side comparison(# 나란히 비교를 위해 열 교체)"
      ]
    },
    {
      "cell_type": "code",
      "execution_count": null,
      "metadata": {
        "id": "f2tbpkfVN2id",
        "outputId": "44c5c271-5aa1-4957-aa1e-63ccc1853a4f"
      },
      "outputs": [
        {
          "data": {
            "text/plain": [
              "\"all_models_simple_dataframe = all_models_simple_dataframe.swaplevel(axis='columns')[tf_model_simple_dataframe.columns]\""
            ]
          },
          "execution_count": 26,
          "metadata": {},
          "output_type": "execute_result"
        }
      ],
      "source": [
        "'''all_models_simple_dataframe = all_models_simple_dataframe.swaplevel(axis='columns')[tf_model_simple_dataframe.columns]'''"
      ]
    },
    {
      "cell_type": "markdown",
      "metadata": {
        "id": "hoYqtH4jN2id"
      },
      "source": [
        "# Highlight differences(# 차이점 강조)"
      ]
    },
    {
      "cell_type": "code",
      "execution_count": null,
      "metadata": {
        "id": "dlZHqei0N2ie",
        "outputId": "9c3b90f6-6316-4ef7-a1bf-5d240d041280"
      },
      "outputs": [
        {
          "data": {
            "text/plain": [
              "'all_models_simple_dataframe.style.apply(highlight_diff, axis=None)'"
            ]
          },
          "execution_count": 27,
          "metadata": {},
          "output_type": "execute_result"
        }
      ],
      "source": [
        "'''all_models_simple_dataframe.style.apply(highlight_diff, axis=None)'''"
      ]
    },
    {
      "cell_type": "markdown",
      "metadata": {
        "id": "AGlSOG2DqjqY"
      },
      "source": [
        "## Visualize predictions from TFLite models(FLite 모델의 예측 시각화)\n",
        "\n",
        "At the end let's visualize predictions from TensorFlow Lite and quantized TensorFlow Lite models.\n",
        "\n",
        "마지막으로 TensorFlow Lite 및 양자화된 TensorFlow Lite 모델의 예측을 시각화해 보겠습니다."
      ]
    },
    {
      "cell_type": "markdown",
      "metadata": {
        "id": "fqqvh-QvdB6g",
        "outputId": "13b1a360-87e6-440c-a193-8d1a32068bf8"
      },
      "source": [
        "# Print images batch and labels predictions for TFLite Model(# TFLite 모델에 대한 이미지 배치 및 레이블 예측 출력)"
      ]
    },
    {
      "cell_type": "code",
      "execution_count": null,
      "metadata": {
        "id": "fxEFDPA5N2if",
        "outputId": "2b232142-1e15-4813-bacd-c8c15c4211ab"
      },
      "outputs": [
        {
          "data": {
            "text/plain": [
              "'tflite_predicted_ids = np.argmax(tflite_model_predictions, axis=-1)\\ntflite_predicted_labels = dataset_labels[tflite_predicted_ids]\\ntflite_label_id = np.argmax(val_label_batch, axis=-1)\\n\\nplt.figure(figsize=(10,9))\\nplt.subplots_adjust(hspace=0.5)\\nfor n in range(30):\\n  plt.subplot(6,5,n+1)\\n  plt.imshow(val_image_batch[n])\\n  color = \"green\" if tflite_predicted_ids[n] == true_label_ids[n] else \"red\"\\n  plt.title(tflite_predicted_labels[n].title(), color=color)\\n  plt.axis(\\'off\\')\\n_ = plt.suptitle(\"TFLite model predictions (green: correct, red: incorrect)\")'"
            ]
          },
          "execution_count": 28,
          "metadata": {},
          "output_type": "execute_result"
        }
      ],
      "source": [
        "'''tflite_predicted_ids = np.argmax(tflite_model_predictions, axis=-1)\n",
        "tflite_predicted_labels = dataset_labels[tflite_predicted_ids]\n",
        "tflite_label_id = np.argmax(val_label_batch, axis=-1)\n",
        "\n",
        "plt.figure(figsize=(10,9))\n",
        "plt.subplots_adjust(hspace=0.5)\n",
        "for n in range(30):\n",
        "  plt.subplot(6,5,n+1)\n",
        "  plt.imshow(val_image_batch[n])\n",
        "  color = \"green\" if tflite_predicted_ids[n] == true_label_ids[n] else \"red\"\n",
        "  plt.title(tflite_predicted_labels[n].title(), color=color)\n",
        "  plt.axis('off')\n",
        "_ = plt.suptitle(\"TFLite model predictions (green: correct, red: incorrect)\")'''"
      ]
    },
    {
      "cell_type": "markdown",
      "metadata": {
        "id": "5po0e7gAw_tn"
      },
      "source": [
        "## Export image validation batch(이미지 유효성 검사 일괄 내보내기)"
      ]
    },
    {
      "cell_type": "markdown",
      "metadata": {
        "id": "QabY81a16vp_"
      },
      "source": [
        "Export validation batch so it can be tested client side. Below we create compressed file containing all images named with the convention:\n",
        "\n",
        "`n{}_true{}_pred{}.jpg`\n",
        "\n",
        "where the first number is index, the second - true label index, the third - value predicted by TFLite moder generated in this notebook. Example file will look similar to this: `n0_true1_pred1.jpg`.\n",
        "\n",
        "All images then will be put into client side testing code (res/assets in Android tests). Integration tests will run inference process on each image and then compare results with the ones saved in file names.\n",
        "\n",
        "클라이언트 측에서 테스트할 수 있도록 유효성 검사 일괄 처리를 내보냅니다. 아래에서는 규칙에 따라 이름이 지정된 모든 이미지가 포함된 압축 파일을 만듭니다.\n",
        "\n",
        "`n{}_true{}_pred{}.jpg`\n",
        "\n",
        "여기서 첫 번째 숫자는 인덱스, 두 번째는 실제 레이블 인덱스, 세 번째는 이 노트북에서 생성된 TFLite 모더가 예측한 값입니다. 예제 파일은 `n0_true1_pred1.jpg`와 유사합니다.\n",
        "\n",
        "그러면 모든 이미지가 클라이언트 측 테스트 코드(Android 테스트의 res/assets)에 포함됩니다. 통합 테스트는 각 이미지에 대해 추론 프로세스를 실행한 다음 파일 이름에 저장된 결과와 결과를 비교합니다."
      ]
    },
    {
      "cell_type": "code",
      "execution_count": null,
      "metadata": {
        "id": "0_T9n8o01wPc",
        "outputId": "1a0240f7-32e1-458e-f014-15faec0fe6ed"
      },
      "outputs": [
        {
          "data": {
            "text/plain": [
              "'from PIL import Image'"
            ]
          },
          "execution_count": 30,
          "metadata": {},
          "output_type": "execute_result"
        }
      ],
      "source": [
        "'''from PIL import Image'''"
      ]
    },
    {
      "cell_type": "code",
      "execution_count": null,
      "metadata": {
        "id": "TN-a27dBpvID",
        "outputId": "fb38fec1-73d0-4b4a-e538-1d8af4373865"
      },
      "outputs": [
        {
          "data": {
            "text/plain": [
              "'VAL_BATCH_DIR = \"validation_batch\"'"
            ]
          },
          "execution_count": 31,
          "metadata": {},
          "output_type": "execute_result"
        }
      ],
      "source": [
        "'''VAL_BATCH_DIR = \"validation_batch\"'''"
      ]
    },
    {
      "cell_type": "code",
      "execution_count": null,
      "metadata": {
        "colab": {
          "base_uri": "https://localhost:8080/",
          "height": 34
        },
        "id": "SVlZZzEu1U9p",
        "outputId": "52731dd7-68f3-4603-924d-067ffe30f059"
      },
      "outputs": [
        {
          "data": {
            "text/plain": [
              "'!mkdir {VAL_BATCH_DIR}'"
            ]
          },
          "execution_count": 32,
          "metadata": {},
          "output_type": "execute_result"
        }
      ],
      "source": [
        "'''!mkdir {VAL_BATCH_DIR}'''"
      ]
    },
    {
      "cell_type": "markdown",
      "metadata": {
        "id": "PhWe3RrhxFZj"
      },
      "source": [
        "# Export batch to *.jpg files with specific naming convention.(# 특정 명명 규칙에 따라 배치를 *.jpg 파일로 내보냅니다.)"
      ]
    },
    {
      "cell_type": "markdown",
      "metadata": {
        "id": "Ty69Bi0UN2ii"
      },
      "source": [
        "# Make sure they are exported in the full quality, otherwise the inference(# 전체 품질로 내보내졌는지 확인하세요. 그렇지 않으면 추론이 가능합니다.)"
      ]
    },
    {
      "cell_type": "markdown",
      "metadata": {
        "id": "GhUuDBJzN2ij"
      },
      "source": [
        "# process will return different results. (# 프로세스는 다른 결과를 반환합니다.)"
      ]
    },
    {
      "cell_type": "code",
      "execution_count": null,
      "metadata": {
        "id": "x1XyxBtFN2ij"
      },
      "outputs": [],
      "source": [
        "'''for n in range(32):\n",
        "  filename = \"n{:0.0f}_true{:0.0f}_pred{:0.0f}.jpg\".format(\n",
        "      n,\n",
        "      true_label_ids[n],\n",
        "      tflite_model_pred_simplified[n][0]\n",
        "  )\n",
        "  img_arr = np.copy(val_image_batch[n])\n",
        "  img_arr *= 255\n",
        "  img_arr = img_arr.astype(\"uint8\")\n",
        "  img11 = Image.fromarray(img_arr, 'RGB')\n",
        "  img11.save(\"{}/{}\".format(VAL_BATCH_DIR, filename), \"JPEG\", quality=100)'''"
      ]
    },
    {
      "cell_type": "code",
      "execution_count": null,
      "metadata": {
        "id": "NxsY9jwkxakd"
      },
      "outputs": [],
      "source": [
        "'''!tar -zcvf {VAL_BATCH_DIR}.tar.gz {VAL_BATCH_DIR}'''"
      ]
    },
    {
      "cell_type": "markdown",
      "metadata": {
        "id": "93k0utqr8Mq-"
      },
      "source": [
        "File `validation_batch.tar.gz` is ready to be downloaded, unpacked and put into client-side testing code.\n",
        "\n",
        "`validation_batch.tar.gz` 파일을 다운로드하고 압축을 풀고 클라이언트 측 테스트 코드에 넣을 준비가 되었습니다."
      ]
    },
    {
      "cell_type": "code",
      "execution_count": null,
      "metadata": {
        "id": "01TBzYh7N2ik"
      },
      "outputs": [],
      "source": [
        ""
      ]
    }
  ],
  "metadata": {
    "accelerator": "GPU",
    "colab": {
      "collapsed_sections": [],
      "name": "Testing_TFLite_model-v2-sound-tf-fin-del-lite.ipynb",
      "provenance": [],
      "toc_visible": true,
      "include_colab_link": true
    },
    "kernelspec": {
      "display_name": "Python 3",
      "language": "python",
      "name": "python3"
    },
    "language_info": {
      "codemirror_mode": {
        "name": "ipython",
        "version": 3
      },
      "file_extension": ".py",
      "mimetype": "text/x-python",
      "name": "python",
      "nbconvert_exporter": "python",
      "pygments_lexer": "ipython3",
      "version": "3.8.8"
    },
    "toc": {
      "base_numbering": 1,
      "nav_menu": {},
      "number_sections": true,
      "sideBar": true,
      "skip_h1_title": false,
      "title_cell": "Table of Contents",
      "title_sidebar": "Contents",
      "toc_cell": false,
      "toc_position": {},
      "toc_section_display": true,
      "toc_window_display": false
    },
    "varInspector": {
      "cols": {
        "lenName": 16,
        "lenType": 16,
        "lenVar": 40
      },
      "kernels_config": {
        "python": {
          "delete_cmd_postfix": "",
          "delete_cmd_prefix": "del ",
          "library": "var_list.py",
          "varRefreshCmd": "print(var_dic_list())"
        },
        "r": {
          "delete_cmd_postfix": ") ",
          "delete_cmd_prefix": "rm(",
          "library": "var_list.r",
          "varRefreshCmd": "cat(var_dic_list()) "
        }
      },
      "types_to_exclude": [
        "module",
        "function",
        "builtin_function_or_method",
        "instance",
        "_Feature"
      ],
      "window_display": false
    }
  },
  "nbformat": 4,
  "nbformat_minor": 0
}