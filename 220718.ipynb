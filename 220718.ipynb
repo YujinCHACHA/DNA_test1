{
  "nbformat": 4,
  "nbformat_minor": 0,
  "metadata": {
    "colab": {
      "name": "220718.ipynb",
      "provenance": [],
      "collapsed_sections": [],
      "toc_visible": true
    },
    "kernelspec": {
      "name": "python3",
      "display_name": "Python 3"
    },
    "language_info": {
      "name": "python"
    }
  },
  "cells": [
    {
      "cell_type": "markdown",
      "source": [
        "지난 시간 (7/13) 복습: EDA\n",
        "- Target\n",
        "- Feature\n",
        "- 통계치 분석 - .describe()\n",
        "- 가설검정"
      ],
      "metadata": {
        "id": "USAsup1l5ikt"
      }
    },
    {
      "cell_type": "markdown",
      "source": [
        "# 실습1\n",
        "- 데이터 분석 프로세스\n",
        "- 데이터 살펴보기\n",
        "- 데이터 전처리\n",
        "- EDA\n",
        "- Featrue Engineering\n",
        "- Modeling1\n",
        "- 제출1"
      ],
      "metadata": {
        "id": "JyzJKdTauGur"
      }
    },
    {
      "cell_type": "markdown",
      "source": [
        "\n",
        "\n",
        "---\n",
        "- 데이터 준비  \n",
        "\n",
        "\n",
        "- 데이터 확인  \n",
        "\n",
        "\n",
        "\n",
        "- 데이터 통계치 확인  \n",
        "  **describe()** 메소드를 이용하면 수치형 변수의 통계치를 데이터 프레임 형태로 반환해 준다.\n",
        "---\n",
        "\n"
      ],
      "metadata": {
        "id": "CNnwmXRQvuPi"
      }
    },
    {
      "cell_type": "markdown",
      "source": [
        "- date_time 쪼개기\n",
        "- 요일 정보 추가\n",
        "- 변수 타입 변경"
      ],
      "metadata": {
        "id": "g7aVMsfXuGma"
      }
    },
    {
      "cell_type": "code",
      "source": [
        "!sudo apt-get install -y fonts-nanum\n",
        "!sudo fc-cache -fv]\n",
        "!rm ~/.cache/matplotlib -rf"
      ],
      "metadata": {
        "id": "Znp6TZ7w5jWh",
        "colab": {
          "base_uri": "https://localhost:8080/"
        },
        "outputId": "973f8ca4-88b5-45d2-9c4e-1a2036d4be89"
      },
      "execution_count": 1,
      "outputs": [
        {
          "output_type": "stream",
          "name": "stdout",
          "text": [
            "Reading package lists... Done\n",
            "Building dependency tree       \n",
            "Reading state information... Done\n",
            "The following package was automatically installed and is no longer required:\n",
            "  libnvidia-common-460\n",
            "Use 'sudo apt autoremove' to remove it.\n",
            "The following NEW packages will be installed:\n",
            "  fonts-nanum\n",
            "0 upgraded, 1 newly installed, 0 to remove and 49 not upgraded.\n",
            "Need to get 9,604 kB of archives.\n",
            "After this operation, 29.5 MB of additional disk space will be used.\n",
            "Get:1 http://archive.ubuntu.com/ubuntu bionic/universe amd64 fonts-nanum all 20170925-1 [9,604 kB]\n",
            "Fetched 9,604 kB in 0s (32.3 MB/s)\n",
            "debconf: unable to initialize frontend: Dialog\n",
            "debconf: (No usable dialog-like program is installed, so the dialog based frontend cannot be used. at /usr/share/perl5/Debconf/FrontEnd/Dialog.pm line 76, <> line 1.)\n",
            "debconf: falling back to frontend: Readline\n",
            "debconf: unable to initialize frontend: Readline\n",
            "debconf: (This frontend requires a controlling tty.)\n",
            "debconf: falling back to frontend: Teletype\n",
            "dpkg-preconfigure: unable to re-open stdin: \n",
            "Selecting previously unselected package fonts-nanum.\n",
            "(Reading database ... 155653 files and directories currently installed.)\n",
            "Preparing to unpack .../fonts-nanum_20170925-1_all.deb ...\n",
            "Unpacking fonts-nanum (20170925-1) ...\n",
            "Setting up fonts-nanum (20170925-1) ...\n",
            "Processing triggers for fontconfig (2.12.6-0ubuntu2) ...\n",
            "fc-cache: invalid option -- ']'\n",
            "usage: fc-cache [-EfrsvVh] [-y SYSROOT] [--error-on-no-fonts] [--force|--really-force] [--sysroot=SYSROOT] [--system-only] [--verbose] [--version] [--help] [dirs]\n",
            "Build font information caches in [dirs]\n",
            "(all directories in font configuration by default).\n",
            "\n",
            "  -E, --error-on-no-fonts  raise an error if no fonts in a directory\n",
            "  -f, --force              scan directories with apparently valid caches\n",
            "  -r, --really-force       erase all existing caches, then rescan\n",
            "  -s, --system-only        scan system-wide directories only\n",
            "  -y, --sysroot=SYSROOT    prepend SYSROOT to all paths for scanning\n",
            "  -v, --verbose            display status information while busy\n",
            "  -V, --version            display font config version and exit\n",
            "  -h, --help               display this help and exit\n"
          ]
        }
      ]
    },
    {
      "cell_type": "code",
      "source": [
        "# 드라이브 사용 설정\n",
        "from google.colab import drive\n",
        "drive.mount('/content/drive')"
      ],
      "metadata": {
        "id": "dtmntBGH5jc_",
        "colab": {
          "base_uri": "https://localhost:8080/"
        },
        "outputId": "526e7033-0611-4163-9f0b-a0faef8664a3"
      },
      "execution_count": 2,
      "outputs": [
        {
          "output_type": "stream",
          "name": "stdout",
          "text": [
            "Mounted at /content/drive\n"
          ]
        }
      ]
    },
    {
      "cell_type": "markdown",
      "source": [
        "# 1.데이터 살펴보기\n",
        "\n",
        "**train.csv**: 모델을 학습하는 데 사용하는 데이터  \n",
        "\n",
        "**test.csv**: 모델을 통하여 따릉이 대여량을 예측하는 데 사용하는 데이터  \n",
        "\n",
        "**sample_submission.csv**: test데이터의 예측 값을 저장하여 제출하기 위한 데이터"
      ],
      "metadata": {
        "id": "SZB2D0U2xaFm"
      }
    },
    {
      "cell_type": "markdown",
      "source": [
        "## 1.1 데이터 준비\n",
        "pd.read_csv()"
      ],
      "metadata": {
        "id": "c8AtFvb_zNcv"
      }
    },
    {
      "cell_type": "code",
      "source": [
        "# 데이터 준비 - 로드\n",
        "import pandas as pd\n",
        "train = pd.read_csv('/content/drive/MyDrive/따릉이/train.csv')\n",
        "test = pd.read_csv('/content/drive/MyDrive/따릉이/test.csv')\n",
        "submission = pd.read_csv('/content/drive/MyDrive/따릉이/sample_submission.csv')"
      ],
      "metadata": {
        "id": "0mAI62O25jiG"
      },
      "execution_count": 1,
      "outputs": []
    },
    {
      "cell_type": "markdown",
      "source": [
        "## 1.2 데이터 확인\n",
        "head()  \n",
        "tail()  \n",
        "info()  "
      ],
      "metadata": {
        "id": "gymgMCkK5jnp"
      }
    },
    {
      "cell_type": "code",
      "source": [
        "# 데이터 상위 5개 행 출력\n",
        "train.head()"
      ],
      "metadata": {
        "colab": {
          "base_uri": "https://localhost:8080/",
          "height": 357
        },
        "id": "SgtitIjOyTBj",
        "outputId": "014c8678-7be9-4223-8866-c5753b8638f9"
      },
      "execution_count": 2,
      "outputs": [
        {
          "output_type": "execute_result",
          "data": {
            "text/plain": [
              "    date_time  wind_direction  sky_condition  precipitation_form  wind_speed  \\\n",
              "0  2018-04-01         207.500          4.000               0.000       3.050   \n",
              "1  2018-04-02         208.317          2.950               0.000       3.278   \n",
              "2  2018-04-03         213.516          2.911               0.000       2.690   \n",
              "3  2018-04-04         143.836          3.692               0.425       3.138   \n",
              "4  2018-04-05          95.905          4.000               0.723       3.186   \n",
              "\n",
              "   humidity  low_temp  high_temp  Precipitation_Probability  number_of_rentals  \n",
              "0    75.000    12.600     21.000                     30.000              22994  \n",
              "1    69.833    12.812     19.000                     19.500              28139  \n",
              "2    74.879    10.312     15.316                     19.113              26817  \n",
              "3    71.849     8.312     12.368                     43.493              26034  \n",
              "4    73.784     5.875     10.421                     63.378               2833  "
            ],
            "text/html": [
              "\n",
              "  <div id=\"df-4c46488b-1bb9-4f6b-a78c-66f0c22e7aad\">\n",
              "    <div class=\"colab-df-container\">\n",
              "      <div>\n",
              "<style scoped>\n",
              "    .dataframe tbody tr th:only-of-type {\n",
              "        vertical-align: middle;\n",
              "    }\n",
              "\n",
              "    .dataframe tbody tr th {\n",
              "        vertical-align: top;\n",
              "    }\n",
              "\n",
              "    .dataframe thead th {\n",
              "        text-align: right;\n",
              "    }\n",
              "</style>\n",
              "<table border=\"1\" class=\"dataframe\">\n",
              "  <thead>\n",
              "    <tr style=\"text-align: right;\">\n",
              "      <th></th>\n",
              "      <th>date_time</th>\n",
              "      <th>wind_direction</th>\n",
              "      <th>sky_condition</th>\n",
              "      <th>precipitation_form</th>\n",
              "      <th>wind_speed</th>\n",
              "      <th>humidity</th>\n",
              "      <th>low_temp</th>\n",
              "      <th>high_temp</th>\n",
              "      <th>Precipitation_Probability</th>\n",
              "      <th>number_of_rentals</th>\n",
              "    </tr>\n",
              "  </thead>\n",
              "  <tbody>\n",
              "    <tr>\n",
              "      <th>0</th>\n",
              "      <td>2018-04-01</td>\n",
              "      <td>207.500</td>\n",
              "      <td>4.000</td>\n",
              "      <td>0.000</td>\n",
              "      <td>3.050</td>\n",
              "      <td>75.000</td>\n",
              "      <td>12.600</td>\n",
              "      <td>21.000</td>\n",
              "      <td>30.000</td>\n",
              "      <td>22994</td>\n",
              "    </tr>\n",
              "    <tr>\n",
              "      <th>1</th>\n",
              "      <td>2018-04-02</td>\n",
              "      <td>208.317</td>\n",
              "      <td>2.950</td>\n",
              "      <td>0.000</td>\n",
              "      <td>3.278</td>\n",
              "      <td>69.833</td>\n",
              "      <td>12.812</td>\n",
              "      <td>19.000</td>\n",
              "      <td>19.500</td>\n",
              "      <td>28139</td>\n",
              "    </tr>\n",
              "    <tr>\n",
              "      <th>2</th>\n",
              "      <td>2018-04-03</td>\n",
              "      <td>213.516</td>\n",
              "      <td>2.911</td>\n",
              "      <td>0.000</td>\n",
              "      <td>2.690</td>\n",
              "      <td>74.879</td>\n",
              "      <td>10.312</td>\n",
              "      <td>15.316</td>\n",
              "      <td>19.113</td>\n",
              "      <td>26817</td>\n",
              "    </tr>\n",
              "    <tr>\n",
              "      <th>3</th>\n",
              "      <td>2018-04-04</td>\n",
              "      <td>143.836</td>\n",
              "      <td>3.692</td>\n",
              "      <td>0.425</td>\n",
              "      <td>3.138</td>\n",
              "      <td>71.849</td>\n",
              "      <td>8.312</td>\n",
              "      <td>12.368</td>\n",
              "      <td>43.493</td>\n",
              "      <td>26034</td>\n",
              "    </tr>\n",
              "    <tr>\n",
              "      <th>4</th>\n",
              "      <td>2018-04-05</td>\n",
              "      <td>95.905</td>\n",
              "      <td>4.000</td>\n",
              "      <td>0.723</td>\n",
              "      <td>3.186</td>\n",
              "      <td>73.784</td>\n",
              "      <td>5.875</td>\n",
              "      <td>10.421</td>\n",
              "      <td>63.378</td>\n",
              "      <td>2833</td>\n",
              "    </tr>\n",
              "  </tbody>\n",
              "</table>\n",
              "</div>\n",
              "      <button class=\"colab-df-convert\" onclick=\"convertToInteractive('df-4c46488b-1bb9-4f6b-a78c-66f0c22e7aad')\"\n",
              "              title=\"Convert this dataframe to an interactive table.\"\n",
              "              style=\"display:none;\">\n",
              "        \n",
              "  <svg xmlns=\"http://www.w3.org/2000/svg\" height=\"24px\"viewBox=\"0 0 24 24\"\n",
              "       width=\"24px\">\n",
              "    <path d=\"M0 0h24v24H0V0z\" fill=\"none\"/>\n",
              "    <path d=\"M18.56 5.44l.94 2.06.94-2.06 2.06-.94-2.06-.94-.94-2.06-.94 2.06-2.06.94zm-11 1L8.5 8.5l.94-2.06 2.06-.94-2.06-.94L8.5 2.5l-.94 2.06-2.06.94zm10 10l.94 2.06.94-2.06 2.06-.94-2.06-.94-.94-2.06-.94 2.06-2.06.94z\"/><path d=\"M17.41 7.96l-1.37-1.37c-.4-.4-.92-.59-1.43-.59-.52 0-1.04.2-1.43.59L10.3 9.45l-7.72 7.72c-.78.78-.78 2.05 0 2.83L4 21.41c.39.39.9.59 1.41.59.51 0 1.02-.2 1.41-.59l7.78-7.78 2.81-2.81c.8-.78.8-2.07 0-2.86zM5.41 20L4 18.59l7.72-7.72 1.47 1.35L5.41 20z\"/>\n",
              "  </svg>\n",
              "      </button>\n",
              "      \n",
              "  <style>\n",
              "    .colab-df-container {\n",
              "      display:flex;\n",
              "      flex-wrap:wrap;\n",
              "      gap: 12px;\n",
              "    }\n",
              "\n",
              "    .colab-df-convert {\n",
              "      background-color: #E8F0FE;\n",
              "      border: none;\n",
              "      border-radius: 50%;\n",
              "      cursor: pointer;\n",
              "      display: none;\n",
              "      fill: #1967D2;\n",
              "      height: 32px;\n",
              "      padding: 0 0 0 0;\n",
              "      width: 32px;\n",
              "    }\n",
              "\n",
              "    .colab-df-convert:hover {\n",
              "      background-color: #E2EBFA;\n",
              "      box-shadow: 0px 1px 2px rgba(60, 64, 67, 0.3), 0px 1px 3px 1px rgba(60, 64, 67, 0.15);\n",
              "      fill: #174EA6;\n",
              "    }\n",
              "\n",
              "    [theme=dark] .colab-df-convert {\n",
              "      background-color: #3B4455;\n",
              "      fill: #D2E3FC;\n",
              "    }\n",
              "\n",
              "    [theme=dark] .colab-df-convert:hover {\n",
              "      background-color: #434B5C;\n",
              "      box-shadow: 0px 1px 3px 1px rgba(0, 0, 0, 0.15);\n",
              "      filter: drop-shadow(0px 1px 2px rgba(0, 0, 0, 0.3));\n",
              "      fill: #FFFFFF;\n",
              "    }\n",
              "  </style>\n",
              "\n",
              "      <script>\n",
              "        const buttonEl =\n",
              "          document.querySelector('#df-4c46488b-1bb9-4f6b-a78c-66f0c22e7aad button.colab-df-convert');\n",
              "        buttonEl.style.display =\n",
              "          google.colab.kernel.accessAllowed ? 'block' : 'none';\n",
              "\n",
              "        async function convertToInteractive(key) {\n",
              "          const element = document.querySelector('#df-4c46488b-1bb9-4f6b-a78c-66f0c22e7aad');\n",
              "          const dataTable =\n",
              "            await google.colab.kernel.invokeFunction('convertToInteractive',\n",
              "                                                     [key], {});\n",
              "          if (!dataTable) return;\n",
              "\n",
              "          const docLinkHtml = 'Like what you see? Visit the ' +\n",
              "            '<a target=\"_blank\" href=https://colab.research.google.com/notebooks/data_table.ipynb>data table notebook</a>'\n",
              "            + ' to learn more about interactive tables.';\n",
              "          element.innerHTML = '';\n",
              "          dataTable['output_type'] = 'display_data';\n",
              "          await google.colab.output.renderOutput(dataTable, element);\n",
              "          const docLink = document.createElement('div');\n",
              "          docLink.innerHTML = docLinkHtml;\n",
              "          element.appendChild(docLink);\n",
              "        }\n",
              "      </script>\n",
              "    </div>\n",
              "  </div>\n",
              "  "
            ]
          },
          "metadata": {},
          "execution_count": 2
        }
      ]
    },
    {
      "cell_type": "code",
      "source": [
        "# 데이터 하위 5개 행 출력\n",
        "train.tail()"
      ],
      "metadata": {
        "colab": {
          "base_uri": "https://localhost:8080/",
          "height": 357
        },
        "outputId": "bc58c5c1-eba9-4663-9c72-a6cc33ee1fea",
        "id": "8Cr8aIkBzcyN"
      },
      "execution_count": 3,
      "outputs": [
        {
          "output_type": "execute_result",
          "data": {
            "text/plain": [
              "      date_time  wind_direction  sky_condition  precipitation_form  \\\n",
              "268  2020-06-26         228.662          3.980               0.223   \n",
              "269  2020-06-27         207.770          2.865               0.081   \n",
              "270  2020-06-28         282.568          1.730               0.000   \n",
              "271  2020-06-29         137.027          2.257               0.088   \n",
              "272  2020-06-30         120.797          3.622               0.432   \n",
              "\n",
              "     wind_speed  humidity  low_temp  high_temp  Precipitation_Probability  \\\n",
              "268       2.271    78.378    20.500     27.526                     36.486   \n",
              "269       1.794    78.412    20.812     28.842                     21.081   \n",
              "270       1.820    72.736    21.000     29.053                      7.297   \n",
              "271       2.043    70.473    19.625     26.000                     15.541   \n",
              "272       5.574    77.061    19.125     26.053                     41.284   \n",
              "\n",
              "     number_of_rentals  \n",
              "268              96150  \n",
              "269             107001  \n",
              "270              98568  \n",
              "271              70053  \n",
              "272              38086  "
            ],
            "text/html": [
              "\n",
              "  <div id=\"df-45f05c47-e65c-4a9e-ac90-179bfda3fdc4\">\n",
              "    <div class=\"colab-df-container\">\n",
              "      <div>\n",
              "<style scoped>\n",
              "    .dataframe tbody tr th:only-of-type {\n",
              "        vertical-align: middle;\n",
              "    }\n",
              "\n",
              "    .dataframe tbody tr th {\n",
              "        vertical-align: top;\n",
              "    }\n",
              "\n",
              "    .dataframe thead th {\n",
              "        text-align: right;\n",
              "    }\n",
              "</style>\n",
              "<table border=\"1\" class=\"dataframe\">\n",
              "  <thead>\n",
              "    <tr style=\"text-align: right;\">\n",
              "      <th></th>\n",
              "      <th>date_time</th>\n",
              "      <th>wind_direction</th>\n",
              "      <th>sky_condition</th>\n",
              "      <th>precipitation_form</th>\n",
              "      <th>wind_speed</th>\n",
              "      <th>humidity</th>\n",
              "      <th>low_temp</th>\n",
              "      <th>high_temp</th>\n",
              "      <th>Precipitation_Probability</th>\n",
              "      <th>number_of_rentals</th>\n",
              "    </tr>\n",
              "  </thead>\n",
              "  <tbody>\n",
              "    <tr>\n",
              "      <th>268</th>\n",
              "      <td>2020-06-26</td>\n",
              "      <td>228.662</td>\n",
              "      <td>3.980</td>\n",
              "      <td>0.223</td>\n",
              "      <td>2.271</td>\n",
              "      <td>78.378</td>\n",
              "      <td>20.500</td>\n",
              "      <td>27.526</td>\n",
              "      <td>36.486</td>\n",
              "      <td>96150</td>\n",
              "    </tr>\n",
              "    <tr>\n",
              "      <th>269</th>\n",
              "      <td>2020-06-27</td>\n",
              "      <td>207.770</td>\n",
              "      <td>2.865</td>\n",
              "      <td>0.081</td>\n",
              "      <td>1.794</td>\n",
              "      <td>78.412</td>\n",
              "      <td>20.812</td>\n",
              "      <td>28.842</td>\n",
              "      <td>21.081</td>\n",
              "      <td>107001</td>\n",
              "    </tr>\n",
              "    <tr>\n",
              "      <th>270</th>\n",
              "      <td>2020-06-28</td>\n",
              "      <td>282.568</td>\n",
              "      <td>1.730</td>\n",
              "      <td>0.000</td>\n",
              "      <td>1.820</td>\n",
              "      <td>72.736</td>\n",
              "      <td>21.000</td>\n",
              "      <td>29.053</td>\n",
              "      <td>7.297</td>\n",
              "      <td>98568</td>\n",
              "    </tr>\n",
              "    <tr>\n",
              "      <th>271</th>\n",
              "      <td>2020-06-29</td>\n",
              "      <td>137.027</td>\n",
              "      <td>2.257</td>\n",
              "      <td>0.088</td>\n",
              "      <td>2.043</td>\n",
              "      <td>70.473</td>\n",
              "      <td>19.625</td>\n",
              "      <td>26.000</td>\n",
              "      <td>15.541</td>\n",
              "      <td>70053</td>\n",
              "    </tr>\n",
              "    <tr>\n",
              "      <th>272</th>\n",
              "      <td>2020-06-30</td>\n",
              "      <td>120.797</td>\n",
              "      <td>3.622</td>\n",
              "      <td>0.432</td>\n",
              "      <td>5.574</td>\n",
              "      <td>77.061</td>\n",
              "      <td>19.125</td>\n",
              "      <td>26.053</td>\n",
              "      <td>41.284</td>\n",
              "      <td>38086</td>\n",
              "    </tr>\n",
              "  </tbody>\n",
              "</table>\n",
              "</div>\n",
              "      <button class=\"colab-df-convert\" onclick=\"convertToInteractive('df-45f05c47-e65c-4a9e-ac90-179bfda3fdc4')\"\n",
              "              title=\"Convert this dataframe to an interactive table.\"\n",
              "              style=\"display:none;\">\n",
              "        \n",
              "  <svg xmlns=\"http://www.w3.org/2000/svg\" height=\"24px\"viewBox=\"0 0 24 24\"\n",
              "       width=\"24px\">\n",
              "    <path d=\"M0 0h24v24H0V0z\" fill=\"none\"/>\n",
              "    <path d=\"M18.56 5.44l.94 2.06.94-2.06 2.06-.94-2.06-.94-.94-2.06-.94 2.06-2.06.94zm-11 1L8.5 8.5l.94-2.06 2.06-.94-2.06-.94L8.5 2.5l-.94 2.06-2.06.94zm10 10l.94 2.06.94-2.06 2.06-.94-2.06-.94-.94-2.06-.94 2.06-2.06.94z\"/><path d=\"M17.41 7.96l-1.37-1.37c-.4-.4-.92-.59-1.43-.59-.52 0-1.04.2-1.43.59L10.3 9.45l-7.72 7.72c-.78.78-.78 2.05 0 2.83L4 21.41c.39.39.9.59 1.41.59.51 0 1.02-.2 1.41-.59l7.78-7.78 2.81-2.81c.8-.78.8-2.07 0-2.86zM5.41 20L4 18.59l7.72-7.72 1.47 1.35L5.41 20z\"/>\n",
              "  </svg>\n",
              "      </button>\n",
              "      \n",
              "  <style>\n",
              "    .colab-df-container {\n",
              "      display:flex;\n",
              "      flex-wrap:wrap;\n",
              "      gap: 12px;\n",
              "    }\n",
              "\n",
              "    .colab-df-convert {\n",
              "      background-color: #E8F0FE;\n",
              "      border: none;\n",
              "      border-radius: 50%;\n",
              "      cursor: pointer;\n",
              "      display: none;\n",
              "      fill: #1967D2;\n",
              "      height: 32px;\n",
              "      padding: 0 0 0 0;\n",
              "      width: 32px;\n",
              "    }\n",
              "\n",
              "    .colab-df-convert:hover {\n",
              "      background-color: #E2EBFA;\n",
              "      box-shadow: 0px 1px 2px rgba(60, 64, 67, 0.3), 0px 1px 3px 1px rgba(60, 64, 67, 0.15);\n",
              "      fill: #174EA6;\n",
              "    }\n",
              "\n",
              "    [theme=dark] .colab-df-convert {\n",
              "      background-color: #3B4455;\n",
              "      fill: #D2E3FC;\n",
              "    }\n",
              "\n",
              "    [theme=dark] .colab-df-convert:hover {\n",
              "      background-color: #434B5C;\n",
              "      box-shadow: 0px 1px 3px 1px rgba(0, 0, 0, 0.15);\n",
              "      filter: drop-shadow(0px 1px 2px rgba(0, 0, 0, 0.3));\n",
              "      fill: #FFFFFF;\n",
              "    }\n",
              "  </style>\n",
              "\n",
              "      <script>\n",
              "        const buttonEl =\n",
              "          document.querySelector('#df-45f05c47-e65c-4a9e-ac90-179bfda3fdc4 button.colab-df-convert');\n",
              "        buttonEl.style.display =\n",
              "          google.colab.kernel.accessAllowed ? 'block' : 'none';\n",
              "\n",
              "        async function convertToInteractive(key) {\n",
              "          const element = document.querySelector('#df-45f05c47-e65c-4a9e-ac90-179bfda3fdc4');\n",
              "          const dataTable =\n",
              "            await google.colab.kernel.invokeFunction('convertToInteractive',\n",
              "                                                     [key], {});\n",
              "          if (!dataTable) return;\n",
              "\n",
              "          const docLinkHtml = 'Like what you see? Visit the ' +\n",
              "            '<a target=\"_blank\" href=https://colab.research.google.com/notebooks/data_table.ipynb>data table notebook</a>'\n",
              "            + ' to learn more about interactive tables.';\n",
              "          element.innerHTML = '';\n",
              "          dataTable['output_type'] = 'display_data';\n",
              "          await google.colab.output.renderOutput(dataTable, element);\n",
              "          const docLink = document.createElement('div');\n",
              "          docLink.innerHTML = docLinkHtml;\n",
              "          element.appendChild(docLink);\n",
              "        }\n",
              "      </script>\n",
              "    </div>\n",
              "  </div>\n",
              "  "
            ]
          },
          "metadata": {},
          "execution_count": 3
        }
      ]
    },
    {
      "cell_type": "code",
      "source": [
        "# 데이터 결측치 및 변수들의 타입 확인\n",
        "train.info()"
      ],
      "metadata": {
        "colab": {
          "base_uri": "https://localhost:8080/"
        },
        "id": "ogiDfiVtyTKZ",
        "outputId": "78507c73-7e98-4618-f8e5-a378fe71312a"
      },
      "execution_count": 4,
      "outputs": [
        {
          "output_type": "stream",
          "name": "stdout",
          "text": [
            "<class 'pandas.core.frame.DataFrame'>\n",
            "RangeIndex: 273 entries, 0 to 272\n",
            "Data columns (total 10 columns):\n",
            " #   Column                     Non-Null Count  Dtype  \n",
            "---  ------                     --------------  -----  \n",
            " 0   date_time                  273 non-null    object \n",
            " 1   wind_direction             273 non-null    float64\n",
            " 2   sky_condition              273 non-null    float64\n",
            " 3   precipitation_form         273 non-null    float64\n",
            " 4   wind_speed                 273 non-null    float64\n",
            " 5   humidity                   273 non-null    float64\n",
            " 6   low_temp                   273 non-null    float64\n",
            " 7   high_temp                  273 non-null    float64\n",
            " 8   Precipitation_Probability  273 non-null    float64\n",
            " 9   number_of_rentals          273 non-null    int64  \n",
            "dtypes: float64(8), int64(1), object(1)\n",
            "memory usage: 21.5+ KB\n"
          ]
        }
      ]
    },
    {
      "cell_type": "code",
      "source": [
        "# 데이터 행, 열 출력\n",
        "train.shape"
      ],
      "metadata": {
        "id": "Mg1sBrhK5jtW",
        "colab": {
          "base_uri": "https://localhost:8080/"
        },
        "outputId": "7d0641ee-e4ba-40a3-a44a-3b73ea81c988"
      },
      "execution_count": 5,
      "outputs": [
        {
          "output_type": "execute_result",
          "data": {
            "text/plain": [
              "(273, 10)"
            ]
          },
          "metadata": {},
          "execution_count": 5
        }
      ]
    },
    {
      "cell_type": "markdown",
      "source": [
        "## 1.3 데이터 통계치 확인\n",
        "describe()"
      ],
      "metadata": {
        "id": "RnOI_2PdzvA1"
      }
    },
    {
      "cell_type": "code",
      "source": [
        "train.describe()"
      ],
      "metadata": {
        "id": "wTmDoTnJ5jx9",
        "colab": {
          "base_uri": "https://localhost:8080/",
          "height": 364
        },
        "outputId": "acac554b-86b4-4d81-bffa-caf083518a40"
      },
      "execution_count": 6,
      "outputs": [
        {
          "output_type": "execute_result",
          "data": {
            "text/plain": [
              "       wind_direction  sky_condition  precipitation_form  wind_speed  \\\n",
              "count      273.000000     273.000000          273.000000  273.000000   \n",
              "mean       202.750967       2.288256            0.100963    2.480963   \n",
              "std         56.659232       0.961775            0.203193    0.884397   \n",
              "min         57.047000       1.000000            0.000000    0.753000   \n",
              "25%        171.541000       1.405000            0.000000    1.820000   \n",
              "50%        209.774000       2.167000            0.000000    2.411000   \n",
              "75%        238.412000       3.000000            0.088000    2.924000   \n",
              "max        321.622000       4.000000            1.000000    5.607000   \n",
              "\n",
              "         humidity    low_temp   high_temp  Precipitation_Probability  \\\n",
              "count  273.000000  273.000000  273.000000                 273.000000   \n",
              "mean    56.745491   13.795249   23.384733                  16.878103   \n",
              "std     12.351268    5.107711    5.204605                  16.643772   \n",
              "min     24.831000    1.938000    9.895000                   0.000000   \n",
              "25%     47.196000    9.938000   19.842000                   4.054000   \n",
              "50%     55.845000   14.375000   24.158000                  12.162000   \n",
              "75%     66.419000   18.000000   27.526000                  22.973000   \n",
              "max     88.885000   22.312000   33.421000                  82.162000   \n",
              "\n",
              "       number_of_rentals  \n",
              "count         273.000000  \n",
              "mean        59574.978022  \n",
              "std         27659.575774  \n",
              "min          1037.000000  \n",
              "25%         36761.000000  \n",
              "50%         63032.000000  \n",
              "75%         81515.000000  \n",
              "max        110377.000000  "
            ],
            "text/html": [
              "\n",
              "  <div id=\"df-11b3573f-96cd-4264-becc-9e033fddfbee\">\n",
              "    <div class=\"colab-df-container\">\n",
              "      <div>\n",
              "<style scoped>\n",
              "    .dataframe tbody tr th:only-of-type {\n",
              "        vertical-align: middle;\n",
              "    }\n",
              "\n",
              "    .dataframe tbody tr th {\n",
              "        vertical-align: top;\n",
              "    }\n",
              "\n",
              "    .dataframe thead th {\n",
              "        text-align: right;\n",
              "    }\n",
              "</style>\n",
              "<table border=\"1\" class=\"dataframe\">\n",
              "  <thead>\n",
              "    <tr style=\"text-align: right;\">\n",
              "      <th></th>\n",
              "      <th>wind_direction</th>\n",
              "      <th>sky_condition</th>\n",
              "      <th>precipitation_form</th>\n",
              "      <th>wind_speed</th>\n",
              "      <th>humidity</th>\n",
              "      <th>low_temp</th>\n",
              "      <th>high_temp</th>\n",
              "      <th>Precipitation_Probability</th>\n",
              "      <th>number_of_rentals</th>\n",
              "    </tr>\n",
              "  </thead>\n",
              "  <tbody>\n",
              "    <tr>\n",
              "      <th>count</th>\n",
              "      <td>273.000000</td>\n",
              "      <td>273.000000</td>\n",
              "      <td>273.000000</td>\n",
              "      <td>273.000000</td>\n",
              "      <td>273.000000</td>\n",
              "      <td>273.000000</td>\n",
              "      <td>273.000000</td>\n",
              "      <td>273.000000</td>\n",
              "      <td>273.000000</td>\n",
              "    </tr>\n",
              "    <tr>\n",
              "      <th>mean</th>\n",
              "      <td>202.750967</td>\n",
              "      <td>2.288256</td>\n",
              "      <td>0.100963</td>\n",
              "      <td>2.480963</td>\n",
              "      <td>56.745491</td>\n",
              "      <td>13.795249</td>\n",
              "      <td>23.384733</td>\n",
              "      <td>16.878103</td>\n",
              "      <td>59574.978022</td>\n",
              "    </tr>\n",
              "    <tr>\n",
              "      <th>std</th>\n",
              "      <td>56.659232</td>\n",
              "      <td>0.961775</td>\n",
              "      <td>0.203193</td>\n",
              "      <td>0.884397</td>\n",
              "      <td>12.351268</td>\n",
              "      <td>5.107711</td>\n",
              "      <td>5.204605</td>\n",
              "      <td>16.643772</td>\n",
              "      <td>27659.575774</td>\n",
              "    </tr>\n",
              "    <tr>\n",
              "      <th>min</th>\n",
              "      <td>57.047000</td>\n",
              "      <td>1.000000</td>\n",
              "      <td>0.000000</td>\n",
              "      <td>0.753000</td>\n",
              "      <td>24.831000</td>\n",
              "      <td>1.938000</td>\n",
              "      <td>9.895000</td>\n",
              "      <td>0.000000</td>\n",
              "      <td>1037.000000</td>\n",
              "    </tr>\n",
              "    <tr>\n",
              "      <th>25%</th>\n",
              "      <td>171.541000</td>\n",
              "      <td>1.405000</td>\n",
              "      <td>0.000000</td>\n",
              "      <td>1.820000</td>\n",
              "      <td>47.196000</td>\n",
              "      <td>9.938000</td>\n",
              "      <td>19.842000</td>\n",
              "      <td>4.054000</td>\n",
              "      <td>36761.000000</td>\n",
              "    </tr>\n",
              "    <tr>\n",
              "      <th>50%</th>\n",
              "      <td>209.774000</td>\n",
              "      <td>2.167000</td>\n",
              "      <td>0.000000</td>\n",
              "      <td>2.411000</td>\n",
              "      <td>55.845000</td>\n",
              "      <td>14.375000</td>\n",
              "      <td>24.158000</td>\n",
              "      <td>12.162000</td>\n",
              "      <td>63032.000000</td>\n",
              "    </tr>\n",
              "    <tr>\n",
              "      <th>75%</th>\n",
              "      <td>238.412000</td>\n",
              "      <td>3.000000</td>\n",
              "      <td>0.088000</td>\n",
              "      <td>2.924000</td>\n",
              "      <td>66.419000</td>\n",
              "      <td>18.000000</td>\n",
              "      <td>27.526000</td>\n",
              "      <td>22.973000</td>\n",
              "      <td>81515.000000</td>\n",
              "    </tr>\n",
              "    <tr>\n",
              "      <th>max</th>\n",
              "      <td>321.622000</td>\n",
              "      <td>4.000000</td>\n",
              "      <td>1.000000</td>\n",
              "      <td>5.607000</td>\n",
              "      <td>88.885000</td>\n",
              "      <td>22.312000</td>\n",
              "      <td>33.421000</td>\n",
              "      <td>82.162000</td>\n",
              "      <td>110377.000000</td>\n",
              "    </tr>\n",
              "  </tbody>\n",
              "</table>\n",
              "</div>\n",
              "      <button class=\"colab-df-convert\" onclick=\"convertToInteractive('df-11b3573f-96cd-4264-becc-9e033fddfbee')\"\n",
              "              title=\"Convert this dataframe to an interactive table.\"\n",
              "              style=\"display:none;\">\n",
              "        \n",
              "  <svg xmlns=\"http://www.w3.org/2000/svg\" height=\"24px\"viewBox=\"0 0 24 24\"\n",
              "       width=\"24px\">\n",
              "    <path d=\"M0 0h24v24H0V0z\" fill=\"none\"/>\n",
              "    <path d=\"M18.56 5.44l.94 2.06.94-2.06 2.06-.94-2.06-.94-.94-2.06-.94 2.06-2.06.94zm-11 1L8.5 8.5l.94-2.06 2.06-.94-2.06-.94L8.5 2.5l-.94 2.06-2.06.94zm10 10l.94 2.06.94-2.06 2.06-.94-2.06-.94-.94-2.06-.94 2.06-2.06.94z\"/><path d=\"M17.41 7.96l-1.37-1.37c-.4-.4-.92-.59-1.43-.59-.52 0-1.04.2-1.43.59L10.3 9.45l-7.72 7.72c-.78.78-.78 2.05 0 2.83L4 21.41c.39.39.9.59 1.41.59.51 0 1.02-.2 1.41-.59l7.78-7.78 2.81-2.81c.8-.78.8-2.07 0-2.86zM5.41 20L4 18.59l7.72-7.72 1.47 1.35L5.41 20z\"/>\n",
              "  </svg>\n",
              "      </button>\n",
              "      \n",
              "  <style>\n",
              "    .colab-df-container {\n",
              "      display:flex;\n",
              "      flex-wrap:wrap;\n",
              "      gap: 12px;\n",
              "    }\n",
              "\n",
              "    .colab-df-convert {\n",
              "      background-color: #E8F0FE;\n",
              "      border: none;\n",
              "      border-radius: 50%;\n",
              "      cursor: pointer;\n",
              "      display: none;\n",
              "      fill: #1967D2;\n",
              "      height: 32px;\n",
              "      padding: 0 0 0 0;\n",
              "      width: 32px;\n",
              "    }\n",
              "\n",
              "    .colab-df-convert:hover {\n",
              "      background-color: #E2EBFA;\n",
              "      box-shadow: 0px 1px 2px rgba(60, 64, 67, 0.3), 0px 1px 3px 1px rgba(60, 64, 67, 0.15);\n",
              "      fill: #174EA6;\n",
              "    }\n",
              "\n",
              "    [theme=dark] .colab-df-convert {\n",
              "      background-color: #3B4455;\n",
              "      fill: #D2E3FC;\n",
              "    }\n",
              "\n",
              "    [theme=dark] .colab-df-convert:hover {\n",
              "      background-color: #434B5C;\n",
              "      box-shadow: 0px 1px 3px 1px rgba(0, 0, 0, 0.15);\n",
              "      filter: drop-shadow(0px 1px 2px rgba(0, 0, 0, 0.3));\n",
              "      fill: #FFFFFF;\n",
              "    }\n",
              "  </style>\n",
              "\n",
              "      <script>\n",
              "        const buttonEl =\n",
              "          document.querySelector('#df-11b3573f-96cd-4264-becc-9e033fddfbee button.colab-df-convert');\n",
              "        buttonEl.style.display =\n",
              "          google.colab.kernel.accessAllowed ? 'block' : 'none';\n",
              "\n",
              "        async function convertToInteractive(key) {\n",
              "          const element = document.querySelector('#df-11b3573f-96cd-4264-becc-9e033fddfbee');\n",
              "          const dataTable =\n",
              "            await google.colab.kernel.invokeFunction('convertToInteractive',\n",
              "                                                     [key], {});\n",
              "          if (!dataTable) return;\n",
              "\n",
              "          const docLinkHtml = 'Like what you see? Visit the ' +\n",
              "            '<a target=\"_blank\" href=https://colab.research.google.com/notebooks/data_table.ipynb>data table notebook</a>'\n",
              "            + ' to learn more about interactive tables.';\n",
              "          element.innerHTML = '';\n",
              "          dataTable['output_type'] = 'display_data';\n",
              "          await google.colab.output.renderOutput(dataTable, element);\n",
              "          const docLink = document.createElement('div');\n",
              "          docLink.innerHTML = docLinkHtml;\n",
              "          element.appendChild(docLink);\n",
              "        }\n",
              "      </script>\n",
              "    </div>\n",
              "  </div>\n",
              "  "
            ]
          },
          "metadata": {},
          "execution_count": 6
        }
      ]
    },
    {
      "cell_type": "markdown",
      "source": [
        "# 2.데이터 전처리\n",
        "EDA를 하기 위한 데이터 선행처리"
      ],
      "metadata": {
        "id": "UPSZdCau5kyL"
      }
    },
    {
      "cell_type": "markdown",
      "source": [
        "## 2.1 'date_time' 열 쪼개기"
      ],
      "metadata": {
        "id": "SRFVEy4x5kyO"
      }
    },
    {
      "cell_type": "markdown",
      "source": [
        "열 선택 방법 2가지\n",
        "\n",
        "1. train['열이름']\n",
        "\n",
        "2. train.열이름 (권장X)"
      ],
      "metadata": {
        "id": "BHviFizw0Ucp"
      }
    },
    {
      "cell_type": "markdown",
      "source": [
        "### 날짜 변경\n",
        "apply() - **DataFrame**에 적용 가능\n",
        "\n",
        "map() - **Series**에서만 적용 가능"
      ],
      "metadata": {
        "id": "1H0uUhgQ2XmS"
      }
    },
    {
      "cell_type": "code",
      "source": [
        "train['date_time']"
      ],
      "metadata": {
        "id": "lo5wn1gx5kyP",
        "colab": {
          "base_uri": "https://localhost:8080/"
        },
        "outputId": "9e7ecc15-dacd-467a-e410-0a5d6c2bc4a8"
      },
      "execution_count": 7,
      "outputs": [
        {
          "output_type": "execute_result",
          "data": {
            "text/plain": [
              "0      2018-04-01\n",
              "1      2018-04-02\n",
              "2      2018-04-03\n",
              "3      2018-04-04\n",
              "4      2018-04-05\n",
              "          ...    \n",
              "268    2020-06-26\n",
              "269    2020-06-27\n",
              "270    2020-06-28\n",
              "271    2020-06-29\n",
              "272    2020-06-30\n",
              "Name: date_time, Length: 273, dtype: object"
            ]
          },
          "metadata": {},
          "execution_count": 7
        }
      ]
    },
    {
      "cell_type": "code",
      "source": [
        "train.date_time"
      ],
      "metadata": {
        "id": "tM4zp5tJ5kyR",
        "colab": {
          "base_uri": "https://localhost:8080/"
        },
        "outputId": "a91c54a3-99e2-4f86-c365-2561060998d5"
      },
      "execution_count": 8,
      "outputs": [
        {
          "output_type": "execute_result",
          "data": {
            "text/plain": [
              "0      2018-04-01\n",
              "1      2018-04-02\n",
              "2      2018-04-03\n",
              "3      2018-04-04\n",
              "4      2018-04-05\n",
              "          ...    \n",
              "268    2020-06-26\n",
              "269    2020-06-27\n",
              "270    2020-06-28\n",
              "271    2020-06-29\n",
              "272    2020-06-30\n",
              "Name: date_time, Length: 273, dtype: object"
            ]
          },
          "metadata": {},
          "execution_count": 8
        }
      ]
    },
    {
      "cell_type": "markdown",
      "source": [
        "#### .apply() - 연, 월, 일 변경1\n",
        "데이터프레임에도 지원"
      ],
      "metadata": {
        "id": "Bu1IqdIr2Fu7"
      }
    },
    {
      "cell_type": "code",
      "source": [
        "train['date_time'][0].split('-')"
      ],
      "metadata": {
        "id": "9rffvwl45kyS",
        "colab": {
          "base_uri": "https://localhost:8080/"
        },
        "outputId": "bbcc456a-cf1d-4615-fc69-c720d049bfb4"
      },
      "execution_count": 11,
      "outputs": [
        {
          "output_type": "execute_result",
          "data": {
            "text/plain": [
              "['2018', '04', '01']"
            ]
          },
          "metadata": {},
          "execution_count": 11
        }
      ]
    },
    {
      "cell_type": "code",
      "source": [
        "year, month, day = train['date_time'][0].split('-')\n",
        "print('년 : '+ year)\n",
        "print('월 : '+ month)\n",
        "print('일 : '+ day)"
      ],
      "metadata": {
        "id": "xu5PaGj65kyT",
        "colab": {
          "base_uri": "https://localhost:8080/"
        },
        "outputId": "a7d5c045-5f90-4aef-ac04-27680cb9427f"
      },
      "execution_count": 13,
      "outputs": [
        {
          "output_type": "stream",
          "name": "stdout",
          "text": [
            "년 : 2018\n",
            "월 : 04\n",
            "일 : 01\n"
          ]
        }
      ]
    },
    {
      "cell_type": "code",
      "source": [
        "train['date_time'].apply(lambda x: x.split('-'))"
      ],
      "metadata": {
        "colab": {
          "base_uri": "https://localhost:8080/"
        },
        "id": "AnWM2cpMzmwW",
        "outputId": "17d0f770-a443-483b-8071-85c8b4a44461"
      },
      "execution_count": 14,
      "outputs": [
        {
          "output_type": "execute_result",
          "data": {
            "text/plain": [
              "0      [2018, 04, 01]\n",
              "1      [2018, 04, 02]\n",
              "2      [2018, 04, 03]\n",
              "3      [2018, 04, 04]\n",
              "4      [2018, 04, 05]\n",
              "            ...      \n",
              "268    [2020, 06, 26]\n",
              "269    [2020, 06, 27]\n",
              "270    [2020, 06, 28]\n",
              "271    [2020, 06, 29]\n",
              "272    [2020, 06, 30]\n",
              "Name: date_time, Length: 273, dtype: object"
            ]
          },
          "metadata": {},
          "execution_count": 14
        }
      ]
    },
    {
      "cell_type": "code",
      "source": [
        "train['월'] = train['date_time'].apply(lambda x: x.split('-')[1])"
      ],
      "metadata": {
        "colab": {
          "base_uri": "https://localhost:8080/"
        },
        "id": "fllT497tzmwZ",
        "outputId": "9df000c2-5fb2-4087-e2c7-990eb79ed135"
      },
      "execution_count": 15,
      "outputs": [
        {
          "output_type": "execute_result",
          "data": {
            "text/plain": [
              "0      2018\n",
              "1      2018\n",
              "2      2018\n",
              "3      2018\n",
              "4      2018\n",
              "       ... \n",
              "268    2020\n",
              "269    2020\n",
              "270    2020\n",
              "271    2020\n",
              "272    2020\n",
              "Name: date_time, Length: 273, dtype: object"
            ]
          },
          "metadata": {},
          "execution_count": 15
        }
      ]
    },
    {
      "cell_type": "code",
      "execution_count": null,
      "metadata": {
        "id": "-buIBYlrzmwa"
      },
      "outputs": [],
      "source": [
        "train['일'] = train['date_time'].apply(lambda x: x.split('-')[2])"
      ]
    },
    {
      "cell_type": "markdown",
      "source": [
        "#### .map() - 연, 월, 일 변경2\n",
        "Series 에서만 지원"
      ],
      "metadata": {
        "id": "PYRtTJXT2NIm"
      }
    },
    {
      "cell_type": "code",
      "source": [
        "def temp(x:str):\n",
        "  return x.split('-')[0]\n",
        "\n",
        "train['date_time'].map(temp)"
      ],
      "metadata": {
        "colab": {
          "base_uri": "https://localhost:8080/"
        },
        "id": "He5ma_Mczmwb",
        "outputId": "258cbfb3-2230-46da-ab0b-467e2608ea13"
      },
      "execution_count": 16,
      "outputs": [
        {
          "output_type": "execute_result",
          "data": {
            "text/plain": [
              "0      2018\n",
              "1      2018\n",
              "2      2018\n",
              "3      2018\n",
              "4      2018\n",
              "       ... \n",
              "268    2020\n",
              "269    2020\n",
              "270    2020\n",
              "271    2020\n",
              "272    2020\n",
              "Name: date_time, Length: 273, dtype: object"
            ]
          },
          "metadata": {},
          "execution_count": 16
        }
      ]
    },
    {
      "cell_type": "code",
      "source": [
        "train.apply(lambda x: x*2)"
      ],
      "metadata": {
        "colab": {
          "base_uri": "https://localhost:8080/",
          "height": 835
        },
        "id": "eS2EHyimzmwc",
        "outputId": "27160ef2-05ba-4408-95b8-047f9d3cd98a"
      },
      "execution_count": 17,
      "outputs": [
        {
          "output_type": "execute_result",
          "data": {
            "text/plain": [
              "                date_time  wind_direction  sky_condition  precipitation_form  \\\n",
              "0    2018-04-012018-04-01         415.000          8.000               0.000   \n",
              "1    2018-04-022018-04-02         416.634          5.900               0.000   \n",
              "2    2018-04-032018-04-03         427.032          5.822               0.000   \n",
              "3    2018-04-042018-04-04         287.672          7.384               0.850   \n",
              "4    2018-04-052018-04-05         191.810          8.000               1.446   \n",
              "..                    ...             ...            ...                 ...   \n",
              "268  2020-06-262020-06-26         457.324          7.960               0.446   \n",
              "269  2020-06-272020-06-27         415.540          5.730               0.162   \n",
              "270  2020-06-282020-06-28         565.136          3.460               0.000   \n",
              "271  2020-06-292020-06-29         274.054          4.514               0.176   \n",
              "272  2020-06-302020-06-30         241.594          7.244               0.864   \n",
              "\n",
              "     wind_speed  humidity  low_temp  high_temp  Precipitation_Probability  \\\n",
              "0         6.100   150.000    25.200     42.000                     60.000   \n",
              "1         6.556   139.666    25.624     38.000                     39.000   \n",
              "2         5.380   149.758    20.624     30.632                     38.226   \n",
              "3         6.276   143.698    16.624     24.736                     86.986   \n",
              "4         6.372   147.568    11.750     20.842                    126.756   \n",
              "..          ...       ...       ...        ...                        ...   \n",
              "268       4.542   156.756    41.000     55.052                     72.972   \n",
              "269       3.588   156.824    41.624     57.684                     42.162   \n",
              "270       3.640   145.472    42.000     58.106                     14.594   \n",
              "271       4.086   140.946    39.250     52.000                     31.082   \n",
              "272      11.148   154.122    38.250     52.106                     82.568   \n",
              "\n",
              "     number_of_rentals  \n",
              "0                45988  \n",
              "1                56278  \n",
              "2                53634  \n",
              "3                52068  \n",
              "4                 5666  \n",
              "..                 ...  \n",
              "268             192300  \n",
              "269             214002  \n",
              "270             197136  \n",
              "271             140106  \n",
              "272              76172  \n",
              "\n",
              "[273 rows x 10 columns]"
            ],
            "text/html": [
              "\n",
              "  <div id=\"df-22c42522-a54f-4ecb-8f57-2402946a0f7f\">\n",
              "    <div class=\"colab-df-container\">\n",
              "      <div>\n",
              "<style scoped>\n",
              "    .dataframe tbody tr th:only-of-type {\n",
              "        vertical-align: middle;\n",
              "    }\n",
              "\n",
              "    .dataframe tbody tr th {\n",
              "        vertical-align: top;\n",
              "    }\n",
              "\n",
              "    .dataframe thead th {\n",
              "        text-align: right;\n",
              "    }\n",
              "</style>\n",
              "<table border=\"1\" class=\"dataframe\">\n",
              "  <thead>\n",
              "    <tr style=\"text-align: right;\">\n",
              "      <th></th>\n",
              "      <th>date_time</th>\n",
              "      <th>wind_direction</th>\n",
              "      <th>sky_condition</th>\n",
              "      <th>precipitation_form</th>\n",
              "      <th>wind_speed</th>\n",
              "      <th>humidity</th>\n",
              "      <th>low_temp</th>\n",
              "      <th>high_temp</th>\n",
              "      <th>Precipitation_Probability</th>\n",
              "      <th>number_of_rentals</th>\n",
              "    </tr>\n",
              "  </thead>\n",
              "  <tbody>\n",
              "    <tr>\n",
              "      <th>0</th>\n",
              "      <td>2018-04-012018-04-01</td>\n",
              "      <td>415.000</td>\n",
              "      <td>8.000</td>\n",
              "      <td>0.000</td>\n",
              "      <td>6.100</td>\n",
              "      <td>150.000</td>\n",
              "      <td>25.200</td>\n",
              "      <td>42.000</td>\n",
              "      <td>60.000</td>\n",
              "      <td>45988</td>\n",
              "    </tr>\n",
              "    <tr>\n",
              "      <th>1</th>\n",
              "      <td>2018-04-022018-04-02</td>\n",
              "      <td>416.634</td>\n",
              "      <td>5.900</td>\n",
              "      <td>0.000</td>\n",
              "      <td>6.556</td>\n",
              "      <td>139.666</td>\n",
              "      <td>25.624</td>\n",
              "      <td>38.000</td>\n",
              "      <td>39.000</td>\n",
              "      <td>56278</td>\n",
              "    </tr>\n",
              "    <tr>\n",
              "      <th>2</th>\n",
              "      <td>2018-04-032018-04-03</td>\n",
              "      <td>427.032</td>\n",
              "      <td>5.822</td>\n",
              "      <td>0.000</td>\n",
              "      <td>5.380</td>\n",
              "      <td>149.758</td>\n",
              "      <td>20.624</td>\n",
              "      <td>30.632</td>\n",
              "      <td>38.226</td>\n",
              "      <td>53634</td>\n",
              "    </tr>\n",
              "    <tr>\n",
              "      <th>3</th>\n",
              "      <td>2018-04-042018-04-04</td>\n",
              "      <td>287.672</td>\n",
              "      <td>7.384</td>\n",
              "      <td>0.850</td>\n",
              "      <td>6.276</td>\n",
              "      <td>143.698</td>\n",
              "      <td>16.624</td>\n",
              "      <td>24.736</td>\n",
              "      <td>86.986</td>\n",
              "      <td>52068</td>\n",
              "    </tr>\n",
              "    <tr>\n",
              "      <th>4</th>\n",
              "      <td>2018-04-052018-04-05</td>\n",
              "      <td>191.810</td>\n",
              "      <td>8.000</td>\n",
              "      <td>1.446</td>\n",
              "      <td>6.372</td>\n",
              "      <td>147.568</td>\n",
              "      <td>11.750</td>\n",
              "      <td>20.842</td>\n",
              "      <td>126.756</td>\n",
              "      <td>5666</td>\n",
              "    </tr>\n",
              "    <tr>\n",
              "      <th>...</th>\n",
              "      <td>...</td>\n",
              "      <td>...</td>\n",
              "      <td>...</td>\n",
              "      <td>...</td>\n",
              "      <td>...</td>\n",
              "      <td>...</td>\n",
              "      <td>...</td>\n",
              "      <td>...</td>\n",
              "      <td>...</td>\n",
              "      <td>...</td>\n",
              "    </tr>\n",
              "    <tr>\n",
              "      <th>268</th>\n",
              "      <td>2020-06-262020-06-26</td>\n",
              "      <td>457.324</td>\n",
              "      <td>7.960</td>\n",
              "      <td>0.446</td>\n",
              "      <td>4.542</td>\n",
              "      <td>156.756</td>\n",
              "      <td>41.000</td>\n",
              "      <td>55.052</td>\n",
              "      <td>72.972</td>\n",
              "      <td>192300</td>\n",
              "    </tr>\n",
              "    <tr>\n",
              "      <th>269</th>\n",
              "      <td>2020-06-272020-06-27</td>\n",
              "      <td>415.540</td>\n",
              "      <td>5.730</td>\n",
              "      <td>0.162</td>\n",
              "      <td>3.588</td>\n",
              "      <td>156.824</td>\n",
              "      <td>41.624</td>\n",
              "      <td>57.684</td>\n",
              "      <td>42.162</td>\n",
              "      <td>214002</td>\n",
              "    </tr>\n",
              "    <tr>\n",
              "      <th>270</th>\n",
              "      <td>2020-06-282020-06-28</td>\n",
              "      <td>565.136</td>\n",
              "      <td>3.460</td>\n",
              "      <td>0.000</td>\n",
              "      <td>3.640</td>\n",
              "      <td>145.472</td>\n",
              "      <td>42.000</td>\n",
              "      <td>58.106</td>\n",
              "      <td>14.594</td>\n",
              "      <td>197136</td>\n",
              "    </tr>\n",
              "    <tr>\n",
              "      <th>271</th>\n",
              "      <td>2020-06-292020-06-29</td>\n",
              "      <td>274.054</td>\n",
              "      <td>4.514</td>\n",
              "      <td>0.176</td>\n",
              "      <td>4.086</td>\n",
              "      <td>140.946</td>\n",
              "      <td>39.250</td>\n",
              "      <td>52.000</td>\n",
              "      <td>31.082</td>\n",
              "      <td>140106</td>\n",
              "    </tr>\n",
              "    <tr>\n",
              "      <th>272</th>\n",
              "      <td>2020-06-302020-06-30</td>\n",
              "      <td>241.594</td>\n",
              "      <td>7.244</td>\n",
              "      <td>0.864</td>\n",
              "      <td>11.148</td>\n",
              "      <td>154.122</td>\n",
              "      <td>38.250</td>\n",
              "      <td>52.106</td>\n",
              "      <td>82.568</td>\n",
              "      <td>76172</td>\n",
              "    </tr>\n",
              "  </tbody>\n",
              "</table>\n",
              "<p>273 rows × 10 columns</p>\n",
              "</div>\n",
              "      <button class=\"colab-df-convert\" onclick=\"convertToInteractive('df-22c42522-a54f-4ecb-8f57-2402946a0f7f')\"\n",
              "              title=\"Convert this dataframe to an interactive table.\"\n",
              "              style=\"display:none;\">\n",
              "        \n",
              "  <svg xmlns=\"http://www.w3.org/2000/svg\" height=\"24px\"viewBox=\"0 0 24 24\"\n",
              "       width=\"24px\">\n",
              "    <path d=\"M0 0h24v24H0V0z\" fill=\"none\"/>\n",
              "    <path d=\"M18.56 5.44l.94 2.06.94-2.06 2.06-.94-2.06-.94-.94-2.06-.94 2.06-2.06.94zm-11 1L8.5 8.5l.94-2.06 2.06-.94-2.06-.94L8.5 2.5l-.94 2.06-2.06.94zm10 10l.94 2.06.94-2.06 2.06-.94-2.06-.94-.94-2.06-.94 2.06-2.06.94z\"/><path d=\"M17.41 7.96l-1.37-1.37c-.4-.4-.92-.59-1.43-.59-.52 0-1.04.2-1.43.59L10.3 9.45l-7.72 7.72c-.78.78-.78 2.05 0 2.83L4 21.41c.39.39.9.59 1.41.59.51 0 1.02-.2 1.41-.59l7.78-7.78 2.81-2.81c.8-.78.8-2.07 0-2.86zM5.41 20L4 18.59l7.72-7.72 1.47 1.35L5.41 20z\"/>\n",
              "  </svg>\n",
              "      </button>\n",
              "      \n",
              "  <style>\n",
              "    .colab-df-container {\n",
              "      display:flex;\n",
              "      flex-wrap:wrap;\n",
              "      gap: 12px;\n",
              "    }\n",
              "\n",
              "    .colab-df-convert {\n",
              "      background-color: #E8F0FE;\n",
              "      border: none;\n",
              "      border-radius: 50%;\n",
              "      cursor: pointer;\n",
              "      display: none;\n",
              "      fill: #1967D2;\n",
              "      height: 32px;\n",
              "      padding: 0 0 0 0;\n",
              "      width: 32px;\n",
              "    }\n",
              "\n",
              "    .colab-df-convert:hover {\n",
              "      background-color: #E2EBFA;\n",
              "      box-shadow: 0px 1px 2px rgba(60, 64, 67, 0.3), 0px 1px 3px 1px rgba(60, 64, 67, 0.15);\n",
              "      fill: #174EA6;\n",
              "    }\n",
              "\n",
              "    [theme=dark] .colab-df-convert {\n",
              "      background-color: #3B4455;\n",
              "      fill: #D2E3FC;\n",
              "    }\n",
              "\n",
              "    [theme=dark] .colab-df-convert:hover {\n",
              "      background-color: #434B5C;\n",
              "      box-shadow: 0px 1px 3px 1px rgba(0, 0, 0, 0.15);\n",
              "      filter: drop-shadow(0px 1px 2px rgba(0, 0, 0, 0.3));\n",
              "      fill: #FFFFFF;\n",
              "    }\n",
              "  </style>\n",
              "\n",
              "      <script>\n",
              "        const buttonEl =\n",
              "          document.querySelector('#df-22c42522-a54f-4ecb-8f57-2402946a0f7f button.colab-df-convert');\n",
              "        buttonEl.style.display =\n",
              "          google.colab.kernel.accessAllowed ? 'block' : 'none';\n",
              "\n",
              "        async function convertToInteractive(key) {\n",
              "          const element = document.querySelector('#df-22c42522-a54f-4ecb-8f57-2402946a0f7f');\n",
              "          const dataTable =\n",
              "            await google.colab.kernel.invokeFunction('convertToInteractive',\n",
              "                                                     [key], {});\n",
              "          if (!dataTable) return;\n",
              "\n",
              "          const docLinkHtml = 'Like what you see? Visit the ' +\n",
              "            '<a target=\"_blank\" href=https://colab.research.google.com/notebooks/data_table.ipynb>data table notebook</a>'\n",
              "            + ' to learn more about interactive tables.';\n",
              "          element.innerHTML = '';\n",
              "          dataTable['output_type'] = 'display_data';\n",
              "          await google.colab.output.renderOutput(dataTable, element);\n",
              "          const docLink = document.createElement('div');\n",
              "          docLink.innerHTML = docLinkHtml;\n",
              "          element.appendChild(docLink);\n",
              "        }\n",
              "      </script>\n",
              "    </div>\n",
              "  </div>\n",
              "  "
            ]
          },
          "metadata": {},
          "execution_count": 17
        }
      ]
    },
    {
      "cell_type": "code",
      "source": [
        "train.map(lambda x: x*2)"
      ],
      "metadata": {
        "colab": {
          "base_uri": "https://localhost:8080/",
          "height": 303
        },
        "id": "KmRtxQc1zmwd",
        "outputId": "5e1e1f48-eb5d-492c-bfcb-3448f4718114"
      },
      "execution_count": 18,
      "outputs": [
        {
          "output_type": "error",
          "ename": "AttributeError",
          "evalue": "ignored",
          "traceback": [
            "\u001b[0;31m---------------------------------------------------------------------------\u001b[0m",
            "\u001b[0;31mAttributeError\u001b[0m                            Traceback (most recent call last)",
            "\u001b[0;32m<ipython-input-18-3c369f93033f>\u001b[0m in \u001b[0;36m<module>\u001b[0;34m()\u001b[0m\n\u001b[0;32m----> 1\u001b[0;31m \u001b[0mtrain\u001b[0m\u001b[0;34m.\u001b[0m\u001b[0mmap\u001b[0m\u001b[0;34m(\u001b[0m\u001b[0;32mlambda\u001b[0m \u001b[0mx\u001b[0m\u001b[0;34m:\u001b[0m \u001b[0mx\u001b[0m\u001b[0;34m*\u001b[0m\u001b[0;36m2\u001b[0m\u001b[0;34m)\u001b[0m\u001b[0;34m\u001b[0m\u001b[0;34m\u001b[0m\u001b[0m\n\u001b[0m",
            "\u001b[0;32m/usr/local/lib/python3.7/dist-packages/pandas/core/generic.py\u001b[0m in \u001b[0;36m__getattr__\u001b[0;34m(self, name)\u001b[0m\n\u001b[1;32m   5485\u001b[0m         ):\n\u001b[1;32m   5486\u001b[0m             \u001b[0;32mreturn\u001b[0m \u001b[0mself\u001b[0m\u001b[0;34m[\u001b[0m\u001b[0mname\u001b[0m\u001b[0;34m]\u001b[0m\u001b[0;34m\u001b[0m\u001b[0;34m\u001b[0m\u001b[0m\n\u001b[0;32m-> 5487\u001b[0;31m         \u001b[0;32mreturn\u001b[0m \u001b[0mobject\u001b[0m\u001b[0;34m.\u001b[0m\u001b[0m__getattribute__\u001b[0m\u001b[0;34m(\u001b[0m\u001b[0mself\u001b[0m\u001b[0;34m,\u001b[0m \u001b[0mname\u001b[0m\u001b[0;34m)\u001b[0m\u001b[0;34m\u001b[0m\u001b[0;34m\u001b[0m\u001b[0m\n\u001b[0m\u001b[1;32m   5488\u001b[0m \u001b[0;34m\u001b[0m\u001b[0m\n\u001b[1;32m   5489\u001b[0m     \u001b[0;32mdef\u001b[0m \u001b[0m__setattr__\u001b[0m\u001b[0;34m(\u001b[0m\u001b[0mself\u001b[0m\u001b[0;34m,\u001b[0m \u001b[0mname\u001b[0m\u001b[0;34m:\u001b[0m \u001b[0mstr\u001b[0m\u001b[0;34m,\u001b[0m \u001b[0mvalue\u001b[0m\u001b[0;34m)\u001b[0m \u001b[0;34m->\u001b[0m \u001b[0;32mNone\u001b[0m\u001b[0;34m:\u001b[0m\u001b[0;34m\u001b[0m\u001b[0;34m\u001b[0m\u001b[0m\n",
            "\u001b[0;31mAttributeError\u001b[0m: 'DataFrame' object has no attribute 'map'"
          ]
        }
      ]
    },
    {
      "cell_type": "markdown",
      "source": [
        "Ctrl + D : 중복 단어 선택"
      ],
      "metadata": {
        "id": "W7pipfEq3c0L"
      }
    },
    {
      "cell_type": "code",
      "source": [
        "train['year'] =  train['date_time'].apply(lambda x: x.split('-')[0]) # 년\n",
        "train['month'] = train['date_time'].apply(lambda x: x.split('-')[1]) # 월\n",
        "train['day'] = train['date_time'].apply(lambda x: x.split('-')[2]) # 일"
      ],
      "metadata": {
        "id": "nFdbPG9Mzmwe"
      },
      "execution_count": 20,
      "outputs": []
    },
    {
      "cell_type": "code",
      "source": [
        "train.head()"
      ],
      "metadata": {
        "colab": {
          "base_uri": "https://localhost:8080/",
          "height": 357
        },
        "id": "unokXE_vzmwf",
        "outputId": "7677fa33-ffb4-46eb-d2f5-44c7681a7a1b"
      },
      "execution_count": 21,
      "outputs": [
        {
          "output_type": "execute_result",
          "data": {
            "text/plain": [
              "    date_time  wind_direction  sky_condition  precipitation_form  wind_speed  \\\n",
              "0  2018-04-01         207.500          4.000               0.000       3.050   \n",
              "1  2018-04-02         208.317          2.950               0.000       3.278   \n",
              "2  2018-04-03         213.516          2.911               0.000       2.690   \n",
              "3  2018-04-04         143.836          3.692               0.425       3.138   \n",
              "4  2018-04-05          95.905          4.000               0.723       3.186   \n",
              "\n",
              "   humidity  low_temp  high_temp  Precipitation_Probability  \\\n",
              "0    75.000    12.600     21.000                     30.000   \n",
              "1    69.833    12.812     19.000                     19.500   \n",
              "2    74.879    10.312     15.316                     19.113   \n",
              "3    71.849     8.312     12.368                     43.493   \n",
              "4    73.784     5.875     10.421                     63.378   \n",
              "\n",
              "   number_of_rentals  year month day  \n",
              "0              22994  2018    04  01  \n",
              "1              28139  2018    04  02  \n",
              "2              26817  2018    04  03  \n",
              "3              26034  2018    04  04  \n",
              "4               2833  2018    04  05  "
            ],
            "text/html": [
              "\n",
              "  <div id=\"df-644db7b2-0b75-42b4-8d87-9497374a525d\">\n",
              "    <div class=\"colab-df-container\">\n",
              "      <div>\n",
              "<style scoped>\n",
              "    .dataframe tbody tr th:only-of-type {\n",
              "        vertical-align: middle;\n",
              "    }\n",
              "\n",
              "    .dataframe tbody tr th {\n",
              "        vertical-align: top;\n",
              "    }\n",
              "\n",
              "    .dataframe thead th {\n",
              "        text-align: right;\n",
              "    }\n",
              "</style>\n",
              "<table border=\"1\" class=\"dataframe\">\n",
              "  <thead>\n",
              "    <tr style=\"text-align: right;\">\n",
              "      <th></th>\n",
              "      <th>date_time</th>\n",
              "      <th>wind_direction</th>\n",
              "      <th>sky_condition</th>\n",
              "      <th>precipitation_form</th>\n",
              "      <th>wind_speed</th>\n",
              "      <th>humidity</th>\n",
              "      <th>low_temp</th>\n",
              "      <th>high_temp</th>\n",
              "      <th>Precipitation_Probability</th>\n",
              "      <th>number_of_rentals</th>\n",
              "      <th>year</th>\n",
              "      <th>month</th>\n",
              "      <th>day</th>\n",
              "    </tr>\n",
              "  </thead>\n",
              "  <tbody>\n",
              "    <tr>\n",
              "      <th>0</th>\n",
              "      <td>2018-04-01</td>\n",
              "      <td>207.500</td>\n",
              "      <td>4.000</td>\n",
              "      <td>0.000</td>\n",
              "      <td>3.050</td>\n",
              "      <td>75.000</td>\n",
              "      <td>12.600</td>\n",
              "      <td>21.000</td>\n",
              "      <td>30.000</td>\n",
              "      <td>22994</td>\n",
              "      <td>2018</td>\n",
              "      <td>04</td>\n",
              "      <td>01</td>\n",
              "    </tr>\n",
              "    <tr>\n",
              "      <th>1</th>\n",
              "      <td>2018-04-02</td>\n",
              "      <td>208.317</td>\n",
              "      <td>2.950</td>\n",
              "      <td>0.000</td>\n",
              "      <td>3.278</td>\n",
              "      <td>69.833</td>\n",
              "      <td>12.812</td>\n",
              "      <td>19.000</td>\n",
              "      <td>19.500</td>\n",
              "      <td>28139</td>\n",
              "      <td>2018</td>\n",
              "      <td>04</td>\n",
              "      <td>02</td>\n",
              "    </tr>\n",
              "    <tr>\n",
              "      <th>2</th>\n",
              "      <td>2018-04-03</td>\n",
              "      <td>213.516</td>\n",
              "      <td>2.911</td>\n",
              "      <td>0.000</td>\n",
              "      <td>2.690</td>\n",
              "      <td>74.879</td>\n",
              "      <td>10.312</td>\n",
              "      <td>15.316</td>\n",
              "      <td>19.113</td>\n",
              "      <td>26817</td>\n",
              "      <td>2018</td>\n",
              "      <td>04</td>\n",
              "      <td>03</td>\n",
              "    </tr>\n",
              "    <tr>\n",
              "      <th>3</th>\n",
              "      <td>2018-04-04</td>\n",
              "      <td>143.836</td>\n",
              "      <td>3.692</td>\n",
              "      <td>0.425</td>\n",
              "      <td>3.138</td>\n",
              "      <td>71.849</td>\n",
              "      <td>8.312</td>\n",
              "      <td>12.368</td>\n",
              "      <td>43.493</td>\n",
              "      <td>26034</td>\n",
              "      <td>2018</td>\n",
              "      <td>04</td>\n",
              "      <td>04</td>\n",
              "    </tr>\n",
              "    <tr>\n",
              "      <th>4</th>\n",
              "      <td>2018-04-05</td>\n",
              "      <td>95.905</td>\n",
              "      <td>4.000</td>\n",
              "      <td>0.723</td>\n",
              "      <td>3.186</td>\n",
              "      <td>73.784</td>\n",
              "      <td>5.875</td>\n",
              "      <td>10.421</td>\n",
              "      <td>63.378</td>\n",
              "      <td>2833</td>\n",
              "      <td>2018</td>\n",
              "      <td>04</td>\n",
              "      <td>05</td>\n",
              "    </tr>\n",
              "  </tbody>\n",
              "</table>\n",
              "</div>\n",
              "      <button class=\"colab-df-convert\" onclick=\"convertToInteractive('df-644db7b2-0b75-42b4-8d87-9497374a525d')\"\n",
              "              title=\"Convert this dataframe to an interactive table.\"\n",
              "              style=\"display:none;\">\n",
              "        \n",
              "  <svg xmlns=\"http://www.w3.org/2000/svg\" height=\"24px\"viewBox=\"0 0 24 24\"\n",
              "       width=\"24px\">\n",
              "    <path d=\"M0 0h24v24H0V0z\" fill=\"none\"/>\n",
              "    <path d=\"M18.56 5.44l.94 2.06.94-2.06 2.06-.94-2.06-.94-.94-2.06-.94 2.06-2.06.94zm-11 1L8.5 8.5l.94-2.06 2.06-.94-2.06-.94L8.5 2.5l-.94 2.06-2.06.94zm10 10l.94 2.06.94-2.06 2.06-.94-2.06-.94-.94-2.06-.94 2.06-2.06.94z\"/><path d=\"M17.41 7.96l-1.37-1.37c-.4-.4-.92-.59-1.43-.59-.52 0-1.04.2-1.43.59L10.3 9.45l-7.72 7.72c-.78.78-.78 2.05 0 2.83L4 21.41c.39.39.9.59 1.41.59.51 0 1.02-.2 1.41-.59l7.78-7.78 2.81-2.81c.8-.78.8-2.07 0-2.86zM5.41 20L4 18.59l7.72-7.72 1.47 1.35L5.41 20z\"/>\n",
              "  </svg>\n",
              "      </button>\n",
              "      \n",
              "  <style>\n",
              "    .colab-df-container {\n",
              "      display:flex;\n",
              "      flex-wrap:wrap;\n",
              "      gap: 12px;\n",
              "    }\n",
              "\n",
              "    .colab-df-convert {\n",
              "      background-color: #E8F0FE;\n",
              "      border: none;\n",
              "      border-radius: 50%;\n",
              "      cursor: pointer;\n",
              "      display: none;\n",
              "      fill: #1967D2;\n",
              "      height: 32px;\n",
              "      padding: 0 0 0 0;\n",
              "      width: 32px;\n",
              "    }\n",
              "\n",
              "    .colab-df-convert:hover {\n",
              "      background-color: #E2EBFA;\n",
              "      box-shadow: 0px 1px 2px rgba(60, 64, 67, 0.3), 0px 1px 3px 1px rgba(60, 64, 67, 0.15);\n",
              "      fill: #174EA6;\n",
              "    }\n",
              "\n",
              "    [theme=dark] .colab-df-convert {\n",
              "      background-color: #3B4455;\n",
              "      fill: #D2E3FC;\n",
              "    }\n",
              "\n",
              "    [theme=dark] .colab-df-convert:hover {\n",
              "      background-color: #434B5C;\n",
              "      box-shadow: 0px 1px 3px 1px rgba(0, 0, 0, 0.15);\n",
              "      filter: drop-shadow(0px 1px 2px rgba(0, 0, 0, 0.3));\n",
              "      fill: #FFFFFF;\n",
              "    }\n",
              "  </style>\n",
              "\n",
              "      <script>\n",
              "        const buttonEl =\n",
              "          document.querySelector('#df-644db7b2-0b75-42b4-8d87-9497374a525d button.colab-df-convert');\n",
              "        buttonEl.style.display =\n",
              "          google.colab.kernel.accessAllowed ? 'block' : 'none';\n",
              "\n",
              "        async function convertToInteractive(key) {\n",
              "          const element = document.querySelector('#df-644db7b2-0b75-42b4-8d87-9497374a525d');\n",
              "          const dataTable =\n",
              "            await google.colab.kernel.invokeFunction('convertToInteractive',\n",
              "                                                     [key], {});\n",
              "          if (!dataTable) return;\n",
              "\n",
              "          const docLinkHtml = 'Like what you see? Visit the ' +\n",
              "            '<a target=\"_blank\" href=https://colab.research.google.com/notebooks/data_table.ipynb>data table notebook</a>'\n",
              "            + ' to learn more about interactive tables.';\n",
              "          element.innerHTML = '';\n",
              "          dataTable['output_type'] = 'display_data';\n",
              "          await google.colab.output.renderOutput(dataTable, element);\n",
              "          const docLink = document.createElement('div');\n",
              "          docLink.innerHTML = docLinkHtml;\n",
              "          element.appendChild(docLink);\n",
              "        }\n",
              "      </script>\n",
              "    </div>\n",
              "  </div>\n",
              "  "
            ]
          },
          "metadata": {},
          "execution_count": 21
        }
      ]
    },
    {
      "cell_type": "markdown",
      "source": [
        "## 2.2 요일 정보 추가"
      ],
      "metadata": {
        "id": "PgbyimYSzm1f"
      }
    },
    {
      "cell_type": "code",
      "source": [
        "week_day = pd.to_datetime(train['date_time']).dt.day_name()\n",
        "week_day"
      ],
      "metadata": {
        "colab": {
          "base_uri": "https://localhost:8080/"
        },
        "id": "a6jwdtgzzm1g",
        "outputId": "068873e2-535f-40cb-e795-76914b5698c9"
      },
      "execution_count": 22,
      "outputs": [
        {
          "output_type": "execute_result",
          "data": {
            "text/plain": [
              "0         Sunday\n",
              "1         Monday\n",
              "2        Tuesday\n",
              "3      Wednesday\n",
              "4       Thursday\n",
              "         ...    \n",
              "268       Friday\n",
              "269     Saturday\n",
              "270       Sunday\n",
              "271       Monday\n",
              "272      Tuesday\n",
              "Name: date_time, Length: 273, dtype: object"
            ]
          },
          "metadata": {},
          "execution_count": 22
        }
      ]
    },
    {
      "cell_type": "code",
      "execution_count": 23,
      "metadata": {
        "colab": {
          "base_uri": "https://localhost:8080/",
          "height": 357
        },
        "id": "3aXkcBeczm1g",
        "outputId": "485d9d69-8576-4d45-800b-fc02c6c6bcfb"
      },
      "outputs": [
        {
          "output_type": "execute_result",
          "data": {
            "text/plain": [
              "    date_time  wind_direction  sky_condition  precipitation_form  wind_speed  \\\n",
              "0  2018-04-01         207.500          4.000               0.000       3.050   \n",
              "1  2018-04-02         208.317          2.950               0.000       3.278   \n",
              "2  2018-04-03         213.516          2.911               0.000       2.690   \n",
              "3  2018-04-04         143.836          3.692               0.425       3.138   \n",
              "4  2018-04-05          95.905          4.000               0.723       3.186   \n",
              "\n",
              "   humidity  low_temp  high_temp  Precipitation_Probability  \\\n",
              "0    75.000    12.600     21.000                     30.000   \n",
              "1    69.833    12.812     19.000                     19.500   \n",
              "2    74.879    10.312     15.316                     19.113   \n",
              "3    71.849     8.312     12.368                     43.493   \n",
              "4    73.784     5.875     10.421                     63.378   \n",
              "\n",
              "   number_of_rentals  year month day   week_day  \n",
              "0              22994  2018    04  01     Sunday  \n",
              "1              28139  2018    04  02     Monday  \n",
              "2              26817  2018    04  03    Tuesday  \n",
              "3              26034  2018    04  04  Wednesday  \n",
              "4               2833  2018    04  05   Thursday  "
            ],
            "text/html": [
              "\n",
              "  <div id=\"df-f1009c01-401d-40ef-8636-1c4e4631e243\">\n",
              "    <div class=\"colab-df-container\">\n",
              "      <div>\n",
              "<style scoped>\n",
              "    .dataframe tbody tr th:only-of-type {\n",
              "        vertical-align: middle;\n",
              "    }\n",
              "\n",
              "    .dataframe tbody tr th {\n",
              "        vertical-align: top;\n",
              "    }\n",
              "\n",
              "    .dataframe thead th {\n",
              "        text-align: right;\n",
              "    }\n",
              "</style>\n",
              "<table border=\"1\" class=\"dataframe\">\n",
              "  <thead>\n",
              "    <tr style=\"text-align: right;\">\n",
              "      <th></th>\n",
              "      <th>date_time</th>\n",
              "      <th>wind_direction</th>\n",
              "      <th>sky_condition</th>\n",
              "      <th>precipitation_form</th>\n",
              "      <th>wind_speed</th>\n",
              "      <th>humidity</th>\n",
              "      <th>low_temp</th>\n",
              "      <th>high_temp</th>\n",
              "      <th>Precipitation_Probability</th>\n",
              "      <th>number_of_rentals</th>\n",
              "      <th>year</th>\n",
              "      <th>month</th>\n",
              "      <th>day</th>\n",
              "      <th>week_day</th>\n",
              "    </tr>\n",
              "  </thead>\n",
              "  <tbody>\n",
              "    <tr>\n",
              "      <th>0</th>\n",
              "      <td>2018-04-01</td>\n",
              "      <td>207.500</td>\n",
              "      <td>4.000</td>\n",
              "      <td>0.000</td>\n",
              "      <td>3.050</td>\n",
              "      <td>75.000</td>\n",
              "      <td>12.600</td>\n",
              "      <td>21.000</td>\n",
              "      <td>30.000</td>\n",
              "      <td>22994</td>\n",
              "      <td>2018</td>\n",
              "      <td>04</td>\n",
              "      <td>01</td>\n",
              "      <td>Sunday</td>\n",
              "    </tr>\n",
              "    <tr>\n",
              "      <th>1</th>\n",
              "      <td>2018-04-02</td>\n",
              "      <td>208.317</td>\n",
              "      <td>2.950</td>\n",
              "      <td>0.000</td>\n",
              "      <td>3.278</td>\n",
              "      <td>69.833</td>\n",
              "      <td>12.812</td>\n",
              "      <td>19.000</td>\n",
              "      <td>19.500</td>\n",
              "      <td>28139</td>\n",
              "      <td>2018</td>\n",
              "      <td>04</td>\n",
              "      <td>02</td>\n",
              "      <td>Monday</td>\n",
              "    </tr>\n",
              "    <tr>\n",
              "      <th>2</th>\n",
              "      <td>2018-04-03</td>\n",
              "      <td>213.516</td>\n",
              "      <td>2.911</td>\n",
              "      <td>0.000</td>\n",
              "      <td>2.690</td>\n",
              "      <td>74.879</td>\n",
              "      <td>10.312</td>\n",
              "      <td>15.316</td>\n",
              "      <td>19.113</td>\n",
              "      <td>26817</td>\n",
              "      <td>2018</td>\n",
              "      <td>04</td>\n",
              "      <td>03</td>\n",
              "      <td>Tuesday</td>\n",
              "    </tr>\n",
              "    <tr>\n",
              "      <th>3</th>\n",
              "      <td>2018-04-04</td>\n",
              "      <td>143.836</td>\n",
              "      <td>3.692</td>\n",
              "      <td>0.425</td>\n",
              "      <td>3.138</td>\n",
              "      <td>71.849</td>\n",
              "      <td>8.312</td>\n",
              "      <td>12.368</td>\n",
              "      <td>43.493</td>\n",
              "      <td>26034</td>\n",
              "      <td>2018</td>\n",
              "      <td>04</td>\n",
              "      <td>04</td>\n",
              "      <td>Wednesday</td>\n",
              "    </tr>\n",
              "    <tr>\n",
              "      <th>4</th>\n",
              "      <td>2018-04-05</td>\n",
              "      <td>95.905</td>\n",
              "      <td>4.000</td>\n",
              "      <td>0.723</td>\n",
              "      <td>3.186</td>\n",
              "      <td>73.784</td>\n",
              "      <td>5.875</td>\n",
              "      <td>10.421</td>\n",
              "      <td>63.378</td>\n",
              "      <td>2833</td>\n",
              "      <td>2018</td>\n",
              "      <td>04</td>\n",
              "      <td>05</td>\n",
              "      <td>Thursday</td>\n",
              "    </tr>\n",
              "  </tbody>\n",
              "</table>\n",
              "</div>\n",
              "      <button class=\"colab-df-convert\" onclick=\"convertToInteractive('df-f1009c01-401d-40ef-8636-1c4e4631e243')\"\n",
              "              title=\"Convert this dataframe to an interactive table.\"\n",
              "              style=\"display:none;\">\n",
              "        \n",
              "  <svg xmlns=\"http://www.w3.org/2000/svg\" height=\"24px\"viewBox=\"0 0 24 24\"\n",
              "       width=\"24px\">\n",
              "    <path d=\"M0 0h24v24H0V0z\" fill=\"none\"/>\n",
              "    <path d=\"M18.56 5.44l.94 2.06.94-2.06 2.06-.94-2.06-.94-.94-2.06-.94 2.06-2.06.94zm-11 1L8.5 8.5l.94-2.06 2.06-.94-2.06-.94L8.5 2.5l-.94 2.06-2.06.94zm10 10l.94 2.06.94-2.06 2.06-.94-2.06-.94-.94-2.06-.94 2.06-2.06.94z\"/><path d=\"M17.41 7.96l-1.37-1.37c-.4-.4-.92-.59-1.43-.59-.52 0-1.04.2-1.43.59L10.3 9.45l-7.72 7.72c-.78.78-.78 2.05 0 2.83L4 21.41c.39.39.9.59 1.41.59.51 0 1.02-.2 1.41-.59l7.78-7.78 2.81-2.81c.8-.78.8-2.07 0-2.86zM5.41 20L4 18.59l7.72-7.72 1.47 1.35L5.41 20z\"/>\n",
              "  </svg>\n",
              "      </button>\n",
              "      \n",
              "  <style>\n",
              "    .colab-df-container {\n",
              "      display:flex;\n",
              "      flex-wrap:wrap;\n",
              "      gap: 12px;\n",
              "    }\n",
              "\n",
              "    .colab-df-convert {\n",
              "      background-color: #E8F0FE;\n",
              "      border: none;\n",
              "      border-radius: 50%;\n",
              "      cursor: pointer;\n",
              "      display: none;\n",
              "      fill: #1967D2;\n",
              "      height: 32px;\n",
              "      padding: 0 0 0 0;\n",
              "      width: 32px;\n",
              "    }\n",
              "\n",
              "    .colab-df-convert:hover {\n",
              "      background-color: #E2EBFA;\n",
              "      box-shadow: 0px 1px 2px rgba(60, 64, 67, 0.3), 0px 1px 3px 1px rgba(60, 64, 67, 0.15);\n",
              "      fill: #174EA6;\n",
              "    }\n",
              "\n",
              "    [theme=dark] .colab-df-convert {\n",
              "      background-color: #3B4455;\n",
              "      fill: #D2E3FC;\n",
              "    }\n",
              "\n",
              "    [theme=dark] .colab-df-convert:hover {\n",
              "      background-color: #434B5C;\n",
              "      box-shadow: 0px 1px 3px 1px rgba(0, 0, 0, 0.15);\n",
              "      filter: drop-shadow(0px 1px 2px rgba(0, 0, 0, 0.3));\n",
              "      fill: #FFFFFF;\n",
              "    }\n",
              "  </style>\n",
              "\n",
              "      <script>\n",
              "        const buttonEl =\n",
              "          document.querySelector('#df-f1009c01-401d-40ef-8636-1c4e4631e243 button.colab-df-convert');\n",
              "        buttonEl.style.display =\n",
              "          google.colab.kernel.accessAllowed ? 'block' : 'none';\n",
              "\n",
              "        async function convertToInteractive(key) {\n",
              "          const element = document.querySelector('#df-f1009c01-401d-40ef-8636-1c4e4631e243');\n",
              "          const dataTable =\n",
              "            await google.colab.kernel.invokeFunction('convertToInteractive',\n",
              "                                                     [key], {});\n",
              "          if (!dataTable) return;\n",
              "\n",
              "          const docLinkHtml = 'Like what you see? Visit the ' +\n",
              "            '<a target=\"_blank\" href=https://colab.research.google.com/notebooks/data_table.ipynb>data table notebook</a>'\n",
              "            + ' to learn more about interactive tables.';\n",
              "          element.innerHTML = '';\n",
              "          dataTable['output_type'] = 'display_data';\n",
              "          await google.colab.output.renderOutput(dataTable, element);\n",
              "          const docLink = document.createElement('div');\n",
              "          docLink.innerHTML = docLinkHtml;\n",
              "          element.appendChild(docLink);\n",
              "        }\n",
              "      </script>\n",
              "    </div>\n",
              "  </div>\n",
              "  "
            ]
          },
          "metadata": {},
          "execution_count": 23
        }
      ],
      "source": [
        "train['week_day'] = week_day\n",
        "\n",
        "train.head()"
      ]
    },
    {
      "cell_type": "markdown",
      "source": [
        "## 2.3 가공한 변수 타입 변경"
      ],
      "metadata": {
        "id": "KTHzvV_kzm1h"
      }
    },
    {
      "cell_type": "code",
      "source": [
        "train.info()"
      ],
      "metadata": {
        "colab": {
          "base_uri": "https://localhost:8080/"
        },
        "id": "8XWGL9zpzm1h",
        "outputId": "1575f126-f3f5-423a-ad15-894cc7c34390"
      },
      "execution_count": 24,
      "outputs": [
        {
          "output_type": "stream",
          "name": "stdout",
          "text": [
            "<class 'pandas.core.frame.DataFrame'>\n",
            "RangeIndex: 273 entries, 0 to 272\n",
            "Data columns (total 14 columns):\n",
            " #   Column                     Non-Null Count  Dtype  \n",
            "---  ------                     --------------  -----  \n",
            " 0   date_time                  273 non-null    object \n",
            " 1   wind_direction             273 non-null    float64\n",
            " 2   sky_condition              273 non-null    float64\n",
            " 3   precipitation_form         273 non-null    float64\n",
            " 4   wind_speed                 273 non-null    float64\n",
            " 5   humidity                   273 non-null    float64\n",
            " 6   low_temp                   273 non-null    float64\n",
            " 7   high_temp                  273 non-null    float64\n",
            " 8   Precipitation_Probability  273 non-null    float64\n",
            " 9   number_of_rentals          273 non-null    int64  \n",
            " 10  year                       273 non-null    object \n",
            " 11  month                      273 non-null    object \n",
            " 12  day                        273 non-null    object \n",
            " 13  week_day                   273 non-null    object \n",
            "dtypes: float64(8), int64(1), object(5)\n",
            "memory usage: 30.0+ KB\n"
          ]
        }
      ]
    },
    {
      "cell_type": "code",
      "source": [
        "train['year'] = train['year'].astype('int')\n",
        "train['year'] = train['year'].apply(lambda x: int(x))\n",
        "train['year'] = train['year'].map(int)"
      ],
      "metadata": {
        "id": "mUBPJcIQzm1i"
      },
      "execution_count": 28,
      "outputs": []
    },
    {
      "cell_type": "code",
      "source": [
        "train.info()"
      ],
      "metadata": {
        "colab": {
          "base_uri": "https://localhost:8080/"
        },
        "id": "EQox6zy348Bt",
        "outputId": "7ee30889-859f-4b95-ac8a-91349aa75ea6"
      },
      "execution_count": 29,
      "outputs": [
        {
          "output_type": "stream",
          "name": "stdout",
          "text": [
            "<class 'pandas.core.frame.DataFrame'>\n",
            "RangeIndex: 273 entries, 0 to 272\n",
            "Data columns (total 14 columns):\n",
            " #   Column                     Non-Null Count  Dtype  \n",
            "---  ------                     --------------  -----  \n",
            " 0   date_time                  273 non-null    object \n",
            " 1   wind_direction             273 non-null    float64\n",
            " 2   sky_condition              273 non-null    float64\n",
            " 3   precipitation_form         273 non-null    float64\n",
            " 4   wind_speed                 273 non-null    float64\n",
            " 5   humidity                   273 non-null    float64\n",
            " 6   low_temp                   273 non-null    float64\n",
            " 7   high_temp                  273 non-null    float64\n",
            " 8   Precipitation_Probability  273 non-null    float64\n",
            " 9   number_of_rentals          273 non-null    int64  \n",
            " 10  year                       273 non-null    int64  \n",
            " 11  month                      273 non-null    object \n",
            " 12  day                        273 non-null    object \n",
            " 13  week_day                   273 non-null    object \n",
            "dtypes: float64(8), int64(2), object(4)\n",
            "memory usage: 30.0+ KB\n"
          ]
        }
      ]
    },
    {
      "cell_type": "code",
      "source": [
        "train['year'] = train['year'].apply(lambda x: int(x))\n",
        "train['month'] = train['month'].apply(lambda x: int(x))\n",
        "train['day'] = train['day'].apply(lambda x: int(x))"
      ],
      "metadata": {
        "id": "0FoFvygizm1j"
      },
      "execution_count": 30,
      "outputs": []
    },
    {
      "cell_type": "code",
      "source": [
        "train.week_day.unique()"
      ],
      "metadata": {
        "colab": {
          "base_uri": "https://localhost:8080/"
        },
        "id": "wNV39zv4zm7u",
        "outputId": "52f17081-4c76-4804-d027-43b28a412afc"
      },
      "execution_count": 31,
      "outputs": [
        {
          "output_type": "execute_result",
          "data": {
            "text/plain": [
              "array(['Sunday', 'Monday', 'Tuesday', 'Wednesday', 'Thursday', 'Friday',\n",
              "       'Saturday'], dtype=object)"
            ]
          },
          "metadata": {},
          "execution_count": 31
        }
      ]
    },
    {
      "cell_type": "code",
      "source": [
        "train.loc[train['week_day'] == 'Sunday', 'week_day'] = 0\n",
        "train.loc[train['week_day'] == 'Monday', 'week_day'] = 1\n",
        "train.loc[train['week_day'] == 'Tuesday', 'week_day'] = 2\n",
        "train.loc[train['week_day'] == 'Wednesday', 'week_day'] = 3\n",
        "train.loc[train['week_day'] == 'Thursday', 'week_day'] = 4\n",
        "train.loc[train['week_day'] == 'Friday', 'week_day'] = 5\n",
        "train.loc[train['week_day'] == 'Saturday', 'week_day'] = 6"
      ],
      "metadata": {
        "id": "m1kRsAUFzm7v"
      },
      "execution_count": 32,
      "outputs": []
    },
    {
      "cell_type": "code",
      "execution_count": 33,
      "metadata": {
        "id": "0N3mAlKXzm7v"
      },
      "outputs": [],
      "source": [
        "train['week_day'] = train['week_day'].astype('int')"
      ]
    },
    {
      "cell_type": "code",
      "source": [
        "train.info()"
      ],
      "metadata": {
        "colab": {
          "base_uri": "https://localhost:8080/"
        },
        "id": "Os9-otFtzm7x",
        "outputId": "0cf7f721-3fa1-4c2e-a187-035a24e27d2e"
      },
      "execution_count": 34,
      "outputs": [
        {
          "output_type": "stream",
          "name": "stdout",
          "text": [
            "<class 'pandas.core.frame.DataFrame'>\n",
            "RangeIndex: 273 entries, 0 to 272\n",
            "Data columns (total 14 columns):\n",
            " #   Column                     Non-Null Count  Dtype  \n",
            "---  ------                     --------------  -----  \n",
            " 0   date_time                  273 non-null    object \n",
            " 1   wind_direction             273 non-null    float64\n",
            " 2   sky_condition              273 non-null    float64\n",
            " 3   precipitation_form         273 non-null    float64\n",
            " 4   wind_speed                 273 non-null    float64\n",
            " 5   humidity                   273 non-null    float64\n",
            " 6   low_temp                   273 non-null    float64\n",
            " 7   high_temp                  273 non-null    float64\n",
            " 8   Precipitation_Probability  273 non-null    float64\n",
            " 9   number_of_rentals          273 non-null    int64  \n",
            " 10  year                       273 non-null    int64  \n",
            " 11  month                      273 non-null    int64  \n",
            " 12  day                        273 non-null    int64  \n",
            " 13  week_day                   273 non-null    int64  \n",
            "dtypes: float64(8), int64(5), object(1)\n",
            "memory usage: 30.0+ KB\n"
          ]
        }
      ]
    },
    {
      "cell_type": "markdown",
      "source": [
        "\n",
        "\n",
        "---\n",
        "\n",
        "피어슨 상관계수\n",
        "\n",
        "켄달-타우 상관계수\n",
        "\n",
        "스피어먼 상관계수\n",
        "\n",
        "---\n",
        "\n"
      ],
      "metadata": {
        "id": "nPIsOSOa53Te"
      }
    },
    {
      "cell_type": "markdown",
      "source": [
        "# 3.EDA"
      ],
      "metadata": {
        "id": "KnrsKVsM96_I"
      }
    },
    {
      "cell_type": "markdown",
      "source": [
        "가설설정\n",
        "\n",
        "대전제: 따릉이 이용량을 촉진하거나 둔화시키는 인자가 존재할 것이다.\n",
        "\n",
        ">1. 사용자의 여유 시간이 부족한 주중에 비해 주말에 따릉이 대여량이 증가할 것이다.\n",
        ">\n",
        ">2. 날씨가 덥고 습하다면 외출을 꺼리기 때문에 따릉이 대여량이 감소할 것이다.\n",
        ">\n",
        ">3. 날씨가 춥고 바람이 많이 분다면 외출을 꺼리기 때문에 따릉이 대여량이 감소할 것이다."
      ],
      "metadata": {
        "id": "nkjf8mCk53Ly"
      }
    },
    {
      "cell_type": "markdown",
      "source": [
        "## 3.1 시각화"
      ],
      "metadata": {
        "id": "gVsIrQ9953Yx"
      }
    },
    {
      "cell_type": "code",
      "source": [
        "import matplotlib.pyplot as plt\n",
        "import seaborn as sns\n",
        "\n",
        "%matplotlib inline\n",
        "plt.rcParams['font.size'] = 15\n",
        "plt.style.use('ggplot')\n",
        "plt.rc('font', family='NanumGothic')"
      ],
      "metadata": {
        "id": "JypGeOIe53dg"
      },
      "execution_count": 35,
      "outputs": []
    },
    {
      "cell_type": "markdown",
      "source": [
        "### 3.1.1 Target"
      ],
      "metadata": {
        "id": "hSimqjT-53f6"
      }
    },
    {
      "cell_type": "code",
      "source": [
        "plt.figure(dpi=150)\n",
        "\n",
        "x = train['number_of_rentals'].index\n",
        "y = train['number_of_rentals'].values\n",
        "\n",
        "plt.title('따릉이 대여량')\n",
        "plt.xlabel('일별')\n",
        "plt.ylabel('일별 따릉이 대여량')\n",
        "plt.hlines(y=8000, xmin=0, xmax=len(x), color='Orange', linestyle='dotted')\n",
        "plt.plot(x,y)\n",
        "plt.show()"
      ],
      "metadata": {
        "colab": {
          "base_uri": "https://localhost:8080/",
          "height": 573
        },
        "id": "oPmlLb7u53nw",
        "outputId": "0c605fb4-e1b7-421c-ec5c-5741d20c6018"
      },
      "execution_count": 38,
      "outputs": [
        {
          "output_type": "display_data",
          "data": {
            "text/plain": [
              "<Figure size 900x600 with 1 Axes>"
            ],
            "image/png": "[encoded data removed]"
          },
          "metadata": {}
        }
      ]
    },
    {
      "cell_type": "markdown",
      "source": [
        ""
      ],
      "metadata": {
        "id": "2z-lpLdF803D"
      }
    },
    {
      "cell_type": "code",
      "source": [
        ""
      ],
      "metadata": {
        "id": "2T9PkOBX803T"
      },
      "execution_count": null,
      "outputs": []
    },
    {
      "cell_type": "code",
      "source": [
        ""
      ],
      "metadata": {
        "id": "gnA0TPeQ803U"
      },
      "execution_count": null,
      "outputs": []
    },
    {
      "cell_type": "markdown",
      "source": [
        "인사이트\n",
        "\n",
        ">**1. 시간이 흐를수록 대여량이 증가하고 있다.  --> 연도별 차이**\n",
        ">\n",
        ">2. 날씨가 덥고 습하다면 외출을 꺼리기 때문에 따릉이 대여량이 감소할 것이다.  \n",
        ">- 날씨(강수량)에 영향을 받은 것일까?  \n",
        ">- 저번시간, 1회차 교육 때 확인  \n",
        "> \n",
        ">**3. 평일에는 출근을 하니까 대여량이 주말보다 많을까?  -->  요일별 차이**"
      ],
      "metadata": {
        "id": "EDjk4PMA9bnt"
      }
    },
    {
      "cell_type": "code",
      "source": [
        ""
      ],
      "metadata": {
        "id": "N657tef7803U"
      },
      "execution_count": null,
      "outputs": []
    },
    {
      "cell_type": "markdown",
      "source": [
        "### 3.1.2 연도별 따릉이 대여량\n",
        "\n",
        "인사이트1: 시간이 흐를수록 대여량이 증가하고 있다."
      ],
      "metadata": {
        "id": "CcsBmVsL803U"
      }
    },
    {
      "cell_type": "code",
      "source": [
        "month_day = train['month'].astype(str) + '_' + train['day'].astype(str)\n",
        "\n",
        "plt.figure(figsize=(15,8))\n",
        "sns.scatterplot(x=month_day, y=train['number_of_rentals'], hue=train['year'])\n",
        "plt.xticks(rotation=45)\n",
        "plt.title('연도별 따릉이 대여량 비교', fontsize=30)\n",
        "plt.show()"
      ],
      "metadata": {
        "colab": {
          "base_uri": "https://localhost:8080/",
          "height": 469
        },
        "id": "i-h5c0YH803V",
        "outputId": "10fde739-803c-447c-8f0a-db40c5af83ca"
      },
      "execution_count": 40,
      "outputs": [
        {
          "output_type": "display_data",
          "data": {
            "text/plain": [
              "<Figure size 1080x576 with 1 Axes>"
            ],
            "image/png": "[encoded data removed]"
          },
          "metadata": {}
        }
      ]
    },
    {
      "cell_type": "markdown",
      "source": [
        "* 결론\n",
        "\n",
        "Year은 매우 중요한 변수이고,\n",
        "\n",
        "Year을 반영하는 파생 변수를 생성해도 좋겠다!"
      ],
      "metadata": {
        "id": "cAn14ecr806l"
      }
    },
    {
      "cell_type": "markdown",
      "source": [
        "### 3.1.3 평일과 주말 대여량\n",
        "\n",
        "인사이트 3 : 평일에는 출근을 하니까 대여량이 주말보다 많을까?\n",
        "\n",
        "가설1"
      ],
      "metadata": {
        "id": "H-lQ6Sju806m"
      }
    },
    {
      "cell_type": "code",
      "source": [
        "weekend = train[(train['week_day'] == 0) | (train['week_day'] == 6)] # 일요일과 토요일 -> 주말을 나타내는 데이터 프레임"
      ],
      "metadata": {
        "id": "Q_p3RFBs806m"
      },
      "execution_count": 44,
      "outputs": []
    },
    {
      "cell_type": "code",
      "source": [
        "weekday = train[(train['week_day'] != 0) | (train['week_day'] != 6)] # 일요일과 토요일 아닌 -> 평일을 나타내는 데이터 프레임"
      ],
      "metadata": {
        "id": "j8AGyRM-806n"
      },
      "execution_count": 42,
      "outputs": []
    },
    {
      "cell_type": "code",
      "source": [
        "weekend.mean().number_of_rentals"
      ],
      "metadata": {
        "colab": {
          "base_uri": "https://localhost:8080/"
        },
        "id": "-XxWnEtd806n",
        "outputId": "1c49c4cd-76b1-4971-92d9-3ce81d6d9427"
      },
      "execution_count": 45,
      "outputs": [
        {
          "output_type": "stream",
          "name": "stderr",
          "text": [
            "/usr/local/lib/python3.7/dist-packages/ipykernel_launcher.py:1: FutureWarning: Dropping of nuisance columns in DataFrame reductions (with 'numeric_only=None') is deprecated; in a future version this will raise TypeError.  Select only valid columns before calling the reduction.\n",
            "  \"\"\"Entry point for launching an IPython kernel.\n"
          ]
        },
        {
          "output_type": "execute_result",
          "data": {
            "text/plain": [
              "58988.64102564102"
            ]
          },
          "metadata": {},
          "execution_count": 45
        }
      ]
    },
    {
      "cell_type": "code",
      "source": [
        "weekday.mean().number_of_rentals"
      ],
      "metadata": {
        "colab": {
          "base_uri": "https://localhost:8080/"
        },
        "outputId": "25730f46-e3ed-4a7b-d4b7-f9a6929e36a0",
        "id": "Q2mOKX5rCMB6"
      },
      "execution_count": 46,
      "outputs": [
        {
          "output_type": "stream",
          "name": "stderr",
          "text": [
            "/usr/local/lib/python3.7/dist-packages/ipykernel_launcher.py:1: FutureWarning: Dropping of nuisance columns in DataFrame reductions (with 'numeric_only=None') is deprecated; in a future version this will raise TypeError.  Select only valid columns before calling the reduction.\n",
            "  \"\"\"Entry point for launching an IPython kernel.\n"
          ]
        },
        {
          "output_type": "execute_result",
          "data": {
            "text/plain": [
              "59574.97802197802"
            ]
          },
          "metadata": {},
          "execution_count": 46
        }
      ]
    },
    {
      "cell_type": "code",
      "source": [
        "x = ['weekday', 'weekend']\n",
        "y = [weekday.mean().number_of_rentals, weekend.mean().number_of_rentals]\n",
        "\n",
        "plt.figure(figsize=(8,5))\n",
        "plt.title('따릉이 대여량 평균')\n",
        "plt.xlabel('평일/주말')\n",
        "plt.ylabel('대여량')\n",
        "plt.bar(x,y)\n",
        "plt.show()"
      ],
      "metadata": {
        "colab": {
          "base_uri": "https://localhost:8080/",
          "height": 407
        },
        "id": "pQVg5bum806n",
        "outputId": "1d8d9fc6-c413-41c2-e515-8777e6675c50"
      },
      "execution_count": 48,
      "outputs": [
        {
          "output_type": "stream",
          "name": "stderr",
          "text": [
            "/usr/local/lib/python3.7/dist-packages/ipykernel_launcher.py:2: FutureWarning: Dropping of nuisance columns in DataFrame reductions (with 'numeric_only=None') is deprecated; in a future version this will raise TypeError.  Select only valid columns before calling the reduction.\n",
            "  \n"
          ]
        },
        {
          "output_type": "display_data",
          "data": {
            "text/plain": [
              "<Figure size 576x360 with 1 Axes>"
            ],
            "image/png": "[encoded data removed]"
          },
          "metadata": {}
        }
      ]
    },
    {
      "cell_type": "code",
      "source": [
        "weekday.number_of_rentals.plot()"
      ],
      "metadata": {
        "colab": {
          "base_uri": "https://localhost:8080/",
          "height": 282
        },
        "id": "xOPJ3C-3809j",
        "outputId": "368bb54d-56e2-40e0-80f2-486a08555418"
      },
      "execution_count": 49,
      "outputs": [
        {
          "output_type": "execute_result",
          "data": {
            "text/plain": [
              "<matplotlib.axes._subplots.AxesSubplot at 0x7fc78d84d9d0>"
            ]
          },
          "metadata": {},
          "execution_count": 49
        },
        {
          "output_type": "display_data",
          "data": {
            "text/plain": [
              "<Figure size 432x288 with 1 Axes>"
            ],
            "image/png": "[encoded data removed]"
          },
          "metadata": {}
        }
      ]
    },
    {
      "cell_type": "code",
      "source": [
        "weekend.number_of_rentals.plot()"
      ],
      "metadata": {
        "colab": {
          "base_uri": "https://localhost:8080/",
          "height": 282
        },
        "id": "UucRSXIi809j",
        "outputId": "c1fac181-93e9-417b-c03e-f104d6d6374f"
      },
      "execution_count": 50,
      "outputs": [
        {
          "output_type": "execute_result",
          "data": {
            "text/plain": [
              "<matplotlib.axes._subplots.AxesSubplot at 0x7fc78fa60590>"
            ]
          },
          "metadata": {},
          "execution_count": 50
        },
        {
          "output_type": "display_data",
          "data": {
            "text/plain": [
              "<Figure size 432x288 with 1 Axes>"
            ],
            "image/png": "[encoded data removed]"
          },
          "metadata": {}
        }
      ]
    },
    {
      "cell_type": "markdown",
      "source": [
        "* 결론  \n",
        "평일과 주말은 별 차이가 없다고 말할 수 있다!"
      ],
      "metadata": {
        "id": "XCZf1FDn809k"
      }
    },
    {
      "cell_type": "markdown",
      "source": [
        "### 3.1.4 요일별 대여량"
      ],
      "metadata": {
        "id": "TE-qaU1p809k"
      }
    },
    {
      "cell_type": "code",
      "source": [
        "plt.figure(figsize=(15,8))\n",
        "\n",
        "sns.barplot(x=train['week_day'], y=train['number_of_rentals'], hue=train['year'])\n",
        "plt.title('요일별 대여량 비교', fontsize=30)\n",
        "plt.show()"
      ],
      "metadata": {
        "colab": {
          "base_uri": "https://localhost:8080/",
          "height": 469
        },
        "id": "R5zv-zYI809l",
        "outputId": "2415560d-47e5-42c7-adee-c775df346ed1"
      },
      "execution_count": 57,
      "outputs": [
        {
          "output_type": "display_data",
          "data": {
            "text/plain": [
              "<Figure size 1080x576 with 1 Axes>"
            ],
            "image/png": "[encoded data removed]"
          },
          "metadata": {}
        }
      ]
    },
    {
      "cell_type": "code",
      "source": [
        "plt.figure(figsize=(15,8))\n",
        "\n",
        "sns.barplot(x=train['week_day'], y=train['number_of_rentals'], hue=train['year'])\n",
        "plt.title('요일+연도 대여량 비교', fontsize=30)\n",
        "plt.show()"
      ],
      "metadata": {
        "colab": {
          "base_uri": "https://localhost:8080/",
          "height": 469
        },
        "id": "RIpPAaJW809l",
        "outputId": "f2545aa8-d2d5-4219-9b47-0c78f782ca11"
      },
      "execution_count": 58,
      "outputs": [
        {
          "output_type": "display_data",
          "data": {
            "text/plain": [
              "<Figure size 1080x576 with 1 Axes>"
            ],
            "image/png": "[encoded data removed]"
          },
          "metadata": {}
        }
      ]
    },
    {
      "cell_type": "markdown",
      "source": [
        "* 결론\n",
        "\n",
        "요일이라는 변수는 따릉이 대여량에 영향을 크게 미치지 않는다\n",
        "\n",
        "따라서 drop을 해줘도 괜찮겠다!"
      ],
      "metadata": {
        "id": "XRBEnePEDrqh"
      }
    },
    {
      "cell_type": "markdown",
      "source": [
        "### 3.1.5 더위+습도\n",
        "\n",
        "가설2.날씨가 덥고 습하다면 따릉이 대여량 감소"
      ],
      "metadata": {
        "id": "VD8zDz5bEBox"
      }
    },
    {
      "cell_type": "code",
      "source": [
        "hot_score = train['high_temp'] * train['humidity']\n",
        "\n",
        "plt.figure(figsize=(8,5))\n",
        "sns.scatterplot(x=hot_score, y=train['number_of_rentals'], hue=train['year'], s=100)\n",
        "plt.title('더위 점수와 대여량', fontsize=30)\n",
        "plt.show()"
      ],
      "metadata": {
        "colab": {
          "base_uri": "https://localhost:8080/",
          "height": 347
        },
        "id": "0WGzMjcNEJE-",
        "outputId": "ef671396-ba8d-424a-e7ef-54d8c9847bbe"
      },
      "execution_count": 62,
      "outputs": [
        {
          "output_type": "display_data",
          "data": {
            "text/plain": [
              "<Figure size 576x360 with 1 Axes>"
            ],
            "image/png": "[encoded data removed]"
          },
          "metadata": {}
        }
      ]
    },
    {
      "cell_type": "markdown",
      "source": [
        "* 결론\n",
        "\n",
        "더위 점수가 따릉이 대여량에 영향을 준다. (양의 상관관계)\n",
        "\n",
        ": 파생변수 + \"더위 점수\""
      ],
      "metadata": {
        "id": "gl38D2yIESNe"
      }
    },
    {
      "cell_type": "markdown",
      "source": [
        "### 3.1.6 추위 점수\n",
        "\n",
        "가설3.날씨가 춥고 바람이 많이 불면 따릉이 대여량 감소"
      ],
      "metadata": {
        "id": "-Al2LI1UFIXB"
      }
    },
    {
      "cell_type": "code",
      "source": [
        "cold_score =  train['wind_speed'] / train['low_temp'] # 바람: 빠를수록, 기온: 낮을수록\n",
        "\n",
        "plt.figure(figsize=(8,5))\n",
        "sns.scatterplot(x=cold_score, y=train['number_of_rentals'], hue=train['year'], s=100)\n",
        "plt.title('추위 점수와 대여량', fontsize=30)\n",
        "plt.show()"
      ],
      "metadata": {
        "colab": {
          "base_uri": "https://localhost:8080/",
          "height": 347
        },
        "id": "eizoySpOFDbJ",
        "outputId": "096dbfc4-9abe-41e8-9a64-328273296be5"
      },
      "execution_count": 61,
      "outputs": [
        {
          "output_type": "display_data",
          "data": {
            "text/plain": [
              "<Figure size 576x360 with 1 Axes>"
            ],
            "image/png": "[encoded data removed]"
          },
          "metadata": {}
        }
      ]
    },
    {
      "cell_type": "markdown",
      "source": [
        "* 결론\n",
        "\n",
        "추위 점수가 따릉이 대여량에 영향을 준다. (음의 상관관계)\n",
        "\n",
        ": 추위 점수라는 파생변수를 생성"
      ],
      "metadata": {
        "id": "bzCNjSmvF68I"
      }
    },
    {
      "cell_type": "markdown",
      "source": [
        "### 3.1.7 이상치 확인"
      ],
      "metadata": {
        "id": "WfQVbn5wFDdc"
      }
    },
    {
      "cell_type": "code",
      "source": [
        "plt.style.use('ggplot')\n",
        "\n",
        "feature = train.describe().columns\n",
        "\n",
        "plt.figure(figsize=(30,15))\n",
        "plt.suptitle('독립변수 별 이상치 확인', fontsize=30)\n",
        "\n",
        "for i in range(len(feature)):\n",
        "  plt.subplot(2,7, i+1)\n",
        "  plt.title(feature[i])\n",
        "  plt.boxplot(train[feature[i]])\n",
        "plt.show()"
      ],
      "metadata": {
        "colab": {
          "base_uri": "https://localhost:8080/",
          "height": 990
        },
        "id": "ZXdhidCIFDgY",
        "outputId": "0be8d21b-ba4d-433c-b6b4-60eb14a817f2"
      },
      "execution_count": 65,
      "outputs": [
        {
          "output_type": "display_data",
          "data": {
            "text/plain": [
              "<Figure size 2160x1080 with 13 Axes>"
            ],
            "image/png": "[encoded data removed]"
          },
          "metadata": {}
        }
      ]
    },
    {
      "cell_type": "code",
      "source": [
        "train.describe() #object 타입은 제외됨"
      ],
      "metadata": {
        "colab": {
          "base_uri": "https://localhost:8080/",
          "height": 364
        },
        "id": "ajH32A9OFDkA",
        "outputId": "4b6dc352-6608-4cbb-b30f-a849be2e3640"
      },
      "execution_count": 66,
      "outputs": [
        {
          "output_type": "execute_result",
          "data": {
            "text/plain": [
              "       wind_direction  sky_condition  precipitation_form  wind_speed  \\\n",
              "count      273.000000     273.000000          273.000000  273.000000   \n",
              "mean       202.750967       2.288256            0.100963    2.480963   \n",
              "std         56.659232       0.961775            0.203193    0.884397   \n",
              "min         57.047000       1.000000            0.000000    0.753000   \n",
              "25%        171.541000       1.405000            0.000000    1.820000   \n",
              "50%        209.774000       2.167000            0.000000    2.411000   \n",
              "75%        238.412000       3.000000            0.088000    2.924000   \n",
              "max        321.622000       4.000000            1.000000    5.607000   \n",
              "\n",
              "         humidity    low_temp   high_temp  Precipitation_Probability  \\\n",
              "count  273.000000  273.000000  273.000000                 273.000000   \n",
              "mean    56.745491   13.795249   23.384733                  16.878103   \n",
              "std     12.351268    5.107711    5.204605                  16.643772   \n",
              "min     24.831000    1.938000    9.895000                   0.000000   \n",
              "25%     47.196000    9.938000   19.842000                   4.054000   \n",
              "50%     55.845000   14.375000   24.158000                  12.162000   \n",
              "75%     66.419000   18.000000   27.526000                  22.973000   \n",
              "max     88.885000   22.312000   33.421000                  82.162000   \n",
              "\n",
              "       number_of_rentals         year       month         day    week_day  \n",
              "count         273.000000   273.000000  273.000000  273.000000  273.000000  \n",
              "mean        59574.978022  2019.000000    5.000000   15.670330    3.000000  \n",
              "std         27659.575774     0.817996    0.813489    8.774195    2.003673  \n",
              "min          1037.000000  2018.000000    4.000000    1.000000    0.000000  \n",
              "25%         36761.000000  2018.000000    4.000000    8.000000    1.000000  \n",
              "50%         63032.000000  2019.000000    5.000000   16.000000    3.000000  \n",
              "75%         81515.000000  2020.000000    6.000000   23.000000    5.000000  \n",
              "max        110377.000000  2020.000000    6.000000   31.000000    6.000000  "
            ],
            "text/html": [
              "\n",
              "  <div id=\"df-5d7dfc28-0591-42e9-a781-01040d6b55b8\">\n",
              "    <div class=\"colab-df-container\">\n",
              "      <div>\n",
              "<style scoped>\n",
              "    .dataframe tbody tr th:only-of-type {\n",
              "        vertical-align: middle;\n",
              "    }\n",
              "\n",
              "    .dataframe tbody tr th {\n",
              "        vertical-align: top;\n",
              "    }\n",
              "\n",
              "    .dataframe thead th {\n",
              "        text-align: right;\n",
              "    }\n",
              "</style>\n",
              "<table border=\"1\" class=\"dataframe\">\n",
              "  <thead>\n",
              "    <tr style=\"text-align: right;\">\n",
              "      <th></th>\n",
              "      <th>wind_direction</th>\n",
              "      <th>sky_condition</th>\n",
              "      <th>precipitation_form</th>\n",
              "      <th>wind_speed</th>\n",
              "      <th>humidity</th>\n",
              "      <th>low_temp</th>\n",
              "      <th>high_temp</th>\n",
              "      <th>Precipitation_Probability</th>\n",
              "      <th>number_of_rentals</th>\n",
              "      <th>year</th>\n",
              "      <th>month</th>\n",
              "      <th>day</th>\n",
              "      <th>week_day</th>\n",
              "    </tr>\n",
              "  </thead>\n",
              "  <tbody>\n",
              "    <tr>\n",
              "      <th>count</th>\n",
              "      <td>273.000000</td>\n",
              "      <td>273.000000</td>\n",
              "      <td>273.000000</td>\n",
              "      <td>273.000000</td>\n",
              "      <td>273.000000</td>\n",
              "      <td>273.000000</td>\n",
              "      <td>273.000000</td>\n",
              "      <td>273.000000</td>\n",
              "      <td>273.000000</td>\n",
              "      <td>273.000000</td>\n",
              "      <td>273.000000</td>\n",
              "      <td>273.000000</td>\n",
              "      <td>273.000000</td>\n",
              "    </tr>\n",
              "    <tr>\n",
              "      <th>mean</th>\n",
              "      <td>202.750967</td>\n",
              "      <td>2.288256</td>\n",
              "      <td>0.100963</td>\n",
              "      <td>2.480963</td>\n",
              "      <td>56.745491</td>\n",
              "      <td>13.795249</td>\n",
              "      <td>23.384733</td>\n",
              "      <td>16.878103</td>\n",
              "      <td>59574.978022</td>\n",
              "      <td>2019.000000</td>\n",
              "      <td>5.000000</td>\n",
              "      <td>15.670330</td>\n",
              "      <td>3.000000</td>\n",
              "    </tr>\n",
              "    <tr>\n",
              "      <th>std</th>\n",
              "      <td>56.659232</td>\n",
              "      <td>0.961775</td>\n",
              "      <td>0.203193</td>\n",
              "      <td>0.884397</td>\n",
              "      <td>12.351268</td>\n",
              "      <td>5.107711</td>\n",
              "      <td>5.204605</td>\n",
              "      <td>16.643772</td>\n",
              "      <td>27659.575774</td>\n",
              "      <td>0.817996</td>\n",
              "      <td>0.813489</td>\n",
              "      <td>8.774195</td>\n",
              "      <td>2.003673</td>\n",
              "    </tr>\n",
              "    <tr>\n",
              "      <th>min</th>\n",
              "      <td>57.047000</td>\n",
              "      <td>1.000000</td>\n",
              "      <td>0.000000</td>\n",
              "      <td>0.753000</td>\n",
              "      <td>24.831000</td>\n",
              "      <td>1.938000</td>\n",
              "      <td>9.895000</td>\n",
              "      <td>0.000000</td>\n",
              "      <td>1037.000000</td>\n",
              "      <td>2018.000000</td>\n",
              "      <td>4.000000</td>\n",
              "      <td>1.000000</td>\n",
              "      <td>0.000000</td>\n",
              "    </tr>\n",
              "    <tr>\n",
              "      <th>25%</th>\n",
              "      <td>171.541000</td>\n",
              "      <td>1.405000</td>\n",
              "      <td>0.000000</td>\n",
              "      <td>1.820000</td>\n",
              "      <td>47.196000</td>\n",
              "      <td>9.938000</td>\n",
              "      <td>19.842000</td>\n",
              "      <td>4.054000</td>\n",
              "      <td>36761.000000</td>\n",
              "      <td>2018.000000</td>\n",
              "      <td>4.000000</td>\n",
              "      <td>8.000000</td>\n",
              "      <td>1.000000</td>\n",
              "    </tr>\n",
              "    <tr>\n",
              "      <th>50%</th>\n",
              "      <td>209.774000</td>\n",
              "      <td>2.167000</td>\n",
              "      <td>0.000000</td>\n",
              "      <td>2.411000</td>\n",
              "      <td>55.845000</td>\n",
              "      <td>14.375000</td>\n",
              "      <td>24.158000</td>\n",
              "      <td>12.162000</td>\n",
              "      <td>63032.000000</td>\n",
              "      <td>2019.000000</td>\n",
              "      <td>5.000000</td>\n",
              "      <td>16.000000</td>\n",
              "      <td>3.000000</td>\n",
              "    </tr>\n",
              "    <tr>\n",
              "      <th>75%</th>\n",
              "      <td>238.412000</td>\n",
              "      <td>3.000000</td>\n",
              "      <td>0.088000</td>\n",
              "      <td>2.924000</td>\n",
              "      <td>66.419000</td>\n",
              "      <td>18.000000</td>\n",
              "      <td>27.526000</td>\n",
              "      <td>22.973000</td>\n",
              "      <td>81515.000000</td>\n",
              "      <td>2020.000000</td>\n",
              "      <td>6.000000</td>\n",
              "      <td>23.000000</td>\n",
              "      <td>5.000000</td>\n",
              "    </tr>\n",
              "    <tr>\n",
              "      <th>max</th>\n",
              "      <td>321.622000</td>\n",
              "      <td>4.000000</td>\n",
              "      <td>1.000000</td>\n",
              "      <td>5.607000</td>\n",
              "      <td>88.885000</td>\n",
              "      <td>22.312000</td>\n",
              "      <td>33.421000</td>\n",
              "      <td>82.162000</td>\n",
              "      <td>110377.000000</td>\n",
              "      <td>2020.000000</td>\n",
              "      <td>6.000000</td>\n",
              "      <td>31.000000</td>\n",
              "      <td>6.000000</td>\n",
              "    </tr>\n",
              "  </tbody>\n",
              "</table>\n",
              "</div>\n",
              "      <button class=\"colab-df-convert\" onclick=\"convertToInteractive('df-5d7dfc28-0591-42e9-a781-01040d6b55b8')\"\n",
              "              title=\"Convert this dataframe to an interactive table.\"\n",
              "              style=\"display:none;\">\n",
              "        \n",
              "  <svg xmlns=\"http://www.w3.org/2000/svg\" height=\"24px\"viewBox=\"0 0 24 24\"\n",
              "       width=\"24px\">\n",
              "    <path d=\"M0 0h24v24H0V0z\" fill=\"none\"/>\n",
              "    <path d=\"M18.56 5.44l.94 2.06.94-2.06 2.06-.94-2.06-.94-.94-2.06-.94 2.06-2.06.94zm-11 1L8.5 8.5l.94-2.06 2.06-.94-2.06-.94L8.5 2.5l-.94 2.06-2.06.94zm10 10l.94 2.06.94-2.06 2.06-.94-2.06-.94-.94-2.06-.94 2.06-2.06.94z\"/><path d=\"M17.41 7.96l-1.37-1.37c-.4-.4-.92-.59-1.43-.59-.52 0-1.04.2-1.43.59L10.3 9.45l-7.72 7.72c-.78.78-.78 2.05 0 2.83L4 21.41c.39.39.9.59 1.41.59.51 0 1.02-.2 1.41-.59l7.78-7.78 2.81-2.81c.8-.78.8-2.07 0-2.86zM5.41 20L4 18.59l7.72-7.72 1.47 1.35L5.41 20z\"/>\n",
              "  </svg>\n",
              "      </button>\n",
              "      \n",
              "  <style>\n",
              "    .colab-df-container {\n",
              "      display:flex;\n",
              "      flex-wrap:wrap;\n",
              "      gap: 12px;\n",
              "    }\n",
              "\n",
              "    .colab-df-convert {\n",
              "      background-color: #E8F0FE;\n",
              "      border: none;\n",
              "      border-radius: 50%;\n",
              "      cursor: pointer;\n",
              "      display: none;\n",
              "      fill: #1967D2;\n",
              "      height: 32px;\n",
              "      padding: 0 0 0 0;\n",
              "      width: 32px;\n",
              "    }\n",
              "\n",
              "    .colab-df-convert:hover {\n",
              "      background-color: #E2EBFA;\n",
              "      box-shadow: 0px 1px 2px rgba(60, 64, 67, 0.3), 0px 1px 3px 1px rgba(60, 64, 67, 0.15);\n",
              "      fill: #174EA6;\n",
              "    }\n",
              "\n",
              "    [theme=dark] .colab-df-convert {\n",
              "      background-color: #3B4455;\n",
              "      fill: #D2E3FC;\n",
              "    }\n",
              "\n",
              "    [theme=dark] .colab-df-convert:hover {\n",
              "      background-color: #434B5C;\n",
              "      box-shadow: 0px 1px 3px 1px rgba(0, 0, 0, 0.15);\n",
              "      filter: drop-shadow(0px 1px 2px rgba(0, 0, 0, 0.3));\n",
              "      fill: #FFFFFF;\n",
              "    }\n",
              "  </style>\n",
              "\n",
              "      <script>\n",
              "        const buttonEl =\n",
              "          document.querySelector('#df-5d7dfc28-0591-42e9-a781-01040d6b55b8 button.colab-df-convert');\n",
              "        buttonEl.style.display =\n",
              "          google.colab.kernel.accessAllowed ? 'block' : 'none';\n",
              "\n",
              "        async function convertToInteractive(key) {\n",
              "          const element = document.querySelector('#df-5d7dfc28-0591-42e9-a781-01040d6b55b8');\n",
              "          const dataTable =\n",
              "            await google.colab.kernel.invokeFunction('convertToInteractive',\n",
              "                                                     [key], {});\n",
              "          if (!dataTable) return;\n",
              "\n",
              "          const docLinkHtml = 'Like what you see? Visit the ' +\n",
              "            '<a target=\"_blank\" href=https://colab.research.google.com/notebooks/data_table.ipynb>data table notebook</a>'\n",
              "            + ' to learn more about interactive tables.';\n",
              "          element.innerHTML = '';\n",
              "          dataTable['output_type'] = 'display_data';\n",
              "          await google.colab.output.renderOutput(dataTable, element);\n",
              "          const docLink = document.createElement('div');\n",
              "          docLink.innerHTML = docLinkHtml;\n",
              "          element.appendChild(docLink);\n",
              "        }\n",
              "      </script>\n",
              "    </div>\n",
              "  </div>\n",
              "  "
            ]
          },
          "metadata": {},
          "execution_count": 66
        }
      ]
    },
    {
      "cell_type": "markdown",
      "source": [
        "### 3.1.8 상관관계\n",
        "\n",
        "+-0.3은 상관관계가 없다고 본다"
      ],
      "metadata": {
        "id": "3OOluuXpFDmi"
      }
    },
    {
      "cell_type": "code",
      "source": [
        "plt.figure(figsize=(12,10))\n",
        "sns.heatmap(data = train.corr(method='pearson'), annot=True, fmt='.2f', linewidths=5, cmap='Blues')"
      ],
      "metadata": {
        "colab": {
          "base_uri": "https://localhost:8080/",
          "height": 808
        },
        "id": "xmOGTyINIYYQ",
        "outputId": "dfd075f5-dda2-47d5-efa5-ee52d6189f80"
      },
      "execution_count": 67,
      "outputs": [
        {
          "output_type": "stream",
          "name": "stderr",
          "text": [
            "/usr/local/lib/python3.7/dist-packages/matplotlib/backends/backend_agg.py:214: RuntimeWarning: Glyph 8722 missing from current font.\n",
            "  font.set_text(s, 0.0, flags=flags)\n",
            "/usr/local/lib/python3.7/dist-packages/matplotlib/backends/backend_agg.py:183: RuntimeWarning: Glyph 8722 missing from current font.\n",
            "  font.set_text(s, 0, flags=flags)\n"
          ]
        },
        {
          "output_type": "execute_result",
          "data": {
            "text/plain": [
              "<matplotlib.axes._subplots.AxesSubplot at 0x7fc78d2c8110>"
            ]
          },
          "metadata": {},
          "execution_count": 67
        },
        {
          "output_type": "display_data",
          "data": {
            "text/plain": [
              "<Figure size 864x720 with 2 Axes>"
            ],
            "image/png": "[encoded data removed]"
          },
          "metadata": {}
        }
      ]
    },
    {
      "cell_type": "markdown",
      "source": [
        "## 3.2 가설 검정 및 총정리\n",
        "\n",
        "3.1.1 : 타겟을 통하여 3가지 인사이트 도출  \n",
        "3.1.2 : 연도별 대여량이 증가하므로, Year 관한 변수 하나 생성  \n",
        "3.1.3 : 가설1 : 평일과 주말의 대여량 차이는 X  \n",
        "3.1.3 : 가설1 (파생) : 평일과 주말의 대여량 차이는 X  \n",
        "3.1.5 : 가설2 : 더위 점수는 대여량이 감소하는 것이 아니라 오히려 증가했다  \n",
        "3.1.6 : 가설3 : 추위 점수는 대여량이 감소하였다  \n",
        "3.1.7 : 이상치에서는 특이한 이상치 발견 X  \n",
        "3.1.8 : 피어슨 상관계수를 통한 전반적인 피처의 상관관계를 도출\n",
        "\n",
        ": Year 인플레이션 변수 생성, 더위 점수, 추위 점수 생성, 요일, 날짜, 일 변수 삭제 "
      ],
      "metadata": {
        "id": "Ueeh-pgBIYbg"
      }
    },
    {
      "cell_type": "markdown",
      "source": [
        "# 4.Feature Engineering\n",
        "\n"
      ],
      "metadata": {
        "id": "OBSbq4dPIYfA"
      }
    },
    {
      "cell_type": "markdown",
      "source": [
        "\n",
        "## 4.1 FeatureExtraction\n"
      ],
      "metadata": {
        "id": "BE5rMZU5SFl7"
      }
    },
    {
      "cell_type": "markdown",
      "source": [
        "\n",
        "### 4.1.1 Year inflation"
      ],
      "metadata": {
        "id": "_FjeUB8OSG8e"
      }
    },
    {
      "cell_type": "code",
      "source": [
        "train[train['year']==2018]['number_of_rentals']"
      ],
      "metadata": {
        "colab": {
          "base_uri": "https://localhost:8080/"
        },
        "id": "2KVhFfEGIYhi",
        "outputId": "66221e07-b2f7-422d-be74-ea82723d0aed"
      },
      "execution_count": 68,
      "outputs": [
        {
          "output_type": "execute_result",
          "data": {
            "text/plain": [
              "0     22994\n",
              "1     28139\n",
              "2     26817\n",
              "3     26034\n",
              "4      2833\n",
              "      ...  \n",
              "86     6391\n",
              "87    41128\n",
              "88    27757\n",
              "89    42765\n",
              "90    26911\n",
              "Name: number_of_rentals, Length: 91, dtype: int64"
            ]
          },
          "metadata": {},
          "execution_count": 68
        }
      ]
    },
    {
      "cell_type": "code",
      "source": [
        "train[train['year']==2019]['number_of_rentals']"
      ],
      "metadata": {
        "colab": {
          "base_uri": "https://localhost:8080/"
        },
        "outputId": "18ccc309-4c1d-43c4-e212-10d129305ae8",
        "id": "SDUlQNNWMPHy"
      },
      "execution_count": 69,
      "outputs": [
        {
          "output_type": "execute_result",
          "data": {
            "text/plain": [
              "91     37660\n",
              "92     42029\n",
              "93     43257\n",
              "94     45681\n",
              "95     45643\n",
              "       ...  \n",
              "177    81274\n",
              "178    79234\n",
              "179    77056\n",
              "180    67346\n",
              "181    74994\n",
              "Name: number_of_rentals, Length: 91, dtype: int64"
            ]
          },
          "metadata": {},
          "execution_count": 69
        }
      ]
    },
    {
      "cell_type": "code",
      "source": [
        "train[train['year']==2020]['number_of_rentals']"
      ],
      "metadata": {
        "colab": {
          "base_uri": "https://localhost:8080/"
        },
        "outputId": "56767886-65f9-4d8a-f895-4009d2c637c4",
        "id": "jHkSGqolMPN5"
      },
      "execution_count": 70,
      "outputs": [
        {
          "output_type": "execute_result",
          "data": {
            "text/plain": [
              "182     70258\n",
              "183     72129\n",
              "184     74856\n",
              "185     66405\n",
              "186     64111\n",
              "        ...  \n",
              "268     96150\n",
              "269    107001\n",
              "270     98568\n",
              "271     70053\n",
              "272     38086\n",
              "Name: number_of_rentals, Length: 91, dtype: int64"
            ]
          },
          "metadata": {},
          "execution_count": 70
        }
      ]
    },
    {
      "cell_type": "code",
      "source": [
        "x1 = sum(train[train['year']==2018]['number_of_rentals'])\n",
        "x2 = sum(train[train['year']==2019]['number_of_rentals'])\n",
        "x3 = sum(train[train['year']==2020]['number_of_rentals'])"
      ],
      "metadata": {
        "id": "h91mRR8mIZTm"
      },
      "execution_count": 71,
      "outputs": []
    },
    {
      "cell_type": "code",
      "source": [
        "x1"
      ],
      "metadata": {
        "colab": {
          "base_uri": "https://localhost:8080/"
        },
        "id": "JGy_P08ZIZTn",
        "outputId": "240a9f7c-af16-4009-aaf2-ef192aaa72fe"
      },
      "execution_count": 72,
      "outputs": [
        {
          "output_type": "execute_result",
          "data": {
            "text/plain": [
              "2860617"
            ]
          },
          "metadata": {},
          "execution_count": 72
        }
      ]
    },
    {
      "cell_type": "code",
      "source": [
        "x2"
      ],
      "metadata": {
        "colab": {
          "base_uri": "https://localhost:8080/"
        },
        "id": "q9gpMa2uIZTo",
        "outputId": "b2b4db2c-c50d-44d0-ab85-8b91ab802701"
      },
      "execution_count": 73,
      "outputs": [
        {
          "output_type": "execute_result",
          "data": {
            "text/plain": [
              "5994774"
            ]
          },
          "metadata": {},
          "execution_count": 73
        }
      ]
    },
    {
      "cell_type": "code",
      "source": [
        "x3"
      ],
      "metadata": {
        "colab": {
          "base_uri": "https://localhost:8080/"
        },
        "id": "GT2Z4JioIZTp",
        "outputId": "4d655704-f462-4e7b-ccc0-83340df6d6a7"
      },
      "execution_count": 74,
      "outputs": [
        {
          "output_type": "execute_result",
          "data": {
            "text/plain": [
              "7408578"
            ]
          },
          "metadata": {},
          "execution_count": 74
        }
      ]
    },
    {
      "cell_type": "code",
      "source": [
        "# 2020년 대비 대여량 증감 비율\n",
        "print(x3/x1)\n",
        "print(x3/x2)"
      ],
      "metadata": {
        "colab": {
          "base_uri": "https://localhost:8080/"
        },
        "id": "Ou1MZIsdIZTr",
        "outputId": "689ff523-0e83-43b3-b07b-c0b28a41a988"
      },
      "execution_count": 75,
      "outputs": [
        {
          "output_type": "stream",
          "name": "stdout",
          "text": [
            "2.5898531680403214\n",
            "1.2358394161314505\n"
          ]
        }
      ]
    },
    {
      "cell_type": "code",
      "source": [
        "y1 = train[train['year']==2018]['number_of_rentals'] * 2.5898531680403214\n",
        "y2 = train[train['year']==2019]['number_of_rentals'] * 1.2358394161314505\n",
        "y3 = train[train['year']==2020]['number_of_rentals']\n",
        "\n",
        "pd.concat([y1, y2, y3], axis=0).to_frame()"
      ],
      "metadata": {
        "colab": {
          "base_uri": "https://localhost:8080/",
          "height": 424
        },
        "id": "7CS1t35gIZZD",
        "outputId": "6236458c-3d16-417d-9a2f-d164ae0b602a"
      },
      "execution_count": 77,
      "outputs": [
        {
          "output_type": "execute_result",
          "data": {
            "text/plain": [
              "     number_of_rentals\n",
              "0         59551.083746\n",
              "1         72875.878295\n",
              "2         69452.092407\n",
              "3         67424.237377\n",
              "4          7337.054025\n",
              "..                 ...\n",
              "268       96150.000000\n",
              "269      107001.000000\n",
              "270       98568.000000\n",
              "271       70053.000000\n",
              "272       38086.000000\n",
              "\n",
              "[273 rows x 1 columns]"
            ],
            "text/html": [
              "\n",
              "  <div id=\"df-da053d0a-334e-48da-9df2-3b955f2ca541\">\n",
              "    <div class=\"colab-df-container\">\n",
              "      <div>\n",
              "<style scoped>\n",
              "    .dataframe tbody tr th:only-of-type {\n",
              "        vertical-align: middle;\n",
              "    }\n",
              "\n",
              "    .dataframe tbody tr th {\n",
              "        vertical-align: top;\n",
              "    }\n",
              "\n",
              "    .dataframe thead th {\n",
              "        text-align: right;\n",
              "    }\n",
              "</style>\n",
              "<table border=\"1\" class=\"dataframe\">\n",
              "  <thead>\n",
              "    <tr style=\"text-align: right;\">\n",
              "      <th></th>\n",
              "      <th>number_of_rentals</th>\n",
              "    </tr>\n",
              "  </thead>\n",
              "  <tbody>\n",
              "    <tr>\n",
              "      <th>0</th>\n",
              "      <td>59551.083746</td>\n",
              "    </tr>\n",
              "    <tr>\n",
              "      <th>1</th>\n",
              "      <td>72875.878295</td>\n",
              "    </tr>\n",
              "    <tr>\n",
              "      <th>2</th>\n",
              "      <td>69452.092407</td>\n",
              "    </tr>\n",
              "    <tr>\n",
              "      <th>3</th>\n",
              "      <td>67424.237377</td>\n",
              "    </tr>\n",
              "    <tr>\n",
              "      <th>4</th>\n",
              "      <td>7337.054025</td>\n",
              "    </tr>\n",
              "    <tr>\n",
              "      <th>...</th>\n",
              "      <td>...</td>\n",
              "    </tr>\n",
              "    <tr>\n",
              "      <th>268</th>\n",
              "      <td>96150.000000</td>\n",
              "    </tr>\n",
              "    <tr>\n",
              "      <th>269</th>\n",
              "      <td>107001.000000</td>\n",
              "    </tr>\n",
              "    <tr>\n",
              "      <th>270</th>\n",
              "      <td>98568.000000</td>\n",
              "    </tr>\n",
              "    <tr>\n",
              "      <th>271</th>\n",
              "      <td>70053.000000</td>\n",
              "    </tr>\n",
              "    <tr>\n",
              "      <th>272</th>\n",
              "      <td>38086.000000</td>\n",
              "    </tr>\n",
              "  </tbody>\n",
              "</table>\n",
              "<p>273 rows × 1 columns</p>\n",
              "</div>\n",
              "      <button class=\"colab-df-convert\" onclick=\"convertToInteractive('df-da053d0a-334e-48da-9df2-3b955f2ca541')\"\n",
              "              title=\"Convert this dataframe to an interactive table.\"\n",
              "              style=\"display:none;\">\n",
              "        \n",
              "  <svg xmlns=\"http://www.w3.org/2000/svg\" height=\"24px\"viewBox=\"0 0 24 24\"\n",
              "       width=\"24px\">\n",
              "    <path d=\"M0 0h24v24H0V0z\" fill=\"none\"/>\n",
              "    <path d=\"M18.56 5.44l.94 2.06.94-2.06 2.06-.94-2.06-.94-.94-2.06-.94 2.06-2.06.94zm-11 1L8.5 8.5l.94-2.06 2.06-.94-2.06-.94L8.5 2.5l-.94 2.06-2.06.94zm10 10l.94 2.06.94-2.06 2.06-.94-2.06-.94-.94-2.06-.94 2.06-2.06.94z\"/><path d=\"M17.41 7.96l-1.37-1.37c-.4-.4-.92-.59-1.43-.59-.52 0-1.04.2-1.43.59L10.3 9.45l-7.72 7.72c-.78.78-.78 2.05 0 2.83L4 21.41c.39.39.9.59 1.41.59.51 0 1.02-.2 1.41-.59l7.78-7.78 2.81-2.81c.8-.78.8-2.07 0-2.86zM5.41 20L4 18.59l7.72-7.72 1.47 1.35L5.41 20z\"/>\n",
              "  </svg>\n",
              "      </button>\n",
              "      \n",
              "  <style>\n",
              "    .colab-df-container {\n",
              "      display:flex;\n",
              "      flex-wrap:wrap;\n",
              "      gap: 12px;\n",
              "    }\n",
              "\n",
              "    .colab-df-convert {\n",
              "      background-color: #E8F0FE;\n",
              "      border: none;\n",
              "      border-radius: 50%;\n",
              "      cursor: pointer;\n",
              "      display: none;\n",
              "      fill: #1967D2;\n",
              "      height: 32px;\n",
              "      padding: 0 0 0 0;\n",
              "      width: 32px;\n",
              "    }\n",
              "\n",
              "    .colab-df-convert:hover {\n",
              "      background-color: #E2EBFA;\n",
              "      box-shadow: 0px 1px 2px rgba(60, 64, 67, 0.3), 0px 1px 3px 1px rgba(60, 64, 67, 0.15);\n",
              "      fill: #174EA6;\n",
              "    }\n",
              "\n",
              "    [theme=dark] .colab-df-convert {\n",
              "      background-color: #3B4455;\n",
              "      fill: #D2E3FC;\n",
              "    }\n",
              "\n",
              "    [theme=dark] .colab-df-convert:hover {\n",
              "      background-color: #434B5C;\n",
              "      box-shadow: 0px 1px 3px 1px rgba(0, 0, 0, 0.15);\n",
              "      filter: drop-shadow(0px 1px 2px rgba(0, 0, 0, 0.3));\n",
              "      fill: #FFFFFF;\n",
              "    }\n",
              "  </style>\n",
              "\n",
              "      <script>\n",
              "        const buttonEl =\n",
              "          document.querySelector('#df-da053d0a-334e-48da-9df2-3b955f2ca541 button.colab-df-convert');\n",
              "        buttonEl.style.display =\n",
              "          google.colab.kernel.accessAllowed ? 'block' : 'none';\n",
              "\n",
              "        async function convertToInteractive(key) {\n",
              "          const element = document.querySelector('#df-da053d0a-334e-48da-9df2-3b955f2ca541');\n",
              "          const dataTable =\n",
              "            await google.colab.kernel.invokeFunction('convertToInteractive',\n",
              "                                                     [key], {});\n",
              "          if (!dataTable) return;\n",
              "\n",
              "          const docLinkHtml = 'Like what you see? Visit the ' +\n",
              "            '<a target=\"_blank\" href=https://colab.research.google.com/notebooks/data_table.ipynb>data table notebook</a>'\n",
              "            + ' to learn more about interactive tables.';\n",
              "          element.innerHTML = '';\n",
              "          dataTable['output_type'] = 'display_data';\n",
              "          await google.colab.output.renderOutput(dataTable, element);\n",
              "          const docLink = document.createElement('div');\n",
              "          docLink.innerHTML = docLinkHtml;\n",
              "          element.appendChild(docLink);\n",
              "        }\n",
              "      </script>\n",
              "    </div>\n",
              "  </div>\n",
              "  "
            ]
          },
          "metadata": {},
          "execution_count": 77
        }
      ]
    },
    {
      "cell_type": "code",
      "source": [
        "temp = train[['year', 'number_of_rentals']]\n",
        "temp['inflation_rentals'] = pd.concat([y1, y2, y3], axis=0).to_frame()\n",
        "temp"
      ],
      "metadata": {
        "colab": {
          "base_uri": "https://localhost:8080/",
          "height": 554
        },
        "id": "5OUMqDovIZZE",
        "outputId": "fd0deb70-68b8-40e4-c2a0-2478fae7a9fc"
      },
      "execution_count": 98,
      "outputs": [
        {
          "output_type": "stream",
          "name": "stderr",
          "text": [
            "/usr/local/lib/python3.7/dist-packages/ipykernel_launcher.py:2: SettingWithCopyWarning: \n",
            "A value is trying to be set on a copy of a slice from a DataFrame.\n",
            "Try using .loc[row_indexer,col_indexer] = value instead\n",
            "\n",
            "See the caveats in the documentation: https://pandas.pydata.org/pandas-docs/stable/user_guide/indexing.html#returning-a-view-versus-a-copy\n",
            "  \n"
          ]
        },
        {
          "output_type": "execute_result",
          "data": {
            "text/plain": [
              "     year  number_of_rentals  inflation_rentals\n",
              "0    2018              22994       59551.083746\n",
              "1    2018              28139       72875.878295\n",
              "2    2018              26817       69452.092407\n",
              "3    2018              26034       67424.237377\n",
              "4    2018               2833        7337.054025\n",
              "..    ...                ...                ...\n",
              "268  2020              96150       96150.000000\n",
              "269  2020             107001      107001.000000\n",
              "270  2020              98568       98568.000000\n",
              "271  2020              70053       70053.000000\n",
              "272  2020              38086       38086.000000\n",
              "\n",
              "[273 rows x 3 columns]"
            ],
            "text/html": [
              "\n",
              "  <div id=\"df-f360d7e1-74c1-4a64-9191-ec9677b481f8\">\n",
              "    <div class=\"colab-df-container\">\n",
              "      <div>\n",
              "<style scoped>\n",
              "    .dataframe tbody tr th:only-of-type {\n",
              "        vertical-align: middle;\n",
              "    }\n",
              "\n",
              "    .dataframe tbody tr th {\n",
              "        vertical-align: top;\n",
              "    }\n",
              "\n",
              "    .dataframe thead th {\n",
              "        text-align: right;\n",
              "    }\n",
              "</style>\n",
              "<table border=\"1\" class=\"dataframe\">\n",
              "  <thead>\n",
              "    <tr style=\"text-align: right;\">\n",
              "      <th></th>\n",
              "      <th>year</th>\n",
              "      <th>number_of_rentals</th>\n",
              "      <th>inflation_rentals</th>\n",
              "    </tr>\n",
              "  </thead>\n",
              "  <tbody>\n",
              "    <tr>\n",
              "      <th>0</th>\n",
              "      <td>2018</td>\n",
              "      <td>22994</td>\n",
              "      <td>59551.083746</td>\n",
              "    </tr>\n",
              "    <tr>\n",
              "      <th>1</th>\n",
              "      <td>2018</td>\n",
              "      <td>28139</td>\n",
              "      <td>72875.878295</td>\n",
              "    </tr>\n",
              "    <tr>\n",
              "      <th>2</th>\n",
              "      <td>2018</td>\n",
              "      <td>26817</td>\n",
              "      <td>69452.092407</td>\n",
              "    </tr>\n",
              "    <tr>\n",
              "      <th>3</th>\n",
              "      <td>2018</td>\n",
              "      <td>26034</td>\n",
              "      <td>67424.237377</td>\n",
              "    </tr>\n",
              "    <tr>\n",
              "      <th>4</th>\n",
              "      <td>2018</td>\n",
              "      <td>2833</td>\n",
              "      <td>7337.054025</td>\n",
              "    </tr>\n",
              "    <tr>\n",
              "      <th>...</th>\n",
              "      <td>...</td>\n",
              "      <td>...</td>\n",
              "      <td>...</td>\n",
              "    </tr>\n",
              "    <tr>\n",
              "      <th>268</th>\n",
              "      <td>2020</td>\n",
              "      <td>96150</td>\n",
              "      <td>96150.000000</td>\n",
              "    </tr>\n",
              "    <tr>\n",
              "      <th>269</th>\n",
              "      <td>2020</td>\n",
              "      <td>107001</td>\n",
              "      <td>107001.000000</td>\n",
              "    </tr>\n",
              "    <tr>\n",
              "      <th>270</th>\n",
              "      <td>2020</td>\n",
              "      <td>98568</td>\n",
              "      <td>98568.000000</td>\n",
              "    </tr>\n",
              "    <tr>\n",
              "      <th>271</th>\n",
              "      <td>2020</td>\n",
              "      <td>70053</td>\n",
              "      <td>70053.000000</td>\n",
              "    </tr>\n",
              "    <tr>\n",
              "      <th>272</th>\n",
              "      <td>2020</td>\n",
              "      <td>38086</td>\n",
              "      <td>38086.000000</td>\n",
              "    </tr>\n",
              "  </tbody>\n",
              "</table>\n",
              "<p>273 rows × 3 columns</p>\n",
              "</div>\n",
              "      <button class=\"colab-df-convert\" onclick=\"convertToInteractive('df-f360d7e1-74c1-4a64-9191-ec9677b481f8')\"\n",
              "              title=\"Convert this dataframe to an interactive table.\"\n",
              "              style=\"display:none;\">\n",
              "        \n",
              "  <svg xmlns=\"http://www.w3.org/2000/svg\" height=\"24px\"viewBox=\"0 0 24 24\"\n",
              "       width=\"24px\">\n",
              "    <path d=\"M0 0h24v24H0V0z\" fill=\"none\"/>\n",
              "    <path d=\"M18.56 5.44l.94 2.06.94-2.06 2.06-.94-2.06-.94-.94-2.06-.94 2.06-2.06.94zm-11 1L8.5 8.5l.94-2.06 2.06-.94-2.06-.94L8.5 2.5l-.94 2.06-2.06.94zm10 10l.94 2.06.94-2.06 2.06-.94-2.06-.94-.94-2.06-.94 2.06-2.06.94z\"/><path d=\"M17.41 7.96l-1.37-1.37c-.4-.4-.92-.59-1.43-.59-.52 0-1.04.2-1.43.59L10.3 9.45l-7.72 7.72c-.78.78-.78 2.05 0 2.83L4 21.41c.39.39.9.59 1.41.59.51 0 1.02-.2 1.41-.59l7.78-7.78 2.81-2.81c.8-.78.8-2.07 0-2.86zM5.41 20L4 18.59l7.72-7.72 1.47 1.35L5.41 20z\"/>\n",
              "  </svg>\n",
              "      </button>\n",
              "      \n",
              "  <style>\n",
              "    .colab-df-container {\n",
              "      display:flex;\n",
              "      flex-wrap:wrap;\n",
              "      gap: 12px;\n",
              "    }\n",
              "\n",
              "    .colab-df-convert {\n",
              "      background-color: #E8F0FE;\n",
              "      border: none;\n",
              "      border-radius: 50%;\n",
              "      cursor: pointer;\n",
              "      display: none;\n",
              "      fill: #1967D2;\n",
              "      height: 32px;\n",
              "      padding: 0 0 0 0;\n",
              "      width: 32px;\n",
              "    }\n",
              "\n",
              "    .colab-df-convert:hover {\n",
              "      background-color: #E2EBFA;\n",
              "      box-shadow: 0px 1px 2px rgba(60, 64, 67, 0.3), 0px 1px 3px 1px rgba(60, 64, 67, 0.15);\n",
              "      fill: #174EA6;\n",
              "    }\n",
              "\n",
              "    [theme=dark] .colab-df-convert {\n",
              "      background-color: #3B4455;\n",
              "      fill: #D2E3FC;\n",
              "    }\n",
              "\n",
              "    [theme=dark] .colab-df-convert:hover {\n",
              "      background-color: #434B5C;\n",
              "      box-shadow: 0px 1px 3px 1px rgba(0, 0, 0, 0.15);\n",
              "      filter: drop-shadow(0px 1px 2px rgba(0, 0, 0, 0.3));\n",
              "      fill: #FFFFFF;\n",
              "    }\n",
              "  </style>\n",
              "\n",
              "      <script>\n",
              "        const buttonEl =\n",
              "          document.querySelector('#df-f360d7e1-74c1-4a64-9191-ec9677b481f8 button.colab-df-convert');\n",
              "        buttonEl.style.display =\n",
              "          google.colab.kernel.accessAllowed ? 'block' : 'none';\n",
              "\n",
              "        async function convertToInteractive(key) {\n",
              "          const element = document.querySelector('#df-f360d7e1-74c1-4a64-9191-ec9677b481f8');\n",
              "          const dataTable =\n",
              "            await google.colab.kernel.invokeFunction('convertToInteractive',\n",
              "                                                     [key], {});\n",
              "          if (!dataTable) return;\n",
              "\n",
              "          const docLinkHtml = 'Like what you see? Visit the ' +\n",
              "            '<a target=\"_blank\" href=https://colab.research.google.com/notebooks/data_table.ipynb>data table notebook</a>'\n",
              "            + ' to learn more about interactive tables.';\n",
              "          element.innerHTML = '';\n",
              "          dataTable['output_type'] = 'display_data';\n",
              "          await google.colab.output.renderOutput(dataTable, element);\n",
              "          const docLink = document.createElement('div');\n",
              "          docLink.innerHTML = docLinkHtml;\n",
              "          element.appendChild(docLink);\n",
              "        }\n",
              "      </script>\n",
              "    </div>\n",
              "  </div>\n",
              "  "
            ]
          },
          "metadata": {},
          "execution_count": 98
        }
      ]
    },
    {
      "cell_type": "markdown",
      "source": [
        "### 4.1.2 피쳐 제거"
      ],
      "metadata": {
        "id": "mNNg89fAIZZF"
      }
    },
    {
      "cell_type": "code",
      "source": [
        "train = train.drop(['week_day'], axis=1)\n",
        "train = train.drop(['day'], axis=1)\n",
        "train = train.drop(['date_time'], axis=1)"
      ],
      "metadata": {
        "id": "i5EOePdZIZZF"
      },
      "execution_count": 80,
      "outputs": []
    },
    {
      "cell_type": "code",
      "source": [
        "train.head()"
      ],
      "metadata": {
        "colab": {
          "base_uri": "https://localhost:8080/",
          "height": 270
        },
        "id": "g7OmZ6aJIZZF",
        "outputId": "77485e37-f1b3-49f6-e667-9f789af01515"
      },
      "execution_count": 81,
      "outputs": [
        {
          "output_type": "execute_result",
          "data": {
            "text/plain": [
              "   wind_direction  sky_condition  precipitation_form  wind_speed  humidity  \\\n",
              "0         207.500          4.000               0.000       3.050    75.000   \n",
              "1         208.317          2.950               0.000       3.278    69.833   \n",
              "2         213.516          2.911               0.000       2.690    74.879   \n",
              "3         143.836          3.692               0.425       3.138    71.849   \n",
              "4          95.905          4.000               0.723       3.186    73.784   \n",
              "\n",
              "   low_temp  high_temp  Precipitation_Probability  number_of_rentals  year  \\\n",
              "0    12.600     21.000                     30.000              22994  2018   \n",
              "1    12.812     19.000                     19.500              28139  2018   \n",
              "2    10.312     15.316                     19.113              26817  2018   \n",
              "3     8.312     12.368                     43.493              26034  2018   \n",
              "4     5.875     10.421                     63.378               2833  2018   \n",
              "\n",
              "   month  \n",
              "0      4  \n",
              "1      4  \n",
              "2      4  \n",
              "3      4  \n",
              "4      4  "
            ],
            "text/html": [
              "\n",
              "  <div id=\"df-5cd9aec4-d49d-4f97-9a93-43d49420c188\">\n",
              "    <div class=\"colab-df-container\">\n",
              "      <div>\n",
              "<style scoped>\n",
              "    .dataframe tbody tr th:only-of-type {\n",
              "        vertical-align: middle;\n",
              "    }\n",
              "\n",
              "    .dataframe tbody tr th {\n",
              "        vertical-align: top;\n",
              "    }\n",
              "\n",
              "    .dataframe thead th {\n",
              "        text-align: right;\n",
              "    }\n",
              "</style>\n",
              "<table border=\"1\" class=\"dataframe\">\n",
              "  <thead>\n",
              "    <tr style=\"text-align: right;\">\n",
              "      <th></th>\n",
              "      <th>wind_direction</th>\n",
              "      <th>sky_condition</th>\n",
              "      <th>precipitation_form</th>\n",
              "      <th>wind_speed</th>\n",
              "      <th>humidity</th>\n",
              "      <th>low_temp</th>\n",
              "      <th>high_temp</th>\n",
              "      <th>Precipitation_Probability</th>\n",
              "      <th>number_of_rentals</th>\n",
              "      <th>year</th>\n",
              "      <th>month</th>\n",
              "    </tr>\n",
              "  </thead>\n",
              "  <tbody>\n",
              "    <tr>\n",
              "      <th>0</th>\n",
              "      <td>207.500</td>\n",
              "      <td>4.000</td>\n",
              "      <td>0.000</td>\n",
              "      <td>3.050</td>\n",
              "      <td>75.000</td>\n",
              "      <td>12.600</td>\n",
              "      <td>21.000</td>\n",
              "      <td>30.000</td>\n",
              "      <td>22994</td>\n",
              "      <td>2018</td>\n",
              "      <td>4</td>\n",
              "    </tr>\n",
              "    <tr>\n",
              "      <th>1</th>\n",
              "      <td>208.317</td>\n",
              "      <td>2.950</td>\n",
              "      <td>0.000</td>\n",
              "      <td>3.278</td>\n",
              "      <td>69.833</td>\n",
              "      <td>12.812</td>\n",
              "      <td>19.000</td>\n",
              "      <td>19.500</td>\n",
              "      <td>28139</td>\n",
              "      <td>2018</td>\n",
              "      <td>4</td>\n",
              "    </tr>\n",
              "    <tr>\n",
              "      <th>2</th>\n",
              "      <td>213.516</td>\n",
              "      <td>2.911</td>\n",
              "      <td>0.000</td>\n",
              "      <td>2.690</td>\n",
              "      <td>74.879</td>\n",
              "      <td>10.312</td>\n",
              "      <td>15.316</td>\n",
              "      <td>19.113</td>\n",
              "      <td>26817</td>\n",
              "      <td>2018</td>\n",
              "      <td>4</td>\n",
              "    </tr>\n",
              "    <tr>\n",
              "      <th>3</th>\n",
              "      <td>143.836</td>\n",
              "      <td>3.692</td>\n",
              "      <td>0.425</td>\n",
              "      <td>3.138</td>\n",
              "      <td>71.849</td>\n",
              "      <td>8.312</td>\n",
              "      <td>12.368</td>\n",
              "      <td>43.493</td>\n",
              "      <td>26034</td>\n",
              "      <td>2018</td>\n",
              "      <td>4</td>\n",
              "    </tr>\n",
              "    <tr>\n",
              "      <th>4</th>\n",
              "      <td>95.905</td>\n",
              "      <td>4.000</td>\n",
              "      <td>0.723</td>\n",
              "      <td>3.186</td>\n",
              "      <td>73.784</td>\n",
              "      <td>5.875</td>\n",
              "      <td>10.421</td>\n",
              "      <td>63.378</td>\n",
              "      <td>2833</td>\n",
              "      <td>2018</td>\n",
              "      <td>4</td>\n",
              "    </tr>\n",
              "  </tbody>\n",
              "</table>\n",
              "</div>\n",
              "      <button class=\"colab-df-convert\" onclick=\"convertToInteractive('df-5cd9aec4-d49d-4f97-9a93-43d49420c188')\"\n",
              "              title=\"Convert this dataframe to an interactive table.\"\n",
              "              style=\"display:none;\">\n",
              "        \n",
              "  <svg xmlns=\"http://www.w3.org/2000/svg\" height=\"24px\"viewBox=\"0 0 24 24\"\n",
              "       width=\"24px\">\n",
              "    <path d=\"M0 0h24v24H0V0z\" fill=\"none\"/>\n",
              "    <path d=\"M18.56 5.44l.94 2.06.94-2.06 2.06-.94-2.06-.94-.94-2.06-.94 2.06-2.06.94zm-11 1L8.5 8.5l.94-2.06 2.06-.94-2.06-.94L8.5 2.5l-.94 2.06-2.06.94zm10 10l.94 2.06.94-2.06 2.06-.94-2.06-.94-.94-2.06-.94 2.06-2.06.94z\"/><path d=\"M17.41 7.96l-1.37-1.37c-.4-.4-.92-.59-1.43-.59-.52 0-1.04.2-1.43.59L10.3 9.45l-7.72 7.72c-.78.78-.78 2.05 0 2.83L4 21.41c.39.39.9.59 1.41.59.51 0 1.02-.2 1.41-.59l7.78-7.78 2.81-2.81c.8-.78.8-2.07 0-2.86zM5.41 20L4 18.59l7.72-7.72 1.47 1.35L5.41 20z\"/>\n",
              "  </svg>\n",
              "      </button>\n",
              "      \n",
              "  <style>\n",
              "    .colab-df-container {\n",
              "      display:flex;\n",
              "      flex-wrap:wrap;\n",
              "      gap: 12px;\n",
              "    }\n",
              "\n",
              "    .colab-df-convert {\n",
              "      background-color: #E8F0FE;\n",
              "      border: none;\n",
              "      border-radius: 50%;\n",
              "      cursor: pointer;\n",
              "      display: none;\n",
              "      fill: #1967D2;\n",
              "      height: 32px;\n",
              "      padding: 0 0 0 0;\n",
              "      width: 32px;\n",
              "    }\n",
              "\n",
              "    .colab-df-convert:hover {\n",
              "      background-color: #E2EBFA;\n",
              "      box-shadow: 0px 1px 2px rgba(60, 64, 67, 0.3), 0px 1px 3px 1px rgba(60, 64, 67, 0.15);\n",
              "      fill: #174EA6;\n",
              "    }\n",
              "\n",
              "    [theme=dark] .colab-df-convert {\n",
              "      background-color: #3B4455;\n",
              "      fill: #D2E3FC;\n",
              "    }\n",
              "\n",
              "    [theme=dark] .colab-df-convert:hover {\n",
              "      background-color: #434B5C;\n",
              "      box-shadow: 0px 1px 3px 1px rgba(0, 0, 0, 0.15);\n",
              "      filter: drop-shadow(0px 1px 2px rgba(0, 0, 0, 0.3));\n",
              "      fill: #FFFFFF;\n",
              "    }\n",
              "  </style>\n",
              "\n",
              "      <script>\n",
              "        const buttonEl =\n",
              "          document.querySelector('#df-5cd9aec4-d49d-4f97-9a93-43d49420c188 button.colab-df-convert');\n",
              "        buttonEl.style.display =\n",
              "          google.colab.kernel.accessAllowed ? 'block' : 'none';\n",
              "\n",
              "        async function convertToInteractive(key) {\n",
              "          const element = document.querySelector('#df-5cd9aec4-d49d-4f97-9a93-43d49420c188');\n",
              "          const dataTable =\n",
              "            await google.colab.kernel.invokeFunction('convertToInteractive',\n",
              "                                                     [key], {});\n",
              "          if (!dataTable) return;\n",
              "\n",
              "          const docLinkHtml = 'Like what you see? Visit the ' +\n",
              "            '<a target=\"_blank\" href=https://colab.research.google.com/notebooks/data_table.ipynb>data table notebook</a>'\n",
              "            + ' to learn more about interactive tables.';\n",
              "          element.innerHTML = '';\n",
              "          dataTable['output_type'] = 'display_data';\n",
              "          await google.colab.output.renderOutput(dataTable, element);\n",
              "          const docLink = document.createElement('div');\n",
              "          docLink.innerHTML = docLinkHtml;\n",
              "          element.appendChild(docLink);\n",
              "        }\n",
              "      </script>\n",
              "    </div>\n",
              "  </div>\n",
              "  "
            ]
          },
          "metadata": {},
          "execution_count": 81
        }
      ]
    },
    {
      "cell_type": "markdown",
      "source": [
        "### 4.1.3 더위 및 추위 파생 변수 생성"
      ],
      "metadata": {
        "id": "fBDtFFLvN90C"
      }
    },
    {
      "cell_type": "code",
      "source": [
        "train['hot_score'] = train['high_temp'] * train['humidity']\n",
        "train['cold_score'] = train['wind_speed'] / train['low_temp'] "
      ],
      "metadata": {
        "id": "LrndJt5PIZe9"
      },
      "execution_count": 82,
      "outputs": []
    },
    {
      "cell_type": "code",
      "source": [
        "train.head()"
      ],
      "metadata": {
        "colab": {
          "base_uri": "https://localhost:8080/",
          "height": 270
        },
        "id": "l1mx7TkLIZe-",
        "outputId": "8e987ab1-939b-4921-d65a-505dca21cbd4"
      },
      "execution_count": 83,
      "outputs": [
        {
          "output_type": "execute_result",
          "data": {
            "text/plain": [
              "   wind_direction  sky_condition  precipitation_form  wind_speed  humidity  \\\n",
              "0         207.500          4.000               0.000       3.050    75.000   \n",
              "1         208.317          2.950               0.000       3.278    69.833   \n",
              "2         213.516          2.911               0.000       2.690    74.879   \n",
              "3         143.836          3.692               0.425       3.138    71.849   \n",
              "4          95.905          4.000               0.723       3.186    73.784   \n",
              "\n",
              "   low_temp  high_temp  Precipitation_Probability  number_of_rentals  year  \\\n",
              "0    12.600     21.000                     30.000              22994  2018   \n",
              "1    12.812     19.000                     19.500              28139  2018   \n",
              "2    10.312     15.316                     19.113              26817  2018   \n",
              "3     8.312     12.368                     43.493              26034  2018   \n",
              "4     5.875     10.421                     63.378               2833  2018   \n",
              "\n",
              "   month    hot_score  cold_score  \n",
              "0      4  1575.000000    0.242063  \n",
              "1      4  1326.827000    0.255854  \n",
              "2      4  1146.846764    0.260861  \n",
              "3      4   888.628432    0.377526  \n",
              "4      4   768.903064    0.542298  "
            ],
            "text/html": [
              "\n",
              "  <div id=\"df-3674b660-3143-4846-9d36-f00d7e4fed3f\">\n",
              "    <div class=\"colab-df-container\">\n",
              "      <div>\n",
              "<style scoped>\n",
              "    .dataframe tbody tr th:only-of-type {\n",
              "        vertical-align: middle;\n",
              "    }\n",
              "\n",
              "    .dataframe tbody tr th {\n",
              "        vertical-align: top;\n",
              "    }\n",
              "\n",
              "    .dataframe thead th {\n",
              "        text-align: right;\n",
              "    }\n",
              "</style>\n",
              "<table border=\"1\" class=\"dataframe\">\n",
              "  <thead>\n",
              "    <tr style=\"text-align: right;\">\n",
              "      <th></th>\n",
              "      <th>wind_direction</th>\n",
              "      <th>sky_condition</th>\n",
              "      <th>precipitation_form</th>\n",
              "      <th>wind_speed</th>\n",
              "      <th>humidity</th>\n",
              "      <th>low_temp</th>\n",
              "      <th>high_temp</th>\n",
              "      <th>Precipitation_Probability</th>\n",
              "      <th>number_of_rentals</th>\n",
              "      <th>year</th>\n",
              "      <th>month</th>\n",
              "      <th>hot_score</th>\n",
              "      <th>cold_score</th>\n",
              "    </tr>\n",
              "  </thead>\n",
              "  <tbody>\n",
              "    <tr>\n",
              "      <th>0</th>\n",
              "      <td>207.500</td>\n",
              "      <td>4.000</td>\n",
              "      <td>0.000</td>\n",
              "      <td>3.050</td>\n",
              "      <td>75.000</td>\n",
              "      <td>12.600</td>\n",
              "      <td>21.000</td>\n",
              "      <td>30.000</td>\n",
              "      <td>22994</td>\n",
              "      <td>2018</td>\n",
              "      <td>4</td>\n",
              "      <td>1575.000000</td>\n",
              "      <td>0.242063</td>\n",
              "    </tr>\n",
              "    <tr>\n",
              "      <th>1</th>\n",
              "      <td>208.317</td>\n",
              "      <td>2.950</td>\n",
              "      <td>0.000</td>\n",
              "      <td>3.278</td>\n",
              "      <td>69.833</td>\n",
              "      <td>12.812</td>\n",
              "      <td>19.000</td>\n",
              "      <td>19.500</td>\n",
              "      <td>28139</td>\n",
              "      <td>2018</td>\n",
              "      <td>4</td>\n",
              "      <td>1326.827000</td>\n",
              "      <td>0.255854</td>\n",
              "    </tr>\n",
              "    <tr>\n",
              "      <th>2</th>\n",
              "      <td>213.516</td>\n",
              "      <td>2.911</td>\n",
              "      <td>0.000</td>\n",
              "      <td>2.690</td>\n",
              "      <td>74.879</td>\n",
              "      <td>10.312</td>\n",
              "      <td>15.316</td>\n",
              "      <td>19.113</td>\n",
              "      <td>26817</td>\n",
              "      <td>2018</td>\n",
              "      <td>4</td>\n",
              "      <td>1146.846764</td>\n",
              "      <td>0.260861</td>\n",
              "    </tr>\n",
              "    <tr>\n",
              "      <th>3</th>\n",
              "      <td>143.836</td>\n",
              "      <td>3.692</td>\n",
              "      <td>0.425</td>\n",
              "      <td>3.138</td>\n",
              "      <td>71.849</td>\n",
              "      <td>8.312</td>\n",
              "      <td>12.368</td>\n",
              "      <td>43.493</td>\n",
              "      <td>26034</td>\n",
              "      <td>2018</td>\n",
              "      <td>4</td>\n",
              "      <td>888.628432</td>\n",
              "      <td>0.377526</td>\n",
              "    </tr>\n",
              "    <tr>\n",
              "      <th>4</th>\n",
              "      <td>95.905</td>\n",
              "      <td>4.000</td>\n",
              "      <td>0.723</td>\n",
              "      <td>3.186</td>\n",
              "      <td>73.784</td>\n",
              "      <td>5.875</td>\n",
              "      <td>10.421</td>\n",
              "      <td>63.378</td>\n",
              "      <td>2833</td>\n",
              "      <td>2018</td>\n",
              "      <td>4</td>\n",
              "      <td>768.903064</td>\n",
              "      <td>0.542298</td>\n",
              "    </tr>\n",
              "  </tbody>\n",
              "</table>\n",
              "</div>\n",
              "      <button class=\"colab-df-convert\" onclick=\"convertToInteractive('df-3674b660-3143-4846-9d36-f00d7e4fed3f')\"\n",
              "              title=\"Convert this dataframe to an interactive table.\"\n",
              "              style=\"display:none;\">\n",
              "        \n",
              "  <svg xmlns=\"http://www.w3.org/2000/svg\" height=\"24px\"viewBox=\"0 0 24 24\"\n",
              "       width=\"24px\">\n",
              "    <path d=\"M0 0h24v24H0V0z\" fill=\"none\"/>\n",
              "    <path d=\"M18.56 5.44l.94 2.06.94-2.06 2.06-.94-2.06-.94-.94-2.06-.94 2.06-2.06.94zm-11 1L8.5 8.5l.94-2.06 2.06-.94-2.06-.94L8.5 2.5l-.94 2.06-2.06.94zm10 10l.94 2.06.94-2.06 2.06-.94-2.06-.94-.94-2.06-.94 2.06-2.06.94z\"/><path d=\"M17.41 7.96l-1.37-1.37c-.4-.4-.92-.59-1.43-.59-.52 0-1.04.2-1.43.59L10.3 9.45l-7.72 7.72c-.78.78-.78 2.05 0 2.83L4 21.41c.39.39.9.59 1.41.59.51 0 1.02-.2 1.41-.59l7.78-7.78 2.81-2.81c.8-.78.8-2.07 0-2.86zM5.41 20L4 18.59l7.72-7.72 1.47 1.35L5.41 20z\"/>\n",
              "  </svg>\n",
              "      </button>\n",
              "      \n",
              "  <style>\n",
              "    .colab-df-container {\n",
              "      display:flex;\n",
              "      flex-wrap:wrap;\n",
              "      gap: 12px;\n",
              "    }\n",
              "\n",
              "    .colab-df-convert {\n",
              "      background-color: #E8F0FE;\n",
              "      border: none;\n",
              "      border-radius: 50%;\n",
              "      cursor: pointer;\n",
              "      display: none;\n",
              "      fill: #1967D2;\n",
              "      height: 32px;\n",
              "      padding: 0 0 0 0;\n",
              "      width: 32px;\n",
              "    }\n",
              "\n",
              "    .colab-df-convert:hover {\n",
              "      background-color: #E2EBFA;\n",
              "      box-shadow: 0px 1px 2px rgba(60, 64, 67, 0.3), 0px 1px 3px 1px rgba(60, 64, 67, 0.15);\n",
              "      fill: #174EA6;\n",
              "    }\n",
              "\n",
              "    [theme=dark] .colab-df-convert {\n",
              "      background-color: #3B4455;\n",
              "      fill: #D2E3FC;\n",
              "    }\n",
              "\n",
              "    [theme=dark] .colab-df-convert:hover {\n",
              "      background-color: #434B5C;\n",
              "      box-shadow: 0px 1px 3px 1px rgba(0, 0, 0, 0.15);\n",
              "      filter: drop-shadow(0px 1px 2px rgba(0, 0, 0, 0.3));\n",
              "      fill: #FFFFFF;\n",
              "    }\n",
              "  </style>\n",
              "\n",
              "      <script>\n",
              "        const buttonEl =\n",
              "          document.querySelector('#df-3674b660-3143-4846-9d36-f00d7e4fed3f button.colab-df-convert');\n",
              "        buttonEl.style.display =\n",
              "          google.colab.kernel.accessAllowed ? 'block' : 'none';\n",
              "\n",
              "        async function convertToInteractive(key) {\n",
              "          const element = document.querySelector('#df-3674b660-3143-4846-9d36-f00d7e4fed3f');\n",
              "          const dataTable =\n",
              "            await google.colab.kernel.invokeFunction('convertToInteractive',\n",
              "                                                     [key], {});\n",
              "          if (!dataTable) return;\n",
              "\n",
              "          const docLinkHtml = 'Like what you see? Visit the ' +\n",
              "            '<a target=\"_blank\" href=https://colab.research.google.com/notebooks/data_table.ipynb>data table notebook</a>'\n",
              "            + ' to learn more about interactive tables.';\n",
              "          element.innerHTML = '';\n",
              "          dataTable['output_type'] = 'display_data';\n",
              "          await google.colab.output.renderOutput(dataTable, element);\n",
              "          const docLink = document.createElement('div');\n",
              "          docLink.innerHTML = docLinkHtml;\n",
              "          element.appendChild(docLink);\n",
              "        }\n",
              "      </script>\n",
              "    </div>\n",
              "  </div>\n",
              "  "
            ]
          },
          "metadata": {},
          "execution_count": 83
        }
      ]
    },
    {
      "cell_type": "markdown",
      "source": [
        "## 4.2 Feature Selection"
      ],
      "metadata": {
        "id": "nFaGf9QwIZe_"
      }
    },
    {
      "cell_type": "code",
      "source": [
        "# X = train.drop(['number_of_rentals'], axis=1)\n",
        "X = train[['wind_direction', 'sky_condition', 'precipitation_form', 'wind_speed',\n",
        "       'humidity', 'low_temp', 'high_temp', 'Precipitation_Probability',\n",
        "       'year', 'month', 'hot_score', 'cold_score']]\n",
        "y = train['number_of_rentals']"
      ],
      "metadata": {
        "id": "Nx-g6wxiIZfA"
      },
      "execution_count": 85,
      "outputs": []
    },
    {
      "cell_type": "code",
      "source": [
        "train.columns"
      ],
      "metadata": {
        "colab": {
          "base_uri": "https://localhost:8080/"
        },
        "id": "42vZqfqfIZfA",
        "outputId": "d2d5e1c9-ec15-4649-ae19-769446fe6efa"
      },
      "execution_count": 84,
      "outputs": [
        {
          "output_type": "execute_result",
          "data": {
            "text/plain": [
              "Index(['wind_direction', 'sky_condition', 'precipitation_form', 'wind_speed',\n",
              "       'humidity', 'low_temp', 'high_temp', 'Precipitation_Probability',\n",
              "       'number_of_rentals', 'year', 'month', 'hot_score', 'cold_score'],\n",
              "      dtype='object')"
            ]
          },
          "metadata": {},
          "execution_count": 84
        }
      ]
    },
    {
      "cell_type": "markdown",
      "source": [
        "# 5.Modeling"
      ],
      "metadata": {
        "id": "slGGY9WTIZnq"
      }
    },
    {
      "cell_type": "markdown",
      "source": [
        "## 5.1 모델 선택"
      ],
      "metadata": {
        "id": "LwCU44y-IZnr"
      }
    },
    {
      "cell_type": "code",
      "source": [
        "from sklearn.ensemble import RandomForestRegressor\n",
        "\n",
        "model = RandomForestRegressor()"
      ],
      "metadata": {
        "id": "7OTs3ftxIZns"
      },
      "execution_count": 86,
      "outputs": []
    },
    {
      "cell_type": "markdown",
      "source": [
        "## 5.2 모델 학습"
      ],
      "metadata": {
        "id": "jb27xgr3IZns"
      }
    },
    {
      "cell_type": "code",
      "source": [
        "model.fit(X,y)"
      ],
      "metadata": {
        "colab": {
          "base_uri": "https://localhost:8080/"
        },
        "id": "kcmFGfWrIZns",
        "outputId": "d602a6af-b545-4603-d7e7-9c8aba4505e1"
      },
      "execution_count": 87,
      "outputs": [
        {
          "output_type": "execute_result",
          "data": {
            "text/plain": [
              "RandomForestRegressor()"
            ]
          },
          "metadata": {},
          "execution_count": 87
        }
      ]
    },
    {
      "cell_type": "markdown",
      "source": [
        "## 5.3 모델 예측"
      ],
      "metadata": {
        "id": "n6BDhj58IZr2"
      }
    },
    {
      "cell_type": "markdown",
      "source": [
        "### 5.3.1 test셋 데이터 처리"
      ],
      "metadata": {
        "id": "ERkOYA9tIZr3"
      }
    },
    {
      "cell_type": "markdown",
      "source": [
        "#### 5.3.1.1 데이터 전처리 과정에서"
      ],
      "metadata": {
        "id": "jutnZ7fhPU_Q"
      }
    },
    {
      "cell_type": "code",
      "source": [
        "# date_time 쪼개기 -> year, month, day\n",
        "test['year'] = test['date_time'].apply(lambda x : x.split('-')[0])\n",
        "test['month'] = test['date_time'].apply(lambda x : x.split('-')[1])\n",
        "test['day'] = test['date_time'].apply(lambda x : x.split('-')[2])\n",
        "\n",
        "# 요일 정보 추가\n",
        "week_day = pd.to_datetime(test['date_time']).dt.day_name()\n",
        "test['week_day'] = week_day\n",
        "\n",
        "# 가공한 변수 타입 변경\n",
        "test['year'] = test['year'].astype('int')\n",
        "test['month'] = test['month'].astype('int')\n",
        "test['day'] = test['day'].astype('int')\n",
        "\n",
        "test.loc[test['week_day'] == 'Sunday', 'week_day'] = 0\n",
        "test.loc[test['week_day'] == 'Monday', 'week_day'] = 1\n",
        "test.loc[test['week_day'] == 'Tuesday', 'week_day'] = 2\n",
        "test.loc[test['week_day'] == 'Wednesday', 'week_day'] = 3\n",
        "test.loc[test['week_day'] == 'Thursday', 'week_day'] = 4\n",
        "test.loc[test['week_day'] == 'Friday', 'week_day'] = 5\n",
        "test.loc[test['week_day'] == 'Saturday', 'week_day'] = 6\n",
        "test['week_day'] = test['week_day'].astype('int')\n",
        "\n",
        "test.head()"
      ],
      "metadata": {
        "colab": {
          "base_uri": "https://localhost:8080/",
          "height": 357
        },
        "id": "wyIS2LOwIZr3",
        "outputId": "30cccc44-fc86-4a63-aff1-69872fe82ff5"
      },
      "execution_count": 88,
      "outputs": [
        {
          "output_type": "execute_result",
          "data": {
            "text/plain": [
              "    date_time  wind_direction  sky_condition  precipitation_form  wind_speed  \\\n",
              "0  2021-04-01         108.833          3.000               0.000       2.900   \n",
              "1  2021-04-02         116.717          3.850               0.000       2.662   \n",
              "2  2021-04-03          82.669          4.000               0.565       2.165   \n",
              "3  2021-04-04          44.123          3.466               0.466       3.747   \n",
              "4  2021-04-05         147.791          1.500               0.000       1.560   \n",
              "\n",
              "   humidity  low_temp  high_temp  Precipitation_Probability  year  month  day  \\\n",
              "0    28.333    11.800     20.667                     18.333  2021      4    1   \n",
              "1    46.417    12.000     19.000                     28.500  2021      4    2   \n",
              "2    77.258     8.875     16.368                     52.847  2021      4    3   \n",
              "3    63.288     6.250     17.368                     37.671  2021      4    4   \n",
              "4    48.176     7.188     18.684                      4.459  2021      4    5   \n",
              "\n",
              "   week_day  \n",
              "0         4  \n",
              "1         5  \n",
              "2         6  \n",
              "3         0  \n",
              "4         1  "
            ],
            "text/html": [
              "\n",
              "  <div id=\"df-7143ee08-c51d-4b19-9840-46f707824996\">\n",
              "    <div class=\"colab-df-container\">\n",
              "      <div>\n",
              "<style scoped>\n",
              "    .dataframe tbody tr th:only-of-type {\n",
              "        vertical-align: middle;\n",
              "    }\n",
              "\n",
              "    .dataframe tbody tr th {\n",
              "        vertical-align: top;\n",
              "    }\n",
              "\n",
              "    .dataframe thead th {\n",
              "        text-align: right;\n",
              "    }\n",
              "</style>\n",
              "<table border=\"1\" class=\"dataframe\">\n",
              "  <thead>\n",
              "    <tr style=\"text-align: right;\">\n",
              "      <th></th>\n",
              "      <th>date_time</th>\n",
              "      <th>wind_direction</th>\n",
              "      <th>sky_condition</th>\n",
              "      <th>precipitation_form</th>\n",
              "      <th>wind_speed</th>\n",
              "      <th>humidity</th>\n",
              "      <th>low_temp</th>\n",
              "      <th>high_temp</th>\n",
              "      <th>Precipitation_Probability</th>\n",
              "      <th>year</th>\n",
              "      <th>month</th>\n",
              "      <th>day</th>\n",
              "      <th>week_day</th>\n",
              "    </tr>\n",
              "  </thead>\n",
              "  <tbody>\n",
              "    <tr>\n",
              "      <th>0</th>\n",
              "      <td>2021-04-01</td>\n",
              "      <td>108.833</td>\n",
              "      <td>3.000</td>\n",
              "      <td>0.000</td>\n",
              "      <td>2.900</td>\n",
              "      <td>28.333</td>\n",
              "      <td>11.800</td>\n",
              "      <td>20.667</td>\n",
              "      <td>18.333</td>\n",
              "      <td>2021</td>\n",
              "      <td>4</td>\n",
              "      <td>1</td>\n",
              "      <td>4</td>\n",
              "    </tr>\n",
              "    <tr>\n",
              "      <th>1</th>\n",
              "      <td>2021-04-02</td>\n",
              "      <td>116.717</td>\n",
              "      <td>3.850</td>\n",
              "      <td>0.000</td>\n",
              "      <td>2.662</td>\n",
              "      <td>46.417</td>\n",
              "      <td>12.000</td>\n",
              "      <td>19.000</td>\n",
              "      <td>28.500</td>\n",
              "      <td>2021</td>\n",
              "      <td>4</td>\n",
              "      <td>2</td>\n",
              "      <td>5</td>\n",
              "    </tr>\n",
              "    <tr>\n",
              "      <th>2</th>\n",
              "      <td>2021-04-03</td>\n",
              "      <td>82.669</td>\n",
              "      <td>4.000</td>\n",
              "      <td>0.565</td>\n",
              "      <td>2.165</td>\n",
              "      <td>77.258</td>\n",
              "      <td>8.875</td>\n",
              "      <td>16.368</td>\n",
              "      <td>52.847</td>\n",
              "      <td>2021</td>\n",
              "      <td>4</td>\n",
              "      <td>3</td>\n",
              "      <td>6</td>\n",
              "    </tr>\n",
              "    <tr>\n",
              "      <th>3</th>\n",
              "      <td>2021-04-04</td>\n",
              "      <td>44.123</td>\n",
              "      <td>3.466</td>\n",
              "      <td>0.466</td>\n",
              "      <td>3.747</td>\n",
              "      <td>63.288</td>\n",
              "      <td>6.250</td>\n",
              "      <td>17.368</td>\n",
              "      <td>37.671</td>\n",
              "      <td>2021</td>\n",
              "      <td>4</td>\n",
              "      <td>4</td>\n",
              "      <td>0</td>\n",
              "    </tr>\n",
              "    <tr>\n",
              "      <th>4</th>\n",
              "      <td>2021-04-05</td>\n",
              "      <td>147.791</td>\n",
              "      <td>1.500</td>\n",
              "      <td>0.000</td>\n",
              "      <td>1.560</td>\n",
              "      <td>48.176</td>\n",
              "      <td>7.188</td>\n",
              "      <td>18.684</td>\n",
              "      <td>4.459</td>\n",
              "      <td>2021</td>\n",
              "      <td>4</td>\n",
              "      <td>5</td>\n",
              "      <td>1</td>\n",
              "    </tr>\n",
              "  </tbody>\n",
              "</table>\n",
              "</div>\n",
              "      <button class=\"colab-df-convert\" onclick=\"convertToInteractive('df-7143ee08-c51d-4b19-9840-46f707824996')\"\n",
              "              title=\"Convert this dataframe to an interactive table.\"\n",
              "              style=\"display:none;\">\n",
              "        \n",
              "  <svg xmlns=\"http://www.w3.org/2000/svg\" height=\"24px\"viewBox=\"0 0 24 24\"\n",
              "       width=\"24px\">\n",
              "    <path d=\"M0 0h24v24H0V0z\" fill=\"none\"/>\n",
              "    <path d=\"M18.56 5.44l.94 2.06.94-2.06 2.06-.94-2.06-.94-.94-2.06-.94 2.06-2.06.94zm-11 1L8.5 8.5l.94-2.06 2.06-.94-2.06-.94L8.5 2.5l-.94 2.06-2.06.94zm10 10l.94 2.06.94-2.06 2.06-.94-2.06-.94-.94-2.06-.94 2.06-2.06.94z\"/><path d=\"M17.41 7.96l-1.37-1.37c-.4-.4-.92-.59-1.43-.59-.52 0-1.04.2-1.43.59L10.3 9.45l-7.72 7.72c-.78.78-.78 2.05 0 2.83L4 21.41c.39.39.9.59 1.41.59.51 0 1.02-.2 1.41-.59l7.78-7.78 2.81-2.81c.8-.78.8-2.07 0-2.86zM5.41 20L4 18.59l7.72-7.72 1.47 1.35L5.41 20z\"/>\n",
              "  </svg>\n",
              "      </button>\n",
              "      \n",
              "  <style>\n",
              "    .colab-df-container {\n",
              "      display:flex;\n",
              "      flex-wrap:wrap;\n",
              "      gap: 12px;\n",
              "    }\n",
              "\n",
              "    .colab-df-convert {\n",
              "      background-color: #E8F0FE;\n",
              "      border: none;\n",
              "      border-radius: 50%;\n",
              "      cursor: pointer;\n",
              "      display: none;\n",
              "      fill: #1967D2;\n",
              "      height: 32px;\n",
              "      padding: 0 0 0 0;\n",
              "      width: 32px;\n",
              "    }\n",
              "\n",
              "    .colab-df-convert:hover {\n",
              "      background-color: #E2EBFA;\n",
              "      box-shadow: 0px 1px 2px rgba(60, 64, 67, 0.3), 0px 1px 3px 1px rgba(60, 64, 67, 0.15);\n",
              "      fill: #174EA6;\n",
              "    }\n",
              "\n",
              "    [theme=dark] .colab-df-convert {\n",
              "      background-color: #3B4455;\n",
              "      fill: #D2E3FC;\n",
              "    }\n",
              "\n",
              "    [theme=dark] .colab-df-convert:hover {\n",
              "      background-color: #434B5C;\n",
              "      box-shadow: 0px 1px 3px 1px rgba(0, 0, 0, 0.15);\n",
              "      filter: drop-shadow(0px 1px 2px rgba(0, 0, 0, 0.3));\n",
              "      fill: #FFFFFF;\n",
              "    }\n",
              "  </style>\n",
              "\n",
              "      <script>\n",
              "        const buttonEl =\n",
              "          document.querySelector('#df-7143ee08-c51d-4b19-9840-46f707824996 button.colab-df-convert');\n",
              "        buttonEl.style.display =\n",
              "          google.colab.kernel.accessAllowed ? 'block' : 'none';\n",
              "\n",
              "        async function convertToInteractive(key) {\n",
              "          const element = document.querySelector('#df-7143ee08-c51d-4b19-9840-46f707824996');\n",
              "          const dataTable =\n",
              "            await google.colab.kernel.invokeFunction('convertToInteractive',\n",
              "                                                     [key], {});\n",
              "          if (!dataTable) return;\n",
              "\n",
              "          const docLinkHtml = 'Like what you see? Visit the ' +\n",
              "            '<a target=\"_blank\" href=https://colab.research.google.com/notebooks/data_table.ipynb>data table notebook</a>'\n",
              "            + ' to learn more about interactive tables.';\n",
              "          element.innerHTML = '';\n",
              "          dataTable['output_type'] = 'display_data';\n",
              "          await google.colab.output.renderOutput(dataTable, element);\n",
              "          const docLink = document.createElement('div');\n",
              "          docLink.innerHTML = docLinkHtml;\n",
              "          element.appendChild(docLink);\n",
              "        }\n",
              "      </script>\n",
              "    </div>\n",
              "  </div>\n",
              "  "
            ]
          },
          "metadata": {},
          "execution_count": 88
        }
      ]
    },
    {
      "cell_type": "markdown",
      "source": [
        "#### 5.4.1.2 Feature Fa"
      ],
      "metadata": {
        "id": "kGT5Y60OIZr4"
      }
    },
    {
      "cell_type": "code",
      "source": [
        "# 피쳐 제거\n",
        "test = test.drop(['week_day'],axis = 1)\n",
        "test = test.drop(['day'],axis = 1)\n",
        "test = test.drop(['date_time'],axis = 1)\n",
        "\n",
        "# 더위 점수\n",
        "test['hot_score'] = test['high_temp'] * test['humidity']\n",
        "\n",
        "# 추위 점수\n",
        "test['cold_score'] = test['wind_speed'] / test['low_temp']\n",
        "\n",
        "test.head()"
      ],
      "metadata": {
        "colab": {
          "base_uri": "https://localhost:8080/",
          "height": 270
        },
        "id": "r5R_RLLrIZr4",
        "outputId": "d19ee6ff-d41b-4ebd-f3d3-bb341b7484d8"
      },
      "execution_count": 89,
      "outputs": [
        {
          "output_type": "execute_result",
          "data": {
            "text/plain": [
              "   wind_direction  sky_condition  precipitation_form  wind_speed  humidity  \\\n",
              "0         108.833          3.000               0.000       2.900    28.333   \n",
              "1         116.717          3.850               0.000       2.662    46.417   \n",
              "2          82.669          4.000               0.565       2.165    77.258   \n",
              "3          44.123          3.466               0.466       3.747    63.288   \n",
              "4         147.791          1.500               0.000       1.560    48.176   \n",
              "\n",
              "   low_temp  high_temp  Precipitation_Probability  year  month    hot_score  \\\n",
              "0    11.800     20.667                     18.333  2021      4   585.558111   \n",
              "1    12.000     19.000                     28.500  2021      4   881.923000   \n",
              "2     8.875     16.368                     52.847  2021      4  1264.558944   \n",
              "3     6.250     17.368                     37.671  2021      4  1099.185984   \n",
              "4     7.188     18.684                      4.459  2021      4   900.120384   \n",
              "\n",
              "   cold_score  \n",
              "0    0.245763  \n",
              "1    0.221833  \n",
              "2    0.243944  \n",
              "3    0.599520  \n",
              "4    0.217028  "
            ],
            "text/html": [
              "\n",
              "  <div id=\"df-d4b5720f-70a0-49b5-b941-d91e9d1334d7\">\n",
              "    <div class=\"colab-df-container\">\n",
              "      <div>\n",
              "<style scoped>\n",
              "    .dataframe tbody tr th:only-of-type {\n",
              "        vertical-align: middle;\n",
              "    }\n",
              "\n",
              "    .dataframe tbody tr th {\n",
              "        vertical-align: top;\n",
              "    }\n",
              "\n",
              "    .dataframe thead th {\n",
              "        text-align: right;\n",
              "    }\n",
              "</style>\n",
              "<table border=\"1\" class=\"dataframe\">\n",
              "  <thead>\n",
              "    <tr style=\"text-align: right;\">\n",
              "      <th></th>\n",
              "      <th>wind_direction</th>\n",
              "      <th>sky_condition</th>\n",
              "      <th>precipitation_form</th>\n",
              "      <th>wind_speed</th>\n",
              "      <th>humidity</th>\n",
              "      <th>low_temp</th>\n",
              "      <th>high_temp</th>\n",
              "      <th>Precipitation_Probability</th>\n",
              "      <th>year</th>\n",
              "      <th>month</th>\n",
              "      <th>hot_score</th>\n",
              "      <th>cold_score</th>\n",
              "    </tr>\n",
              "  </thead>\n",
              "  <tbody>\n",
              "    <tr>\n",
              "      <th>0</th>\n",
              "      <td>108.833</td>\n",
              "      <td>3.000</td>\n",
              "      <td>0.000</td>\n",
              "      <td>2.900</td>\n",
              "      <td>28.333</td>\n",
              "      <td>11.800</td>\n",
              "      <td>20.667</td>\n",
              "      <td>18.333</td>\n",
              "      <td>2021</td>\n",
              "      <td>4</td>\n",
              "      <td>585.558111</td>\n",
              "      <td>0.245763</td>\n",
              "    </tr>\n",
              "    <tr>\n",
              "      <th>1</th>\n",
              "      <td>116.717</td>\n",
              "      <td>3.850</td>\n",
              "      <td>0.000</td>\n",
              "      <td>2.662</td>\n",
              "      <td>46.417</td>\n",
              "      <td>12.000</td>\n",
              "      <td>19.000</td>\n",
              "      <td>28.500</td>\n",
              "      <td>2021</td>\n",
              "      <td>4</td>\n",
              "      <td>881.923000</td>\n",
              "      <td>0.221833</td>\n",
              "    </tr>\n",
              "    <tr>\n",
              "      <th>2</th>\n",
              "      <td>82.669</td>\n",
              "      <td>4.000</td>\n",
              "      <td>0.565</td>\n",
              "      <td>2.165</td>\n",
              "      <td>77.258</td>\n",
              "      <td>8.875</td>\n",
              "      <td>16.368</td>\n",
              "      <td>52.847</td>\n",
              "      <td>2021</td>\n",
              "      <td>4</td>\n",
              "      <td>1264.558944</td>\n",
              "      <td>0.243944</td>\n",
              "    </tr>\n",
              "    <tr>\n",
              "      <th>3</th>\n",
              "      <td>44.123</td>\n",
              "      <td>3.466</td>\n",
              "      <td>0.466</td>\n",
              "      <td>3.747</td>\n",
              "      <td>63.288</td>\n",
              "      <td>6.250</td>\n",
              "      <td>17.368</td>\n",
              "      <td>37.671</td>\n",
              "      <td>2021</td>\n",
              "      <td>4</td>\n",
              "      <td>1099.185984</td>\n",
              "      <td>0.599520</td>\n",
              "    </tr>\n",
              "    <tr>\n",
              "      <th>4</th>\n",
              "      <td>147.791</td>\n",
              "      <td>1.500</td>\n",
              "      <td>0.000</td>\n",
              "      <td>1.560</td>\n",
              "      <td>48.176</td>\n",
              "      <td>7.188</td>\n",
              "      <td>18.684</td>\n",
              "      <td>4.459</td>\n",
              "      <td>2021</td>\n",
              "      <td>4</td>\n",
              "      <td>900.120384</td>\n",
              "      <td>0.217028</td>\n",
              "    </tr>\n",
              "  </tbody>\n",
              "</table>\n",
              "</div>\n",
              "      <button class=\"colab-df-convert\" onclick=\"convertToInteractive('df-d4b5720f-70a0-49b5-b941-d91e9d1334d7')\"\n",
              "              title=\"Convert this dataframe to an interactive table.\"\n",
              "              style=\"display:none;\">\n",
              "        \n",
              "  <svg xmlns=\"http://www.w3.org/2000/svg\" height=\"24px\"viewBox=\"0 0 24 24\"\n",
              "       width=\"24px\">\n",
              "    <path d=\"M0 0h24v24H0V0z\" fill=\"none\"/>\n",
              "    <path d=\"M18.56 5.44l.94 2.06.94-2.06 2.06-.94-2.06-.94-.94-2.06-.94 2.06-2.06.94zm-11 1L8.5 8.5l.94-2.06 2.06-.94-2.06-.94L8.5 2.5l-.94 2.06-2.06.94zm10 10l.94 2.06.94-2.06 2.06-.94-2.06-.94-.94-2.06-.94 2.06-2.06.94z\"/><path d=\"M17.41 7.96l-1.37-1.37c-.4-.4-.92-.59-1.43-.59-.52 0-1.04.2-1.43.59L10.3 9.45l-7.72 7.72c-.78.78-.78 2.05 0 2.83L4 21.41c.39.39.9.59 1.41.59.51 0 1.02-.2 1.41-.59l7.78-7.78 2.81-2.81c.8-.78.8-2.07 0-2.86zM5.41 20L4 18.59l7.72-7.72 1.47 1.35L5.41 20z\"/>\n",
              "  </svg>\n",
              "      </button>\n",
              "      \n",
              "  <style>\n",
              "    .colab-df-container {\n",
              "      display:flex;\n",
              "      flex-wrap:wrap;\n",
              "      gap: 12px;\n",
              "    }\n",
              "\n",
              "    .colab-df-convert {\n",
              "      background-color: #E8F0FE;\n",
              "      border: none;\n",
              "      border-radius: 50%;\n",
              "      cursor: pointer;\n",
              "      display: none;\n",
              "      fill: #1967D2;\n",
              "      height: 32px;\n",
              "      padding: 0 0 0 0;\n",
              "      width: 32px;\n",
              "    }\n",
              "\n",
              "    .colab-df-convert:hover {\n",
              "      background-color: #E2EBFA;\n",
              "      box-shadow: 0px 1px 2px rgba(60, 64, 67, 0.3), 0px 1px 3px 1px rgba(60, 64, 67, 0.15);\n",
              "      fill: #174EA6;\n",
              "    }\n",
              "\n",
              "    [theme=dark] .colab-df-convert {\n",
              "      background-color: #3B4455;\n",
              "      fill: #D2E3FC;\n",
              "    }\n",
              "\n",
              "    [theme=dark] .colab-df-convert:hover {\n",
              "      background-color: #434B5C;\n",
              "      box-shadow: 0px 1px 3px 1px rgba(0, 0, 0, 0.15);\n",
              "      filter: drop-shadow(0px 1px 2px rgba(0, 0, 0, 0.3));\n",
              "      fill: #FFFFFF;\n",
              "    }\n",
              "  </style>\n",
              "\n",
              "      <script>\n",
              "        const buttonEl =\n",
              "          document.querySelector('#df-d4b5720f-70a0-49b5-b941-d91e9d1334d7 button.colab-df-convert');\n",
              "        buttonEl.style.display =\n",
              "          google.colab.kernel.accessAllowed ? 'block' : 'none';\n",
              "\n",
              "        async function convertToInteractive(key) {\n",
              "          const element = document.querySelector('#df-d4b5720f-70a0-49b5-b941-d91e9d1334d7');\n",
              "          const dataTable =\n",
              "            await google.colab.kernel.invokeFunction('convertToInteractive',\n",
              "                                                     [key], {});\n",
              "          if (!dataTable) return;\n",
              "\n",
              "          const docLinkHtml = 'Like what you see? Visit the ' +\n",
              "            '<a target=\"_blank\" href=https://colab.research.google.com/notebooks/data_table.ipynb>data table notebook</a>'\n",
              "            + ' to learn more about interactive tables.';\n",
              "          element.innerHTML = '';\n",
              "          dataTable['output_type'] = 'display_data';\n",
              "          await google.colab.output.renderOutput(dataTable, element);\n",
              "          const docLink = document.createElement('div');\n",
              "          docLink.innerHTML = docLinkHtml;\n",
              "          element.appendChild(docLink);\n",
              "        }\n",
              "      </script>\n",
              "    </div>\n",
              "  </div>\n",
              "  "
            ]
          },
          "metadata": {},
          "execution_count": 89
        }
      ]
    },
    {
      "cell_type": "markdown",
      "source": [
        "### 5.3.2 test셋 예측"
      ],
      "metadata": {
        "id": "58qluI3ePDkP"
      }
    },
    {
      "cell_type": "code",
      "source": [
        "predict = model.predict(test)"
      ],
      "metadata": {
        "id": "q1my05J1PDkQ"
      },
      "execution_count": 90,
      "outputs": []
    },
    {
      "cell_type": "code",
      "source": [
        "submission['number_of_rentals'] = predict\n",
        "submission.head()"
      ],
      "metadata": {
        "colab": {
          "base_uri": "https://localhost:8080/",
          "height": 206
        },
        "id": "u2O9ZOZ7PDkQ",
        "outputId": "e6b169f8-ca37-405d-b96c-e77fb1afa411"
      },
      "execution_count": 91,
      "outputs": [
        {
          "output_type": "execute_result",
          "data": {
            "text/plain": [
              "    date_time  number_of_rentals\n",
              "0  2021-04-01           65113.57\n",
              "1  2021-04-02           62911.81\n",
              "2  2021-04-03           34039.90\n",
              "3  2021-04-04           34574.87\n",
              "4  2021-04-05           77999.01"
            ],
            "text/html": [
              "\n",
              "  <div id=\"df-689f6e5d-c968-4416-af1b-75603d460298\">\n",
              "    <div class=\"colab-df-container\">\n",
              "      <div>\n",
              "<style scoped>\n",
              "    .dataframe tbody tr th:only-of-type {\n",
              "        vertical-align: middle;\n",
              "    }\n",
              "\n",
              "    .dataframe tbody tr th {\n",
              "        vertical-align: top;\n",
              "    }\n",
              "\n",
              "    .dataframe thead th {\n",
              "        text-align: right;\n",
              "    }\n",
              "</style>\n",
              "<table border=\"1\" class=\"dataframe\">\n",
              "  <thead>\n",
              "    <tr style=\"text-align: right;\">\n",
              "      <th></th>\n",
              "      <th>date_time</th>\n",
              "      <th>number_of_rentals</th>\n",
              "    </tr>\n",
              "  </thead>\n",
              "  <tbody>\n",
              "    <tr>\n",
              "      <th>0</th>\n",
              "      <td>2021-04-01</td>\n",
              "      <td>65113.57</td>\n",
              "    </tr>\n",
              "    <tr>\n",
              "      <th>1</th>\n",
              "      <td>2021-04-02</td>\n",
              "      <td>62911.81</td>\n",
              "    </tr>\n",
              "    <tr>\n",
              "      <th>2</th>\n",
              "      <td>2021-04-03</td>\n",
              "      <td>34039.90</td>\n",
              "    </tr>\n",
              "    <tr>\n",
              "      <th>3</th>\n",
              "      <td>2021-04-04</td>\n",
              "      <td>34574.87</td>\n",
              "    </tr>\n",
              "    <tr>\n",
              "      <th>4</th>\n",
              "      <td>2021-04-05</td>\n",
              "      <td>77999.01</td>\n",
              "    </tr>\n",
              "  </tbody>\n",
              "</table>\n",
              "</div>\n",
              "      <button class=\"colab-df-convert\" onclick=\"convertToInteractive('df-689f6e5d-c968-4416-af1b-75603d460298')\"\n",
              "              title=\"Convert this dataframe to an interactive table.\"\n",
              "              style=\"display:none;\">\n",
              "        \n",
              "  <svg xmlns=\"http://www.w3.org/2000/svg\" height=\"24px\"viewBox=\"0 0 24 24\"\n",
              "       width=\"24px\">\n",
              "    <path d=\"M0 0h24v24H0V0z\" fill=\"none\"/>\n",
              "    <path d=\"M18.56 5.44l.94 2.06.94-2.06 2.06-.94-2.06-.94-.94-2.06-.94 2.06-2.06.94zm-11 1L8.5 8.5l.94-2.06 2.06-.94-2.06-.94L8.5 2.5l-.94 2.06-2.06.94zm10 10l.94 2.06.94-2.06 2.06-.94-2.06-.94-.94-2.06-.94 2.06-2.06.94z\"/><path d=\"M17.41 7.96l-1.37-1.37c-.4-.4-.92-.59-1.43-.59-.52 0-1.04.2-1.43.59L10.3 9.45l-7.72 7.72c-.78.78-.78 2.05 0 2.83L4 21.41c.39.39.9.59 1.41.59.51 0 1.02-.2 1.41-.59l7.78-7.78 2.81-2.81c.8-.78.8-2.07 0-2.86zM5.41 20L4 18.59l7.72-7.72 1.47 1.35L5.41 20z\"/>\n",
              "  </svg>\n",
              "      </button>\n",
              "      \n",
              "  <style>\n",
              "    .colab-df-container {\n",
              "      display:flex;\n",
              "      flex-wrap:wrap;\n",
              "      gap: 12px;\n",
              "    }\n",
              "\n",
              "    .colab-df-convert {\n",
              "      background-color: #E8F0FE;\n",
              "      border: none;\n",
              "      border-radius: 50%;\n",
              "      cursor: pointer;\n",
              "      display: none;\n",
              "      fill: #1967D2;\n",
              "      height: 32px;\n",
              "      padding: 0 0 0 0;\n",
              "      width: 32px;\n",
              "    }\n",
              "\n",
              "    .colab-df-convert:hover {\n",
              "      background-color: #E2EBFA;\n",
              "      box-shadow: 0px 1px 2px rgba(60, 64, 67, 0.3), 0px 1px 3px 1px rgba(60, 64, 67, 0.15);\n",
              "      fill: #174EA6;\n",
              "    }\n",
              "\n",
              "    [theme=dark] .colab-df-convert {\n",
              "      background-color: #3B4455;\n",
              "      fill: #D2E3FC;\n",
              "    }\n",
              "\n",
              "    [theme=dark] .colab-df-convert:hover {\n",
              "      background-color: #434B5C;\n",
              "      box-shadow: 0px 1px 3px 1px rgba(0, 0, 0, 0.15);\n",
              "      filter: drop-shadow(0px 1px 2px rgba(0, 0, 0, 0.3));\n",
              "      fill: #FFFFFF;\n",
              "    }\n",
              "  </style>\n",
              "\n",
              "      <script>\n",
              "        const buttonEl =\n",
              "          document.querySelector('#df-689f6e5d-c968-4416-af1b-75603d460298 button.colab-df-convert');\n",
              "        buttonEl.style.display =\n",
              "          google.colab.kernel.accessAllowed ? 'block' : 'none';\n",
              "\n",
              "        async function convertToInteractive(key) {\n",
              "          const element = document.querySelector('#df-689f6e5d-c968-4416-af1b-75603d460298');\n",
              "          const dataTable =\n",
              "            await google.colab.kernel.invokeFunction('convertToInteractive',\n",
              "                                                     [key], {});\n",
              "          if (!dataTable) return;\n",
              "\n",
              "          const docLinkHtml = 'Like what you see? Visit the ' +\n",
              "            '<a target=\"_blank\" href=https://colab.research.google.com/notebooks/data_table.ipynb>data table notebook</a>'\n",
              "            + ' to learn more about interactive tables.';\n",
              "          element.innerHTML = '';\n",
              "          dataTable['output_type'] = 'display_data';\n",
              "          await google.colab.output.renderOutput(dataTable, element);\n",
              "          const docLink = document.createElement('div');\n",
              "          docLink.innerHTML = docLinkHtml;\n",
              "          element.appendChild(docLink);\n",
              "        }\n",
              "      </script>\n",
              "    </div>\n",
              "  </div>\n",
              "  "
            ]
          },
          "metadata": {},
          "execution_count": 91
        }
      ]
    },
    {
      "cell_type": "code",
      "source": [
        "submission.to_csv('submission_2.csv', index=False)"
      ],
      "metadata": {
        "id": "Sheu3e1kPDq6"
      },
      "execution_count": 92,
      "outputs": []
    },
    {
      "cell_type": "markdown",
      "source": [
        "# 6.Modeling2"
      ],
      "metadata": {
        "id": "0jswBVbYRLIN"
      }
    },
    {
      "cell_type": "markdown",
      "source": [
        "## 5.1 모델 선택"
      ],
      "metadata": {
        "id": "e2MPcmjgRLIW"
      }
    },
    {
      "cell_type": "code",
      "source": [
        "from sklearn.linear_model import LinearRegression\n",
        "\n",
        "model = LinearRegression()"
      ],
      "metadata": {
        "id": "bDjfxZpERLIW"
      },
      "execution_count": 93,
      "outputs": []
    },
    {
      "cell_type": "markdown",
      "source": [
        "## 5.2 모델 학습"
      ],
      "metadata": {
        "id": "6iG8GJM7RLIW"
      }
    },
    {
      "cell_type": "code",
      "source": [
        "model.fit(X,y)"
      ],
      "metadata": {
        "colab": {
          "base_uri": "https://localhost:8080/"
        },
        "outputId": "03e715ce-dffb-4a9d-a11f-896ac056f203",
        "id": "yp6irmMoRLIW"
      },
      "execution_count": 94,
      "outputs": [
        {
          "output_type": "execute_result",
          "data": {
            "text/plain": [
              "LinearRegression()"
            ]
          },
          "metadata": {},
          "execution_count": 94
        }
      ]
    },
    {
      "cell_type": "markdown",
      "source": [
        "## 5.3 모델 예측"
      ],
      "metadata": {
        "id": "1V_5ztK9RLIX"
      }
    },
    {
      "cell_type": "markdown",
      "source": [
        "### 5.3.2 test셋 예측"
      ],
      "metadata": {
        "id": "teoUTNJERLIY"
      }
    },
    {
      "cell_type": "code",
      "source": [
        "predict = model.predict(test)"
      ],
      "metadata": {
        "id": "cPh4zFNZRLIY"
      },
      "execution_count": 95,
      "outputs": []
    },
    {
      "cell_type": "code",
      "source": [
        "submission['number_of_rentals'] = predict\n",
        "submission.head()"
      ],
      "metadata": {
        "colab": {
          "base_uri": "https://localhost:8080/",
          "height": 206
        },
        "outputId": "aabd490d-7938-4a1b-a1fa-9ca23ae2c167",
        "id": "isiUeOEjRLIY"
      },
      "execution_count": 96,
      "outputs": [
        {
          "output_type": "execute_result",
          "data": {
            "text/plain": [
              "    date_time  number_of_rentals\n",
              "0  2021-04-01       96175.644221\n",
              "1  2021-04-02       93845.209833\n",
              "2  2021-04-03       77136.792757\n",
              "3  2021-04-04       76208.340113\n",
              "4  2021-04-05      104855.476063"
            ],
            "text/html": [
              "\n",
              "  <div id=\"df-8100fd39-fa4c-4b73-ac59-d0b018b13666\">\n",
              "    <div class=\"colab-df-container\">\n",
              "      <div>\n",
              "<style scoped>\n",
              "    .dataframe tbody tr th:only-of-type {\n",
              "        vertical-align: middle;\n",
              "    }\n",
              "\n",
              "    .dataframe tbody tr th {\n",
              "        vertical-align: top;\n",
              "    }\n",
              "\n",
              "    .dataframe thead th {\n",
              "        text-align: right;\n",
              "    }\n",
              "</style>\n",
              "<table border=\"1\" class=\"dataframe\">\n",
              "  <thead>\n",
              "    <tr style=\"text-align: right;\">\n",
              "      <th></th>\n",
              "      <th>date_time</th>\n",
              "      <th>number_of_rentals</th>\n",
              "    </tr>\n",
              "  </thead>\n",
              "  <tbody>\n",
              "    <tr>\n",
              "      <th>0</th>\n",
              "      <td>2021-04-01</td>\n",
              "      <td>96175.644221</td>\n",
              "    </tr>\n",
              "    <tr>\n",
              "      <th>1</th>\n",
              "      <td>2021-04-02</td>\n",
              "      <td>93845.209833</td>\n",
              "    </tr>\n",
              "    <tr>\n",
              "      <th>2</th>\n",
              "      <td>2021-04-03</td>\n",
              "      <td>77136.792757</td>\n",
              "    </tr>\n",
              "    <tr>\n",
              "      <th>3</th>\n",
              "      <td>2021-04-04</td>\n",
              "      <td>76208.340113</td>\n",
              "    </tr>\n",
              "    <tr>\n",
              "      <th>4</th>\n",
              "      <td>2021-04-05</td>\n",
              "      <td>104855.476063</td>\n",
              "    </tr>\n",
              "  </tbody>\n",
              "</table>\n",
              "</div>\n",
              "      <button class=\"colab-df-convert\" onclick=\"convertToInteractive('df-8100fd39-fa4c-4b73-ac59-d0b018b13666')\"\n",
              "              title=\"Convert this dataframe to an interactive table.\"\n",
              "              style=\"display:none;\">\n",
              "        \n",
              "  <svg xmlns=\"http://www.w3.org/2000/svg\" height=\"24px\"viewBox=\"0 0 24 24\"\n",
              "       width=\"24px\">\n",
              "    <path d=\"M0 0h24v24H0V0z\" fill=\"none\"/>\n",
              "    <path d=\"M18.56 5.44l.94 2.06.94-2.06 2.06-.94-2.06-.94-.94-2.06-.94 2.06-2.06.94zm-11 1L8.5 8.5l.94-2.06 2.06-.94-2.06-.94L8.5 2.5l-.94 2.06-2.06.94zm10 10l.94 2.06.94-2.06 2.06-.94-2.06-.94-.94-2.06-.94 2.06-2.06.94z\"/><path d=\"M17.41 7.96l-1.37-1.37c-.4-.4-.92-.59-1.43-.59-.52 0-1.04.2-1.43.59L10.3 9.45l-7.72 7.72c-.78.78-.78 2.05 0 2.83L4 21.41c.39.39.9.59 1.41.59.51 0 1.02-.2 1.41-.59l7.78-7.78 2.81-2.81c.8-.78.8-2.07 0-2.86zM5.41 20L4 18.59l7.72-7.72 1.47 1.35L5.41 20z\"/>\n",
              "  </svg>\n",
              "      </button>\n",
              "      \n",
              "  <style>\n",
              "    .colab-df-container {\n",
              "      display:flex;\n",
              "      flex-wrap:wrap;\n",
              "      gap: 12px;\n",
              "    }\n",
              "\n",
              "    .colab-df-convert {\n",
              "      background-color: #E8F0FE;\n",
              "      border: none;\n",
              "      border-radius: 50%;\n",
              "      cursor: pointer;\n",
              "      display: none;\n",
              "      fill: #1967D2;\n",
              "      height: 32px;\n",
              "      padding: 0 0 0 0;\n",
              "      width: 32px;\n",
              "    }\n",
              "\n",
              "    .colab-df-convert:hover {\n",
              "      background-color: #E2EBFA;\n",
              "      box-shadow: 0px 1px 2px rgba(60, 64, 67, 0.3), 0px 1px 3px 1px rgba(60, 64, 67, 0.15);\n",
              "      fill: #174EA6;\n",
              "    }\n",
              "\n",
              "    [theme=dark] .colab-df-convert {\n",
              "      background-color: #3B4455;\n",
              "      fill: #D2E3FC;\n",
              "    }\n",
              "\n",
              "    [theme=dark] .colab-df-convert:hover {\n",
              "      background-color: #434B5C;\n",
              "      box-shadow: 0px 1px 3px 1px rgba(0, 0, 0, 0.15);\n",
              "      filter: drop-shadow(0px 1px 2px rgba(0, 0, 0, 0.3));\n",
              "      fill: #FFFFFF;\n",
              "    }\n",
              "  </style>\n",
              "\n",
              "      <script>\n",
              "        const buttonEl =\n",
              "          document.querySelector('#df-8100fd39-fa4c-4b73-ac59-d0b018b13666 button.colab-df-convert');\n",
              "        buttonEl.style.display =\n",
              "          google.colab.kernel.accessAllowed ? 'block' : 'none';\n",
              "\n",
              "        async function convertToInteractive(key) {\n",
              "          const element = document.querySelector('#df-8100fd39-fa4c-4b73-ac59-d0b018b13666');\n",
              "          const dataTable =\n",
              "            await google.colab.kernel.invokeFunction('convertToInteractive',\n",
              "                                                     [key], {});\n",
              "          if (!dataTable) return;\n",
              "\n",
              "          const docLinkHtml = 'Like what you see? Visit the ' +\n",
              "            '<a target=\"_blank\" href=https://colab.research.google.com/notebooks/data_table.ipynb>data table notebook</a>'\n",
              "            + ' to learn more about interactive tables.';\n",
              "          element.innerHTML = '';\n",
              "          dataTable['output_type'] = 'display_data';\n",
              "          await google.colab.output.renderOutput(dataTable, element);\n",
              "          const docLink = document.createElement('div');\n",
              "          docLink.innerHTML = docLinkHtml;\n",
              "          element.appendChild(docLink);\n",
              "        }\n",
              "      </script>\n",
              "    </div>\n",
              "  </div>\n",
              "  "
            ]
          },
          "metadata": {},
          "execution_count": 96
        }
      ]
    },
    {
      "cell_type": "code",
      "source": [
        "submission.to_csv('submission_3.csv', index=False)"
      ],
      "metadata": {
        "id": "PD_BFmNLRLIY"
      },
      "execution_count": 97,
      "outputs": []
    },
    {
      "cell_type": "markdown",
      "source": [
        "# Feature Engineering : Year Inflation"
      ],
      "metadata": {
        "id": "TrbaslbtPDq6"
      }
    },
    {
      "cell_type": "code",
      "source": [
        "x1 = sum(train[train['year']==2018]['number_of_rentals'])\n",
        "\n",
        "x2 = sum(train[train['year']==2019]['number_of_rentals'])\n",
        "\n",
        "x3 = sum(train[train['year']==2020]['number_of_rentals'])\n",
        "\n",
        "x4 = sum(submission['number_of_rentals']) ## 2021"
      ],
      "metadata": {
        "id": "md8UYAZVPDq7"
      },
      "execution_count": 99,
      "outputs": []
    },
    {
      "cell_type": "code",
      "source": [
        "x4"
      ],
      "metadata": {
        "colab": {
          "base_uri": "https://localhost:8080/"
        },
        "id": "q6ZnahOyPDum",
        "outputId": "776b5b32-68c7-45c2-b53a-b6e3960faafa"
      },
      "execution_count": 100,
      "outputs": [
        {
          "output_type": "execute_result",
          "data": {
            "text/plain": [
              "9685804.67883733"
            ]
          },
          "metadata": {},
          "execution_count": 100
        }
      ]
    },
    {
      "cell_type": "code",
      "source": [
        "print(x4/x1)\n",
        "print(x4/x2)\n",
        "print(x4/x3)"
      ],
      "metadata": {
        "colab": {
          "base_uri": "https://localhost:8080/"
        },
        "id": "rJJ6W4kqPDum",
        "outputId": "5d403616-426d-426a-a17c-b69afabe550b"
      },
      "execution_count": 101,
      "outputs": [
        {
          "output_type": "stream",
          "name": "stdout",
          "text": [
            "3.3859145348144577\n",
            "1.6157080615278123\n",
            "1.3073770268514862\n"
          ]
        }
      ]
    },
    {
      "cell_type": "code",
      "source": [
        "# lr\n",
        "def rental_rate_change(df):\n",
        "    y1 = df[df['year'] == 2018]['number_of_rentals'] * 3.3859145348144577\n",
        "    y2 = df[df['year'] == 2019]['number_of_rentals'] * 1.6157080615278123\n",
        "    y3 = df[df['year'] == 2020]['number_of_rentals'] * 1.3073770268514862\n",
        "    new = pd.concat([y1, y2, y3], axis=0).to_frame()\n",
        "    df['inflaction_rentals'] = new['number_of_rentals']\n",
        "    return True"
      ],
      "metadata": {
        "id": "EH-bSMKuPDun"
      },
      "execution_count": 102,
      "outputs": []
    },
    {
      "cell_type": "code",
      "source": [
        "rental_rate_change(train)"
      ],
      "metadata": {
        "colab": {
          "base_uri": "https://localhost:8080/"
        },
        "id": "WHmKQQTtPDyG",
        "outputId": "41dae547-5787-4223-ec3e-5b4c68f9bae9"
      },
      "execution_count": 103,
      "outputs": [
        {
          "output_type": "execute_result",
          "data": {
            "text/plain": [
              "True"
            ]
          },
          "metadata": {},
          "execution_count": 103
        }
      ]
    },
    {
      "cell_type": "code",
      "source": [
        "train.head()"
      ],
      "metadata": {
        "colab": {
          "base_uri": "https://localhost:8080/",
          "height": 270
        },
        "id": "xLGssUo6PDyH",
        "outputId": "ceac4bde-958b-4894-9b68-c0bcd61a7765"
      },
      "execution_count": 104,
      "outputs": [
        {
          "output_type": "execute_result",
          "data": {
            "text/plain": [
              "   wind_direction  sky_condition  precipitation_form  wind_speed  humidity  \\\n",
              "0         207.500          4.000               0.000       3.050    75.000   \n",
              "1         208.317          2.950               0.000       3.278    69.833   \n",
              "2         213.516          2.911               0.000       2.690    74.879   \n",
              "3         143.836          3.692               0.425       3.138    71.849   \n",
              "4          95.905          4.000               0.723       3.186    73.784   \n",
              "\n",
              "   low_temp  high_temp  Precipitation_Probability  number_of_rentals  year  \\\n",
              "0    12.600     21.000                     30.000              22994  2018   \n",
              "1    12.812     19.000                     19.500              28139  2018   \n",
              "2    10.312     15.316                     19.113              26817  2018   \n",
              "3     8.312     12.368                     43.493              26034  2018   \n",
              "4     5.875     10.421                     63.378               2833  2018   \n",
              "\n",
              "   month    hot_score  cold_score  inflaction_rentals  \n",
              "0      4  1575.000000    0.242063        77855.718814  \n",
              "1      4  1326.827000    0.255854        95276.249095  \n",
              "2      4  1146.846764    0.260861        90800.070080  \n",
              "3      4   888.628432    0.377526        88148.898999  \n",
              "4      4   768.903064    0.542298         9592.295877  "
            ],
            "text/html": [
              "\n",
              "  <div id=\"df-e90413ac-bc6e-48a7-8204-322600c952e9\">\n",
              "    <div class=\"colab-df-container\">\n",
              "      <div>\n",
              "<style scoped>\n",
              "    .dataframe tbody tr th:only-of-type {\n",
              "        vertical-align: middle;\n",
              "    }\n",
              "\n",
              "    .dataframe tbody tr th {\n",
              "        vertical-align: top;\n",
              "    }\n",
              "\n",
              "    .dataframe thead th {\n",
              "        text-align: right;\n",
              "    }\n",
              "</style>\n",
              "<table border=\"1\" class=\"dataframe\">\n",
              "  <thead>\n",
              "    <tr style=\"text-align: right;\">\n",
              "      <th></th>\n",
              "      <th>wind_direction</th>\n",
              "      <th>sky_condition</th>\n",
              "      <th>precipitation_form</th>\n",
              "      <th>wind_speed</th>\n",
              "      <th>humidity</th>\n",
              "      <th>low_temp</th>\n",
              "      <th>high_temp</th>\n",
              "      <th>Precipitation_Probability</th>\n",
              "      <th>number_of_rentals</th>\n",
              "      <th>year</th>\n",
              "      <th>month</th>\n",
              "      <th>hot_score</th>\n",
              "      <th>cold_score</th>\n",
              "      <th>inflaction_rentals</th>\n",
              "    </tr>\n",
              "  </thead>\n",
              "  <tbody>\n",
              "    <tr>\n",
              "      <th>0</th>\n",
              "      <td>207.500</td>\n",
              "      <td>4.000</td>\n",
              "      <td>0.000</td>\n",
              "      <td>3.050</td>\n",
              "      <td>75.000</td>\n",
              "      <td>12.600</td>\n",
              "      <td>21.000</td>\n",
              "      <td>30.000</td>\n",
              "      <td>22994</td>\n",
              "      <td>2018</td>\n",
              "      <td>4</td>\n",
              "      <td>1575.000000</td>\n",
              "      <td>0.242063</td>\n",
              "      <td>77855.718814</td>\n",
              "    </tr>\n",
              "    <tr>\n",
              "      <th>1</th>\n",
              "      <td>208.317</td>\n",
              "      <td>2.950</td>\n",
              "      <td>0.000</td>\n",
              "      <td>3.278</td>\n",
              "      <td>69.833</td>\n",
              "      <td>12.812</td>\n",
              "      <td>19.000</td>\n",
              "      <td>19.500</td>\n",
              "      <td>28139</td>\n",
              "      <td>2018</td>\n",
              "      <td>4</td>\n",
              "      <td>1326.827000</td>\n",
              "      <td>0.255854</td>\n",
              "      <td>95276.249095</td>\n",
              "    </tr>\n",
              "    <tr>\n",
              "      <th>2</th>\n",
              "      <td>213.516</td>\n",
              "      <td>2.911</td>\n",
              "      <td>0.000</td>\n",
              "      <td>2.690</td>\n",
              "      <td>74.879</td>\n",
              "      <td>10.312</td>\n",
              "      <td>15.316</td>\n",
              "      <td>19.113</td>\n",
              "      <td>26817</td>\n",
              "      <td>2018</td>\n",
              "      <td>4</td>\n",
              "      <td>1146.846764</td>\n",
              "      <td>0.260861</td>\n",
              "      <td>90800.070080</td>\n",
              "    </tr>\n",
              "    <tr>\n",
              "      <th>3</th>\n",
              "      <td>143.836</td>\n",
              "      <td>3.692</td>\n",
              "      <td>0.425</td>\n",
              "      <td>3.138</td>\n",
              "      <td>71.849</td>\n",
              "      <td>8.312</td>\n",
              "      <td>12.368</td>\n",
              "      <td>43.493</td>\n",
              "      <td>26034</td>\n",
              "      <td>2018</td>\n",
              "      <td>4</td>\n",
              "      <td>888.628432</td>\n",
              "      <td>0.377526</td>\n",
              "      <td>88148.898999</td>\n",
              "    </tr>\n",
              "    <tr>\n",
              "      <th>4</th>\n",
              "      <td>95.905</td>\n",
              "      <td>4.000</td>\n",
              "      <td>0.723</td>\n",
              "      <td>3.186</td>\n",
              "      <td>73.784</td>\n",
              "      <td>5.875</td>\n",
              "      <td>10.421</td>\n",
              "      <td>63.378</td>\n",
              "      <td>2833</td>\n",
              "      <td>2018</td>\n",
              "      <td>4</td>\n",
              "      <td>768.903064</td>\n",
              "      <td>0.542298</td>\n",
              "      <td>9592.295877</td>\n",
              "    </tr>\n",
              "  </tbody>\n",
              "</table>\n",
              "</div>\n",
              "      <button class=\"colab-df-convert\" onclick=\"convertToInteractive('df-e90413ac-bc6e-48a7-8204-322600c952e9')\"\n",
              "              title=\"Convert this dataframe to an interactive table.\"\n",
              "              style=\"display:none;\">\n",
              "        \n",
              "  <svg xmlns=\"http://www.w3.org/2000/svg\" height=\"24px\"viewBox=\"0 0 24 24\"\n",
              "       width=\"24px\">\n",
              "    <path d=\"M0 0h24v24H0V0z\" fill=\"none\"/>\n",
              "    <path d=\"M18.56 5.44l.94 2.06.94-2.06 2.06-.94-2.06-.94-.94-2.06-.94 2.06-2.06.94zm-11 1L8.5 8.5l.94-2.06 2.06-.94-2.06-.94L8.5 2.5l-.94 2.06-2.06.94zm10 10l.94 2.06.94-2.06 2.06-.94-2.06-.94-.94-2.06-.94 2.06-2.06.94z\"/><path d=\"M17.41 7.96l-1.37-1.37c-.4-.4-.92-.59-1.43-.59-.52 0-1.04.2-1.43.59L10.3 9.45l-7.72 7.72c-.78.78-.78 2.05 0 2.83L4 21.41c.39.39.9.59 1.41.59.51 0 1.02-.2 1.41-.59l7.78-7.78 2.81-2.81c.8-.78.8-2.07 0-2.86zM5.41 20L4 18.59l7.72-7.72 1.47 1.35L5.41 20z\"/>\n",
              "  </svg>\n",
              "      </button>\n",
              "      \n",
              "  <style>\n",
              "    .colab-df-container {\n",
              "      display:flex;\n",
              "      flex-wrap:wrap;\n",
              "      gap: 12px;\n",
              "    }\n",
              "\n",
              "    .colab-df-convert {\n",
              "      background-color: #E8F0FE;\n",
              "      border: none;\n",
              "      border-radius: 50%;\n",
              "      cursor: pointer;\n",
              "      display: none;\n",
              "      fill: #1967D2;\n",
              "      height: 32px;\n",
              "      padding: 0 0 0 0;\n",
              "      width: 32px;\n",
              "    }\n",
              "\n",
              "    .colab-df-convert:hover {\n",
              "      background-color: #E2EBFA;\n",
              "      box-shadow: 0px 1px 2px rgba(60, 64, 67, 0.3), 0px 1px 3px 1px rgba(60, 64, 67, 0.15);\n",
              "      fill: #174EA6;\n",
              "    }\n",
              "\n",
              "    [theme=dark] .colab-df-convert {\n",
              "      background-color: #3B4455;\n",
              "      fill: #D2E3FC;\n",
              "    }\n",
              "\n",
              "    [theme=dark] .colab-df-convert:hover {\n",
              "      background-color: #434B5C;\n",
              "      box-shadow: 0px 1px 3px 1px rgba(0, 0, 0, 0.15);\n",
              "      filter: drop-shadow(0px 1px 2px rgba(0, 0, 0, 0.3));\n",
              "      fill: #FFFFFF;\n",
              "    }\n",
              "  </style>\n",
              "\n",
              "      <script>\n",
              "        const buttonEl =\n",
              "          document.querySelector('#df-e90413ac-bc6e-48a7-8204-322600c952e9 button.colab-df-convert');\n",
              "        buttonEl.style.display =\n",
              "          google.colab.kernel.accessAllowed ? 'block' : 'none';\n",
              "\n",
              "        async function convertToInteractive(key) {\n",
              "          const element = document.querySelector('#df-e90413ac-bc6e-48a7-8204-322600c952e9');\n",
              "          const dataTable =\n",
              "            await google.colab.kernel.invokeFunction('convertToInteractive',\n",
              "                                                     [key], {});\n",
              "          if (!dataTable) return;\n",
              "\n",
              "          const docLinkHtml = 'Like what you see? Visit the ' +\n",
              "            '<a target=\"_blank\" href=https://colab.research.google.com/notebooks/data_table.ipynb>data table notebook</a>'\n",
              "            + ' to learn more about interactive tables.';\n",
              "          element.innerHTML = '';\n",
              "          dataTable['output_type'] = 'display_data';\n",
              "          await google.colab.output.renderOutput(dataTable, element);\n",
              "          const docLink = document.createElement('div');\n",
              "          docLink.innerHTML = docLinkHtml;\n",
              "          element.appendChild(docLink);\n",
              "        }\n",
              "      </script>\n",
              "    </div>\n",
              "  </div>\n",
              "  "
            ]
          },
          "metadata": {},
          "execution_count": 104
        }
      ]
    },
    {
      "cell_type": "code",
      "source": [
        "X = train.drop(['number_of_rentals', 'inflaction_rentals'], axis=1)\n",
        "y = train['inflaction_rentals']\n",
        "\n",
        "model = RandomForestRegressor()\n",
        "\n",
        "model.fit(X,y)\n",
        "\n",
        "predict = model.predict(test)\n",
        "\n",
        "submission['number_of_rentals'] = predict\n",
        "submission.head()"
      ],
      "metadata": {
        "colab": {
          "base_uri": "https://localhost:8080/",
          "height": 206
        },
        "id": "J6-cNzgOPDyH",
        "outputId": "9c815398-0868-47cd-c43e-98b05982c5d4"
      },
      "execution_count": 106,
      "outputs": [
        {
          "output_type": "execute_result",
          "data": {
            "text/plain": [
              "    date_time  number_of_rentals\n",
              "0  2021-04-01       97583.486129\n",
              "1  2021-04-02       92752.354807\n",
              "2  2021-04-03       45785.459120\n",
              "3  2021-04-04       49762.631820\n",
              "4  2021-04-05       96384.240448"
            ],
            "text/html": [
              "\n",
              "  <div id=\"df-6dc156dd-bffc-4c3e-9e3c-1c2de831885d\">\n",
              "    <div class=\"colab-df-container\">\n",
              "      <div>\n",
              "<style scoped>\n",
              "    .dataframe tbody tr th:only-of-type {\n",
              "        vertical-align: middle;\n",
              "    }\n",
              "\n",
              "    .dataframe tbody tr th {\n",
              "        vertical-align: top;\n",
              "    }\n",
              "\n",
              "    .dataframe thead th {\n",
              "        text-align: right;\n",
              "    }\n",
              "</style>\n",
              "<table border=\"1\" class=\"dataframe\">\n",
              "  <thead>\n",
              "    <tr style=\"text-align: right;\">\n",
              "      <th></th>\n",
              "      <th>date_time</th>\n",
              "      <th>number_of_rentals</th>\n",
              "    </tr>\n",
              "  </thead>\n",
              "  <tbody>\n",
              "    <tr>\n",
              "      <th>0</th>\n",
              "      <td>2021-04-01</td>\n",
              "      <td>97583.486129</td>\n",
              "    </tr>\n",
              "    <tr>\n",
              "      <th>1</th>\n",
              "      <td>2021-04-02</td>\n",
              "      <td>92752.354807</td>\n",
              "    </tr>\n",
              "    <tr>\n",
              "      <th>2</th>\n",
              "      <td>2021-04-03</td>\n",
              "      <td>45785.459120</td>\n",
              "    </tr>\n",
              "    <tr>\n",
              "      <th>3</th>\n",
              "      <td>2021-04-04</td>\n",
              "      <td>49762.631820</td>\n",
              "    </tr>\n",
              "    <tr>\n",
              "      <th>4</th>\n",
              "      <td>2021-04-05</td>\n",
              "      <td>96384.240448</td>\n",
              "    </tr>\n",
              "  </tbody>\n",
              "</table>\n",
              "</div>\n",
              "      <button class=\"colab-df-convert\" onclick=\"convertToInteractive('df-6dc156dd-bffc-4c3e-9e3c-1c2de831885d')\"\n",
              "              title=\"Convert this dataframe to an interactive table.\"\n",
              "              style=\"display:none;\">\n",
              "        \n",
              "  <svg xmlns=\"http://www.w3.org/2000/svg\" height=\"24px\"viewBox=\"0 0 24 24\"\n",
              "       width=\"24px\">\n",
              "    <path d=\"M0 0h24v24H0V0z\" fill=\"none\"/>\n",
              "    <path d=\"M18.56 5.44l.94 2.06.94-2.06 2.06-.94-2.06-.94-.94-2.06-.94 2.06-2.06.94zm-11 1L8.5 8.5l.94-2.06 2.06-.94-2.06-.94L8.5 2.5l-.94 2.06-2.06.94zm10 10l.94 2.06.94-2.06 2.06-.94-2.06-.94-.94-2.06-.94 2.06-2.06.94z\"/><path d=\"M17.41 7.96l-1.37-1.37c-.4-.4-.92-.59-1.43-.59-.52 0-1.04.2-1.43.59L10.3 9.45l-7.72 7.72c-.78.78-.78 2.05 0 2.83L4 21.41c.39.39.9.59 1.41.59.51 0 1.02-.2 1.41-.59l7.78-7.78 2.81-2.81c.8-.78.8-2.07 0-2.86zM5.41 20L4 18.59l7.72-7.72 1.47 1.35L5.41 20z\"/>\n",
              "  </svg>\n",
              "      </button>\n",
              "      \n",
              "  <style>\n",
              "    .colab-df-container {\n",
              "      display:flex;\n",
              "      flex-wrap:wrap;\n",
              "      gap: 12px;\n",
              "    }\n",
              "\n",
              "    .colab-df-convert {\n",
              "      background-color: #E8F0FE;\n",
              "      border: none;\n",
              "      border-radius: 50%;\n",
              "      cursor: pointer;\n",
              "      display: none;\n",
              "      fill: #1967D2;\n",
              "      height: 32px;\n",
              "      padding: 0 0 0 0;\n",
              "      width: 32px;\n",
              "    }\n",
              "\n",
              "    .colab-df-convert:hover {\n",
              "      background-color: #E2EBFA;\n",
              "      box-shadow: 0px 1px 2px rgba(60, 64, 67, 0.3), 0px 1px 3px 1px rgba(60, 64, 67, 0.15);\n",
              "      fill: #174EA6;\n",
              "    }\n",
              "\n",
              "    [theme=dark] .colab-df-convert {\n",
              "      background-color: #3B4455;\n",
              "      fill: #D2E3FC;\n",
              "    }\n",
              "\n",
              "    [theme=dark] .colab-df-convert:hover {\n",
              "      background-color: #434B5C;\n",
              "      box-shadow: 0px 1px 3px 1px rgba(0, 0, 0, 0.15);\n",
              "      filter: drop-shadow(0px 1px 2px rgba(0, 0, 0, 0.3));\n",
              "      fill: #FFFFFF;\n",
              "    }\n",
              "  </style>\n",
              "\n",
              "      <script>\n",
              "        const buttonEl =\n",
              "          document.querySelector('#df-6dc156dd-bffc-4c3e-9e3c-1c2de831885d button.colab-df-convert');\n",
              "        buttonEl.style.display =\n",
              "          google.colab.kernel.accessAllowed ? 'block' : 'none';\n",
              "\n",
              "        async function convertToInteractive(key) {\n",
              "          const element = document.querySelector('#df-6dc156dd-bffc-4c3e-9e3c-1c2de831885d');\n",
              "          const dataTable =\n",
              "            await google.colab.kernel.invokeFunction('convertToInteractive',\n",
              "                                                     [key], {});\n",
              "          if (!dataTable) return;\n",
              "\n",
              "          const docLinkHtml = 'Like what you see? Visit the ' +\n",
              "            '<a target=\"_blank\" href=https://colab.research.google.com/notebooks/data_table.ipynb>data table notebook</a>'\n",
              "            + ' to learn more about interactive tables.';\n",
              "          element.innerHTML = '';\n",
              "          dataTable['output_type'] = 'display_data';\n",
              "          await google.colab.output.renderOutput(dataTable, element);\n",
              "          const docLink = document.createElement('div');\n",
              "          docLink.innerHTML = docLinkHtml;\n",
              "          element.appendChild(docLink);\n",
              "        }\n",
              "      </script>\n",
              "    </div>\n",
              "  </div>\n",
              "  "
            ]
          },
          "metadata": {},
          "execution_count": 106
        }
      ]
    },
    {
      "cell_type": "code",
      "source": [
        "submission.to_csv('submission_4.csv', index=False)"
      ],
      "metadata": {
        "id": "q-kwyQpQTFDR"
      },
      "execution_count": 107,
      "outputs": []
    },
    {
      "cell_type": "code",
      "source": [
        ""
      ],
      "metadata": {
        "id": "f3cYnbxsTNIs"
      },
      "execution_count": null,
      "outputs": []
    }
  ]
}